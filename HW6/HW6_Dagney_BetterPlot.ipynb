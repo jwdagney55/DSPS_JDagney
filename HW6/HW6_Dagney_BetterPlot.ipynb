{
  "nbformat": 4,
  "nbformat_minor": 0,
  "metadata": {
    "colab": {
      "name": "HW6-Dagney-BetterPlot.ipynb",
      "provenance": [],
      "collapsed_sections": [],
      "authorship_tag": "ABX9TyMHsEmvNJRGNRJeAinWzt5S",
      "include_colab_link": true
    },
    "kernelspec": {
      "name": "python3",
      "display_name": "Python 3"
    },
    "language_info": {
      "name": "python"
    }
  },
  "cells": [
    {
      "cell_type": "markdown",
      "metadata": {
        "id": "view-in-github",
        "colab_type": "text"
      },
      "source": [
        "<a href=\"https://colab.research.google.com/github/jwdagney55/DSPS_JDagney/blob/main/HW6/HW6_Dagney_BetterPlot.ipynb\" target=\"_parent\"><img src=\"https://colab.research.google.com/assets/colab-badge.svg\" alt=\"Open In Colab\"/></a>"
      ]
    },
    {
      "cell_type": "code",
      "metadata": {
        "colab": {
          "base_uri": "https://localhost:8080/"
        },
        "id": "e4nrYs5SU55y",
        "outputId": "aa66b844-909b-4823-f1a9-20cc8820f522"
      },
      "source": [
        "import pandas as pd\n",
        "import numpy as np\n",
        "import pylab as pl\n",
        "%pylab inline"
      ],
      "execution_count": 1,
      "outputs": [
        {
          "output_type": "stream",
          "name": "stdout",
          "text": [
            "Populating the interactive namespace from numpy and matplotlib\n"
          ]
        }
      ]
    },
    {
      "cell_type": "code",
      "metadata": {
        "id": "INvKaTL3VNsR"
      },
      "source": [
        "mw = pd.read_csv('https://raw.githubusercontent.com/fedhere/DSPS_FBianco/master/HW4/mw.csv')"
      ],
      "execution_count": 2,
      "outputs": []
    },
    {
      "cell_type": "code",
      "metadata": {
        "id": "-fRTlLH6VUMG"
      },
      "source": [
        "mw = mw[['#MW', 'Grand', 'Rotation', 'Curve']].rename({'#MW':\"r\", 'Grand':'v', 'Rotation':'dv', 'Curve':'err'},axis=1)\n",
        "mw = mw[1:]"
      ],
      "execution_count": 3,
      "outputs": []
    },
    {
      "cell_type": "code",
      "metadata": {
        "colab": {
          "base_uri": "https://localhost:8080/",
          "height": 202
        },
        "id": "lmkn4JQ8VXE6",
        "outputId": "c0b7735d-246e-4d42-f391-8d291a050c45"
      },
      "source": [
        "mw[\"r\"] = [float(mw.iloc[i].r) for i in range(mw.shape[0])]\n",
        "mw[\"v\"] = [float(mw.iloc[i].v) for i in range(mw.shape[0])]\n",
        "mw[\"dv\"] = [float(mw.iloc[i].dv) for i in range(mw.shape[0])]\n",
        "mw[\"err\"] = [float(mw.iloc[i].err) for i in range(mw.shape[0])]\n",
        "mw.head()"
      ],
      "execution_count": 4,
      "outputs": [
        {
          "output_type": "execute_result",
          "data": {
            "text/html": [
              "<div>\n",
              "<style scoped>\n",
              "    .dataframe tbody tr th:only-of-type {\n",
              "        vertical-align: middle;\n",
              "    }\n",
              "\n",
              "    .dataframe tbody tr th {\n",
              "        vertical-align: top;\n",
              "    }\n",
              "\n",
              "    .dataframe thead th {\n",
              "        text-align: right;\n",
              "    }\n",
              "</style>\n",
              "<table border=\"1\" class=\"dataframe\">\n",
              "  <thead>\n",
              "    <tr style=\"text-align: right;\">\n",
              "      <th></th>\n",
              "      <th>r</th>\n",
              "      <th>v</th>\n",
              "      <th>dv</th>\n",
              "      <th>err</th>\n",
              "    </tr>\n",
              "  </thead>\n",
              "  <tbody>\n",
              "    <tr>\n",
              "      <th>1</th>\n",
              "      <td>0.010</td>\n",
              "      <td>119.061</td>\n",
              "      <td>41.832</td>\n",
              "      <td>32.714</td>\n",
              "    </tr>\n",
              "    <tr>\n",
              "      <th>2</th>\n",
              "      <td>0.012</td>\n",
              "      <td>115.268</td>\n",
              "      <td>35.199</td>\n",
              "      <td>17.100</td>\n",
              "    </tr>\n",
              "    <tr>\n",
              "      <th>3</th>\n",
              "      <td>0.014</td>\n",
              "      <td>117.392</td>\n",
              "      <td>35.152</td>\n",
              "      <td>14.429</td>\n",
              "    </tr>\n",
              "    <tr>\n",
              "      <th>4</th>\n",
              "      <td>0.017</td>\n",
              "      <td>118.475</td>\n",
              "      <td>35.252</td>\n",
              "      <td>14.870</td>\n",
              "    </tr>\n",
              "    <tr>\n",
              "      <th>5</th>\n",
              "      <td>0.021</td>\n",
              "      <td>110.386</td>\n",
              "      <td>33.817</td>\n",
              "      <td>14.427</td>\n",
              "    </tr>\n",
              "  </tbody>\n",
              "</table>\n",
              "</div>"
            ],
            "text/plain": [
              "       r        v      dv     err\n",
              "1  0.010  119.061  41.832  32.714\n",
              "2  0.012  115.268  35.199  17.100\n",
              "3  0.014  117.392  35.152  14.429\n",
              "4  0.017  118.475  35.252  14.870\n",
              "5  0.021  110.386  33.817  14.427"
            ]
          },
          "metadata": {},
          "execution_count": 4
        }
      ]
    },
    {
      "cell_type": "code",
      "metadata": {
        "id": "7q9fE43SVygk"
      },
      "source": [
        "mwRds = 56.70 / 2 #Kpc"
      ],
      "execution_count": 5,
      "outputs": []
    },
    {
      "cell_type": "code",
      "metadata": {
        "id": "1P9DQQ4CV_Ve"
      },
      "source": [
        "def getradii(gal, gsize, n):\n",
        "  '''returns distance, sqrt(distance) (uncertainty), velocity, err, and dv'''\n",
        "  d = gal.iloc[0].r\n",
        "  index = 1\n",
        "  while(d <= n * gsize):\n",
        "    #print(d, \" is less than \", n * gsize)\n",
        "    d = gal.iloc[index].r\n",
        "    index+=1\n",
        "\n",
        "  return d, np.sqrt(d), gal.iloc[index-1].v, gal.iloc[index-1].err, gal.iloc[index-1].dv"
      ],
      "execution_count": 34,
      "outputs": []
    },
    {
      "cell_type": "code",
      "metadata": {
        "id": "HLkRpDi_VdxZ"
      },
      "source": [
        "def plotGal(gal, rds):\n",
        "  fig, ax = pl.subplots(figsize=(10,8))\n",
        "  r = gal.r[16:]\n",
        "  v = gal.v[16:]\n",
        "  e = gal.err[16:]\n",
        "  dv = gal.dv[16:]\n",
        "  pl.xlim((0,4*mwRds))\n",
        "  pl.ylim((0,350))\n",
        "  pl.plot(r, v, 'k', markersize='5' ,label='v')\n",
        "  ax.errorbar(r, v, fmt='.', yerr=e, color = 'black',  elinewidth =4)\n",
        "  ax.errorbar(r, v,fmt='.', yerr=dv , color = 'black', elinewidth=1)\n",
        "  n1 = getradii(gal, rds, 1)\n",
        "  n2 = getradii(gal, rds, 2)\n",
        "  n3 = getradii(gal, rds, 3)\n",
        "\n",
        "  ax.errorbar(n1[0], n1[2], yerr = 0, fmt='o', color = 'steelblue', markersize=10, label = 'radius')\n",
        "  ax.errorbar(n2[0], n2[2], yerr = 0, color = 'IndianRed', fmt='o', markersize=10, label = '2xradius')\n",
        "  ax.errorbar(n3[0], n3[2], yerr = 0, color = 'Olive', fmt='o', markersize=10, label = '3xradius')\n",
        "  pl.text(n1[0]-5, n1[2]-n1[4]-20, \"{}\\n({},{})\".format(n1[2],n1[4], n1[3]))\n",
        "  pl.text(n2[0]-5, n2[2]-n2[4]-20, \"{}\\n({},{})\".format(n2[2],n2[4], n2[3]))\n",
        "  pl.text(n3[0]-5, n3[2]-n3[4]-20, \"{}\\n({},{})\".format(n3[2],n3[4], n3[3]))\n",
        "  pl.text(10, 100, \"Velocity (km/s)\\n(dv, err)\")\n",
        "  pl.xlabel(\"Distance to Center (Kpc)\")\n",
        "  pl.ylabel(\"Velocity (km/s)\")\n",
        "  pl.legend(fontsize=15)"
      ],
      "execution_count": 109,
      "outputs": []
    },
    {
      "cell_type": "code",
      "metadata": {
        "colab": {
          "base_uri": "https://localhost:8080/",
          "height": 501
        },
        "id": "1NscVgi4V0EY",
        "outputId": "13097b67-e7c8-4347-a535-25b41125503a"
      },
      "source": [
        "plotGal(mw, mwRds)"
      ],
      "execution_count": 110,
      "outputs": [
        {
          "output_type": "display_data",
          "data": {
            "image/png": "[encoded data removed]",
            "text/plain": [
              "<Figure size 720x576 with 1 Axes>"
            ]
          },
          "metadata": {
            "needs_background": "light"
          }
        }
      ]
    },
    {
      "cell_type": "code",
      "metadata": {
        "id": "Ajwe49SQV2cF"
      },
      "source": [
        ""
      ],
      "execution_count": 70,
      "outputs": []
    }
  ]
}