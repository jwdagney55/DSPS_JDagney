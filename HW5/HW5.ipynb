{
  "nbformat": 4,
  "nbformat_minor": 0,
  "metadata": {
    "colab": {
      "name": "HW5.ipynb",
      "provenance": [],
      "collapsed_sections": [],
      "authorship_tag": "ABX9TyMwFZ58gqgJKK1P91oxyYsH",
      "include_colab_link": true
    },
    "kernelspec": {
      "name": "python3",
      "display_name": "Python 3"
    },
    "language_info": {
      "name": "python"
    }
  },
  "cells": [
    {
      "cell_type": "markdown",
      "metadata": {
        "id": "view-in-github",
        "colab_type": "text"
      },
      "source": [
        "<a href=\"https://colab.research.google.com/github/jwdagney55/DSPS_JDagney/blob/main/HW5/HW5.ipynb\" target=\"_parent\"><img src=\"https://colab.research.google.com/assets/colab-badge.svg\" alt=\"Open In Colab\"/></a>"
      ]
    },
    {
      "cell_type": "markdown",
      "metadata": {
        "id": "7hJ7hikBzN99"
      },
      "source": [
        "# PHYS461 Homework 5\n",
        "Jarod Dagney"
      ]
    },
    {
      "cell_type": "code",
      "metadata": {
        "id": "aN07Ia-YnLnh"
      },
      "source": [
        "import pandas as pd\n",
        "import numpy as np\n",
        "import matplotlib.pyplot as plt"
      ],
      "execution_count": 1,
      "outputs": []
    },
    {
      "cell_type": "code",
      "metadata": {
        "id": "uiTupfBWnZ7X"
      },
      "source": [
        "table1 = pd.read_csv(\"https://raw.githubusercontent.com/fedhere/DSPS_FBianco/master/HW5/hbl2017.csv\")"
      ],
      "execution_count": 2,
      "outputs": []
    },
    {
      "cell_type": "code",
      "metadata": {
        "colab": {
          "base_uri": "https://localhost:8080/",
          "height": 220
        },
        "id": "Z9I1MG-fn7-v",
        "outputId": "e01bfe47-86a8-4ade-d6bc-9756265b347b"
      },
      "source": [
        "print(table1.shape)\n",
        "table1.head()"
      ],
      "execution_count": 3,
      "outputs": [
        {
          "output_type": "stream",
          "name": "stdout",
          "text": [
            "(20, 6)\n"
          ]
        },
        {
          "output_type": "execute_result",
          "data": {
            "text/html": [
              "<div>\n",
              "<style scoped>\n",
              "    .dataframe tbody tr th:only-of-type {\n",
              "        vertical-align: middle;\n",
              "    }\n",
              "\n",
              "    .dataframe tbody tr th {\n",
              "        vertical-align: top;\n",
              "    }\n",
              "\n",
              "    .dataframe thead th {\n",
              "        text-align: right;\n",
              "    }\n",
              "</style>\n",
              "<table border=\"1\" class=\"dataframe\">\n",
              "  <thead>\n",
              "    <tr style=\"text-align: right;\">\n",
              "      <th></th>\n",
              "      <th>#ID</th>\n",
              "      <th>x</th>\n",
              "      <th>y</th>\n",
              "      <th>σy</th>\n",
              "      <th>σx</th>\n",
              "      <th>ρxy</th>\n",
              "    </tr>\n",
              "  </thead>\n",
              "  <tbody>\n",
              "    <tr>\n",
              "      <th>0</th>\n",
              "      <td>1</td>\n",
              "      <td>201</td>\n",
              "      <td>592</td>\n",
              "      <td>61</td>\n",
              "      <td>9</td>\n",
              "      <td>-0.84</td>\n",
              "    </tr>\n",
              "    <tr>\n",
              "      <th>1</th>\n",
              "      <td>2</td>\n",
              "      <td>244</td>\n",
              "      <td>401</td>\n",
              "      <td>25</td>\n",
              "      <td>4</td>\n",
              "      <td>0.31</td>\n",
              "    </tr>\n",
              "    <tr>\n",
              "      <th>2</th>\n",
              "      <td>3</td>\n",
              "      <td>47</td>\n",
              "      <td>583</td>\n",
              "      <td>38</td>\n",
              "      <td>11</td>\n",
              "      <td>0.64</td>\n",
              "    </tr>\n",
              "    <tr>\n",
              "      <th>3</th>\n",
              "      <td>4</td>\n",
              "      <td>287</td>\n",
              "      <td>402</td>\n",
              "      <td>15</td>\n",
              "      <td>7</td>\n",
              "      <td>-0.27</td>\n",
              "    </tr>\n",
              "    <tr>\n",
              "      <th>4</th>\n",
              "      <td>5</td>\n",
              "      <td>203</td>\n",
              "      <td>495</td>\n",
              "      <td>21</td>\n",
              "      <td>5</td>\n",
              "      <td>-0.33</td>\n",
              "    </tr>\n",
              "  </tbody>\n",
              "</table>\n",
              "</div>"
            ],
            "text/plain": [
              "   #ID    x    y  σy  σx   ρxy\n",
              "0    1  201  592  61   9 -0.84\n",
              "1    2  244  401  25   4  0.31\n",
              "2    3   47  583  38  11  0.64\n",
              "3    4  287  402  15   7 -0.27\n",
              "4    5  203  495  21   5 -0.33"
            ]
          },
          "metadata": {},
          "execution_count": 3
        }
      ]
    },
    {
      "cell_type": "code",
      "metadata": {
        "id": "qUhSDBNZpFeq"
      },
      "source": [
        "def makeAandC(xVals, sigVals, order = 1):\n",
        "  arrA = np.ones((len(xVals),order + 1))\n",
        "  arrC = np.zeros((len(sigVals),len(sigVals)))\n",
        "  for i in range(len(xVals)):\n",
        "    for j in range(order):\n",
        "      arrA[i][j+1] = xVals[i] ** (j+1)\n",
        "    arrC[i][i] = sigVals[i]**2\n",
        "  return np.matrix(arrA), np.matrix(arrC)\n",
        "\n",
        "def standardMethod(x, y, sigVals):\n",
        "  A, C = makeAandC(x, sigVals)\n",
        "  covariance = np.linalg.inv(A.getT() * np.linalg.inv(C) * A)\n",
        "  regularSide = A.getT() * np.linalg.inv(C) * np.matrix(y).getT()\n",
        "  return covariance * regularSide, covariance"
      ],
      "execution_count": 4,
      "outputs": []
    },
    {
      "cell_type": "markdown",
      "metadata": {
        "id": "N934_2bvnwFL"
      },
      "source": [
        "## Exercise 1"
      ]
    },
    {
      "cell_type": "code",
      "metadata": {
        "id": "kIK0chx6nqWh"
      },
      "source": [
        "dataE1 = table1[4:20]"
      ],
      "execution_count": 5,
      "outputs": []
    },
    {
      "cell_type": "code",
      "metadata": {
        "colab": {
          "base_uri": "https://localhost:8080/",
          "height": 203
        },
        "id": "pC76y64tn5Jb",
        "outputId": "c8eab0dc-26cb-4f1c-e46d-5bbce303422c"
      },
      "source": [
        "dataE1.head()"
      ],
      "execution_count": 6,
      "outputs": [
        {
          "output_type": "execute_result",
          "data": {
            "text/html": [
              "<div>\n",
              "<style scoped>\n",
              "    .dataframe tbody tr th:only-of-type {\n",
              "        vertical-align: middle;\n",
              "    }\n",
              "\n",
              "    .dataframe tbody tr th {\n",
              "        vertical-align: top;\n",
              "    }\n",
              "\n",
              "    .dataframe thead th {\n",
              "        text-align: right;\n",
              "    }\n",
              "</style>\n",
              "<table border=\"1\" class=\"dataframe\">\n",
              "  <thead>\n",
              "    <tr style=\"text-align: right;\">\n",
              "      <th></th>\n",
              "      <th>#ID</th>\n",
              "      <th>x</th>\n",
              "      <th>y</th>\n",
              "      <th>σy</th>\n",
              "      <th>σx</th>\n",
              "      <th>ρxy</th>\n",
              "    </tr>\n",
              "  </thead>\n",
              "  <tbody>\n",
              "    <tr>\n",
              "      <th>4</th>\n",
              "      <td>5</td>\n",
              "      <td>203</td>\n",
              "      <td>495</td>\n",
              "      <td>21</td>\n",
              "      <td>5</td>\n",
              "      <td>-0.33</td>\n",
              "    </tr>\n",
              "    <tr>\n",
              "      <th>5</th>\n",
              "      <td>6</td>\n",
              "      <td>58</td>\n",
              "      <td>173</td>\n",
              "      <td>15</td>\n",
              "      <td>9</td>\n",
              "      <td>0.67</td>\n",
              "    </tr>\n",
              "    <tr>\n",
              "      <th>6</th>\n",
              "      <td>7</td>\n",
              "      <td>210</td>\n",
              "      <td>479</td>\n",
              "      <td>27</td>\n",
              "      <td>4</td>\n",
              "      <td>-0.02</td>\n",
              "    </tr>\n",
              "    <tr>\n",
              "      <th>7</th>\n",
              "      <td>8</td>\n",
              "      <td>202</td>\n",
              "      <td>504</td>\n",
              "      <td>14</td>\n",
              "      <td>4</td>\n",
              "      <td>-0.05</td>\n",
              "    </tr>\n",
              "    <tr>\n",
              "      <th>8</th>\n",
              "      <td>9</td>\n",
              "      <td>198</td>\n",
              "      <td>510</td>\n",
              "      <td>30</td>\n",
              "      <td>11</td>\n",
              "      <td>-0.84</td>\n",
              "    </tr>\n",
              "  </tbody>\n",
              "</table>\n",
              "</div>"
            ],
            "text/plain": [
              "   #ID    x    y  σy  σx   ρxy\n",
              "4    5  203  495  21   5 -0.33\n",
              "5    6   58  173  15   9  0.67\n",
              "6    7  210  479  27   4 -0.02\n",
              "7    8  202  504  14   4 -0.05\n",
              "8    9  198  510  30  11 -0.84"
            ]
          },
          "metadata": {},
          "execution_count": 6
        }
      ]
    },
    {
      "cell_type": "code",
      "metadata": {
        "id": "-lhEPAIwn6fM"
      },
      "source": [
        "xVals1 = dataE1.x.values\n",
        "yVals1 = dataE1.y.values\n",
        "sigYVals1 = dataE1.σy.values"
      ],
      "execution_count": 7,
      "outputs": []
    },
    {
      "cell_type": "code",
      "metadata": {
        "colab": {
          "base_uri": "https://localhost:8080/"
        },
        "id": "WGuYVSE50UAq",
        "outputId": "800f1fcb-85ce-42e1-cc9f-d635b55a1589"
      },
      "source": [
        "xVals1"
      ],
      "execution_count": 8,
      "outputs": [
        {
          "output_type": "execute_result",
          "data": {
            "text/plain": [
              "array([203,  58, 210, 202, 198, 158, 165, 201, 157, 131, 166, 160, 186,\n",
              "       125, 218, 146])"
            ]
          },
          "metadata": {},
          "execution_count": 8
        }
      ]
    },
    {
      "cell_type": "code",
      "metadata": {
        "id": "aycKuVuRpAMJ"
      },
      "source": [
        "fitParams, covariance = standardMethod(xVals1, yVals1, sigYVals1)"
      ],
      "execution_count": 9,
      "outputs": []
    },
    {
      "cell_type": "code",
      "metadata": {
        "colab": {
          "base_uri": "https://localhost:8080/"
        },
        "id": "18pVV-hZttNW",
        "outputId": "7f72f4ef-5eb4-456a-e8e4-bd7032efe6f6"
      },
      "source": [
        "fitParams, covariance"
      ],
      "execution_count": 10,
      "outputs": [
        {
          "output_type": "execute_result",
          "data": {
            "text/plain": [
              "(matrix([[34.04772776],\n",
              "         [ 2.23992083]]), matrix([[ 3.32922601e+02, -1.88954491e+00],\n",
              "         [-1.88954491e+00,  1.16166311e-02]]))"
            ]
          },
          "metadata": {},
          "execution_count": 10
        }
      ]
    },
    {
      "cell_type": "code",
      "metadata": {
        "id": "2MEkqitn3xkh"
      },
      "source": [
        "slopeUnc = np.sqrt(np.asarray(covariance)[1][1]);\n",
        "intUnc = np.sqrt(np.asarray(covariance)[0][0]);"
      ],
      "execution_count": 11,
      "outputs": []
    },
    {
      "cell_type": "code",
      "metadata": {
        "colab": {
          "base_uri": "https://localhost:8080/",
          "height": 513
        },
        "id": "duRmVdoytuVB",
        "outputId": "7438b2d4-9198-44a4-a544-70911b021e72"
      },
      "source": [
        "fig, ax = plt.subplots(figsize=(8,8))\n",
        "ax.xlim = ((55, 300))\n",
        "ax.ylim = ((0, 700))\n",
        "ax.set_xlabel('x')\n",
        "ax.set_ylabel('y')\n",
        "x = np.linspace(0,300)\n",
        "y = fitParams[0][0] + np.matrix(x).getT() * np.asarray(fitParams[1][0])\n",
        "ax.plot(x,y)\n",
        "ax.errorbar(xVals1, yVals1, yerr=sigYVals1, fmt='k.')\n",
        "ax.set_title(\"Exercise 1: Data points 4-20\")\n",
        "\n",
        "ax.text(100, 100, \"y = ({:.2f}+/-{:.2f})x + ({:.2f}+/-{:.2f})\".format(np.asarray(fitParams)[1][0], slopeUnc, np.asarray(fitParams)[0][0], intUnc));"
      ],
      "execution_count": 12,
      "outputs": [
        {
          "output_type": "display_data",
          "data": {
            "image/png": "[encoded data removed]",
            "text/plain": [
              "<Figure size 576x576 with 1 Axes>"
            ]
          },
          "metadata": {
            "needs_background": "light"
          }
        }
      ]
    },
    {
      "cell_type": "markdown",
      "metadata": {
        "id": "2NLsefSf9WLS"
      },
      "source": [
        "Figure 1. Above shows the data points between 4 and 20 and their uncertainties as well as the best fit line. The best fit has a slope of 2.24 and a y-intercept of 34.05. These values were found using the standard linear algebra model presented in Section 1 of the article \"Data analysis recipes:\n",
        "Fitting a model to data\" by David Hogg."
      ]
    },
    {
      "cell_type": "markdown",
      "metadata": {
        "id": "IpzKYMHFTsSi"
      },
      "source": [
        "# Exercise 2"
      ]
    },
    {
      "cell_type": "code",
      "metadata": {
        "id": "DdWwpjMguB0P",
        "colab": {
          "base_uri": "https://localhost:8080/"
        },
        "outputId": "6b758d8a-b464-456b-e262-37300c5e5ffe"
      },
      "source": [
        "dataE2 = table1\n",
        "print(dataE2.shape)\n",
        "xVals2 = dataE2.x.values\n",
        "yVals2 = dataE2.y.values\n",
        "sigYVals2 = dataE2.σy"
      ],
      "execution_count": 13,
      "outputs": [
        {
          "output_type": "stream",
          "name": "stdout",
          "text": [
            "(20, 6)\n"
          ]
        }
      ]
    },
    {
      "cell_type": "code",
      "metadata": {
        "id": "4xo-V-E-Vrq7"
      },
      "source": [
        "fitParams, covariance = standardMethod(xVals2, yVals2, sigYVals2)\n",
        "slopeUnc = np.sqrt(np.asarray(covariance)[1][1]);\n",
        "intUnc = np.sqrt(np.asarray(covariance)[0][0]);"
      ],
      "execution_count": 14,
      "outputs": []
    },
    {
      "cell_type": "code",
      "metadata": {
        "colab": {
          "base_uri": "https://localhost:8080/",
          "height": 513
        },
        "id": "d3MtDvrgVvgN",
        "outputId": "2120a039-c24d-466c-ca54-fc6ea8905e39"
      },
      "source": [
        "fig, ax = plt.subplots(figsize=(8,8))\n",
        "ax.xlim = ((55, 300))\n",
        "ax.ylim = ((0, 700))\n",
        "ax.set_xlabel('x')\n",
        "ax.set_ylabel('y')\n",
        "x = np.linspace(0,300)\n",
        "y = fitParams[0][0] + np.matrix(x).getT() * np.asarray(fitParams[1][0])\n",
        "ax.plot(x,y)\n",
        "ax.errorbar(xVals2[0:4], yVals2[0:4], yerr=sigYVals2[0:4], fmt='r.')\n",
        "ax.errorbar(xVals2[4:], yVals2[4:], yerr=sigYVals2[4:], fmt='k.')\n",
        "\n",
        "\n",
        "ax.set_title(\"Exercise 2: All Data Points\")\n",
        "\n",
        "ax.text(150, 200, \"y = ({:.2f}+/-{:.2f})x + ({:.2f}+/-{:.2f})\".format(np.asarray(fitParams)[1][0], slopeUnc, np.asarray(fitParams)[0][0], intUnc));"
      ],
      "execution_count": 15,
      "outputs": [
        {
          "output_type": "display_data",
          "data": {
            "image/png": "[encoded data removed]",
            "text/plain": [
              "<Figure size 576x576 with 1 Axes>"
            ]
          },
          "metadata": {
            "needs_background": "light"
          }
        }
      ]
    },
    {
      "cell_type": "markdown",
      "metadata": {
        "id": "OQ9qOBIZYoAj"
      },
      "source": [
        "### Figure 2. Plot of the entire data set, new data points are in red. These 4 data points have significantly changed the fit parameters. The slope was cut in half and the y-intercept, increased over 6 times. What is troubling is that the uncertainty variance for these parameters, m and b, decreased. I would expect that when adding 4 data points that greatly alter the best fit line, then the uncertainty in those parameters would increase. However that is not the case."
      ]
    },
    {
      "cell_type": "markdown",
      "metadata": {
        "id": "iqtdyn26cYNt"
      },
      "source": [
        "# Exercise 3: Redo Exercise 1 with a second order column"
      ]
    },
    {
      "cell_type": "code",
      "metadata": {
        "id": "F_aoDL3jd6nn"
      },
      "source": [
        "def generalMethod(x, y, sigVals, order=1):\n",
        "  A, C = makeAandC(x, sigVals, order)\n",
        "  covariance = np.linalg.inv(A.getT() * np.linalg.inv(C) * A)\n",
        "  regularSide = A.getT() * np.linalg.inv(C) * np.matrix(y).getT()\n",
        "  return covariance * regularSide, covariance\n"
      ],
      "execution_count": 16,
      "outputs": []
    },
    {
      "cell_type": "code",
      "metadata": {
        "id": "6mMlHAjiWxDw"
      },
      "source": [
        "dataE3 = dataE1"
      ],
      "execution_count": 17,
      "outputs": []
    },
    {
      "cell_type": "code",
      "metadata": {
        "id": "jpecPWG8crb4"
      },
      "source": [
        "xVals3 = dataE1.x.values\n",
        "yVals3 = dataE1.y.values\n",
        "sigYVals3 = dataE1.σy.values"
      ],
      "execution_count": 18,
      "outputs": []
    },
    {
      "cell_type": "code",
      "metadata": {
        "id": "Dtt4Z1r1dQPa"
      },
      "source": [
        "fitParams, covariance = generalMethod(xVals3, yVals3, sigYVals3, order=2)"
      ],
      "execution_count": 19,
      "outputs": []
    },
    {
      "cell_type": "code",
      "metadata": {
        "colab": {
          "base_uri": "https://localhost:8080/"
        },
        "id": "JS4Kqx51g2aC",
        "outputId": "245a5b5c-b1be-490b-cde1-35d4ebbe38a5"
      },
      "source": [
        "covariance"
      ],
      "execution_count": 20,
      "outputs": [
        {
          "output_type": "execute_result",
          "data": {
            "text/plain": [
              "matrix([[ 1.51410913e+03, -2.14671957e+01,  6.99004580e-02],\n",
              "        [-2.14671957e+01,  3.36107642e-01, -1.15856956e-03],\n",
              "        [ 6.99004580e-02, -1.15856956e-03,  4.13658125e-06]])"
            ]
          },
          "metadata": {},
          "execution_count": 20
        }
      ]
    },
    {
      "cell_type": "code",
      "metadata": {
        "id": "kTpllZvsdYFQ"
      },
      "source": [
        "qUnc = np.sqrt(np.asarray(covariance)[2][2])\n",
        "slopeUnc = np.sqrt(np.asarray(covariance)[1][1]);\n",
        "intUnc = np.sqrt(np.asarray(covariance)[0][0]);"
      ],
      "execution_count": 21,
      "outputs": []
    },
    {
      "cell_type": "code",
      "metadata": {
        "colab": {
          "base_uri": "https://localhost:8080/",
          "height": 513
        },
        "id": "3uPSVhCndYFR",
        "outputId": "de169439-3a31-4f18-cbff-f4ce74438d92"
      },
      "source": [
        "fig, ax = plt.subplots(figsize=(8,8))\n",
        "ax.xlim = ((55, 300))\n",
        "ax.ylim = ((0, 700))\n",
        "ax.set_xlabel('x')\n",
        "ax.set_ylabel('y')\n",
        "x = np.linspace(0,300)\n",
        "x2 = [x[i]**2 for i in range(len(x))]\n",
        "y = fitParams[0][0] + np.matrix(x).getT() * np.asarray(fitParams[1][0]) + np.matrix(x2).getT() * np.asarray(fitParams[2][0])\n",
        "ax.plot(x,y)\n",
        "ax.errorbar(xVals3, yVals3, yerr=sigYVals3, fmt='k.')\n",
        "ax.set_title(\"Exercise 3: Data points 4-20 with a quadratic fit\")\n",
        "\n",
        "ax.text(50, 100, \"y = ({:.4f}+/-{:.4f})x^2 + ({:.2f}+/-{:.2f})x + ({:.2f}+/-{:.2f})\".format(np.asarray(fitParams)[2][0], qUnc, np.asarray(fitParams)[1][0], slopeUnc, np.asarray(fitParams)[0][0], intUnc));"
      ],
      "execution_count": 22,
      "outputs": [
        {
          "output_type": "display_data",
          "data": {
            "image/png": "[encoded data removed]",
            "text/plain": [
              "<Figure size 576x576 with 1 Axes>"
            ]
          },
          "metadata": {
            "needs_background": "light"
          }
        }
      ]
    },
    {
      "cell_type": "markdown",
      "metadata": {
        "id": "Dd0wjbTlj99Y"
      },
      "source": [
        "## Figure 3. Plot of data points 4-20 from Table 1. This time wth a quadractic fit. The uncertainties for the first order term and the zeroth order term have increased from exercise 1."
      ]
    },
    {
      "cell_type": "markdown",
      "metadata": {
        "id": "iV88uc1Dkph2"
      },
      "source": [
        "# Exercise 4"
      ]
    },
    {
      "cell_type": "markdown",
      "metadata": {
        "id": "bPJ9nBmmvfBI"
      },
      "source": [
        "Formulation of likelihood\n",
        "\n",
        "$L = \\Pi_{i=1}^{N} p(t_i | \\sigma_{t_i}, T) = \\Pi_{i=1}^{N}\\frac{1}{\\sqrt{2\\pi\\sigma_{ti}^{2}}}exp({-[\\frac{t_i-T}{2\\sigma_{ti}^{2}}]^2})$\n",
        "\n",
        "$ln(L) = ln(\\Pi_{i=1}^{N}\\frac{1}{\\sqrt{2\\pi\\sigma_{ti}^{2}}})-\\Sigma_{i=1}^{N}(\\frac{t_i-T}{2\\sigma_{ti}^{2}})^2$\n",
        "\n",
        "$ln(L) = K - \\Sigma_{i=1}^{N}(\\frac{t_i-T}{2\\sigma_{ti}^{2}})^2$ \n",
        "\n",
        "K is some constant.\n",
        "\n",
        "-----------------------------------------\n",
        "Derivitive attmempt\n",
        "\n",
        "$\\frac{d}{d_{t_i}}ln(L) = -2\\Sigma_{i=1}^N\\frac{t_i - T}{2\\sigma^2_{ti}}$\n",
        "\n",
        "$\\frac{d}{d_{t_i}}ln(L) = - \\Sigma_{i=1}^N\\frac{t_i - T}{\\sigma^2_{ti}}$"
      ]
    },
    {
      "cell_type": "code",
      "metadata": {
        "id": "cs623N-6j9kn"
      },
      "source": [
        ""
      ],
      "execution_count": null,
      "outputs": []
    },
    {
      "cell_type": "code",
      "metadata": {
        "id": "oNc3q_y1ddpy"
      },
      "source": [
        ""
      ],
      "execution_count": null,
      "outputs": []
    }
  ]
}