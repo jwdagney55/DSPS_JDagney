{
  "nbformat": 4,
  "nbformat_minor": 0,
  "metadata": {
    "colab": {
      "name": "HW4-MWrotCurve.ipynb",
      "provenance": [],
      "collapsed_sections": [
        "6me5k4c1OdDY"
      ],
      "include_colab_link": true
    },
    "kernelspec": {
      "display_name": "Python 3",
      "language": "python",
      "name": "python3"
    },
    "language_info": {
      "codemirror_mode": {
        "name": "ipython",
        "version": 3
      },
      "file_extension": ".py",
      "mimetype": "text/x-python",
      "name": "python",
      "nbconvert_exporter": "python",
      "pygments_lexer": "ipython3",
      "version": "3.6.7"
    },
    "nbTranslate": {
      "displayLangs": [
        "*"
      ],
      "hotkey": "alt-t",
      "langInMainMenu": true,
      "sourceLang": "en",
      "targetLang": "fr",
      "useGoogleTranslate": true
    },
    "toc": {
      "base_numbering": 1,
      "colors": {
        "hover_highlight": "#DAA520",
        "running_highlight": "#FF0000",
        "selected_highlight": "#FFD700"
      },
      "moveMenuLeft": true,
      "nav_menu": {},
      "navigate_menu": true,
      "number_sections": true,
      "sideBar": true,
      "skip_h1_title": false,
      "threshold": 4,
      "title_cell": "Table of Contents",
      "title_sidebar": "Contents",
      "toc_cell": false,
      "toc_position": {
        "height": "calc(100% - 180px)",
        "left": "10px",
        "top": "150px",
        "width": "165px"
      },
      "toc_section_display": true,
      "toc_window_display": true
    }
  },
  "cells": [
    {
      "cell_type": "markdown",
      "metadata": {
        "id": "view-in-github",
        "colab_type": "text"
      },
      "source": [
        "<a href=\"https://colab.research.google.com/github/jwdagney55/DSPS_JDagney/blob/main/HW4/HW4_MWrotCurve.ipynb\" target=\"_parent\"><img src=\"https://colab.research.google.com/assets/colab-badge.svg\" alt=\"Open In Colab\"/></a>"
      ]
    },
    {
      "cell_type": "markdown",
      "metadata": {
        "id": "rxa6Xa3jOdCI",
        "run_control": {
          "frozen": false,
          "read_only": false
        }
      },
      "source": [
        "prepared by federica b bianco @fedhere\n",
        "for UDel DSPS PHYS 467/667\n",
        "\n",
        "# testing the significance of Dark Matter"
      ]
    },
    {
      "cell_type": "code",
      "metadata": {
        "ExecuteTime": {
          "end_time": "2019-09-16T17:54:57.244596Z",
          "start_time": "2019-09-16T17:54:57.231090Z"
        },
        "colab": {
          "base_uri": "https://localhost:8080/"
        },
        "id": "Ya2RaOGbOdCJ",
        "run_control": {
          "frozen": false,
          "read_only": false
        },
        "outputId": "d3f10792-9911-454b-e5bf-77268c4a0bc0"
      },
      "source": [
        "import pandas as pd\n",
        "import numpy as np\n",
        "import pylab as pl\n",
        "%pylab inline\n",
        "\n",
        "\n",
        "#package I will use for constants and units conversion \n",
        "import astropy\n",
        "\n"
      ],
      "execution_count": 1,
      "outputs": [
        {
          "output_type": "stream",
          "name": "stdout",
          "text": [
            "Populating the interactive namespace from numpy and matplotlib\n"
          ]
        }
      ]
    },
    {
      "cell_type": "markdown",
      "metadata": {
        "id": "4qp8A2TG1Gwb",
        "run_control": {
          "frozen": false,
          "read_only": false
        }
      },
      "source": [
        "In 1970 Vera Rubin published a seminal paper: she measured the rotational speed of HII regions in several galaxies and how it changed as a function of distance to the center of the galaxy. If we believe Newtonian gravity (or GR) we expect that _once all of the mass is included_, i.e. at a radius distance from the center of the galaxy larger than the radius of the galaxy itself, the rotational speed will be proportional to $v\\propto\\frac{1}{r}$"
      ]
    },
    {
      "cell_type": "markdown",
      "metadata": {
        "id": "j-BDrNseOdCR",
        "run_control": {
          "frozen": false,
          "read_only": false
        }
      },
      "source": [
        "## Propagation of  uncertainties rules\n",
        "\n",
        "below are the basic rules for propagation of uncertainties - use [this as reference](https://github.com/fedhere/DSPS/blob/master/resources/Managing%20Errors%20and%20Uncertainty.pdf)"
      ]
    },
    {
      "cell_type": "markdown",
      "metadata": {
        "id": "iCrFipBzOzqp",
        "run_control": {
          "frozen": false,
          "read_only": false
        }
      },
      "source": [
        "\n",
        "\n",
        "\n",
        "$$\n",
        "\\begin{eqnarray}\n",
        "z = x  \\pm y  ~| & ~  &dz = \\sqrt{dx^2 + dy^2} \n",
        "\\\\\n",
        "z = x * y  ~| & ~& dz = |xy|  \\sqrt{\\left(\\frac{dx}{x}\\right)^2 + \n",
        "                                \\left(\\frac{dy}{y}\\right)^2} \\\\\n",
        "z = x / y  ~| & ~& dz = \\left|\\frac{x}{y}\\right| \\sqrt{\\left(\\frac{dx}{x}\\right)^2 + \n",
        "                                                   \\left(\\frac{dy}{y}\\right)^2} \\\\\n",
        "z = x^n ~| & ~& dz = |n| ~ x^{n-1}  dx \\\\\n",
        "z = \\mathrm{c}x ~| & ~& dz = |\\mathrm{c}| ~dx \\\\\n",
        "z = f(x, y) ~| & ~& dz = \\sqrt{\\left(\\frac{\\partial f}{\\partial x}\\right)^2 dx^2 +\\left(\\frac{\\partial f}{\\partial y}\\right)^2 dy^2} \\\\\n",
        "\\end{eqnarray}\n",
        "$$\n"
      ]
    },
    {
      "cell_type": "markdown",
      "metadata": {
        "id": "WcF0zlWCOdCX",
        "run_control": {
          "frozen": false,
          "read_only": false
        }
      },
      "source": [
        "# let's assume a Newtonian framework: \n",
        "the velocity of a body in orbit depends only on the gravitational field of the mass that attracts it, and we can assume that mass is concentrated in the center of mass of (the center for simplicity) the system\n",
        "\n",
        "with G the gravitational constant, $r$ the radius, and $m(r)$ the mass contained within that radius we have the orbital velocity $v$:\n"
      ]
    },
    {
      "cell_type": "markdown",
      "metadata": {
        "id": "ZON0DKl5Qm2S",
        "run_control": {
          "frozen": false,
          "read_only": false
        }
      },
      "source": [
        "\n",
        "$v^2 = \\frac{G \\cdot m(r)}{r}$\n"
      ]
    },
    {
      "cell_type": "markdown",
      "metadata": {
        "id": "lVfy9lJ21xMT",
        "run_control": {
          "frozen": false,
          "read_only": false
        }
      },
      "source": [
        "Derive this $v^2\\propto\\frac{1}{r}$ from Newton's law $F~=~\\frac{GMm}{r^2}$. Write each formula and describe each step. You can use latex (you really just need to know ```\\frac{}``` and ```^```) and this reference\n",
        "https://www.physicsclassroom.com/calcpad/circgrav"
      ]
    },
    {
      "cell_type": "markdown",
      "metadata": {
        "id": "HEB7hQojuAQt",
        "run_control": {
          "frozen": false,
          "read_only": false
        }
      },
      "source": [
        "(1) Newton's Second Law: $F = ma$\n",
        "\n",
        "(2) Newton's Law of Gravity: $F_g = \\frac{GMm}{r^2}$\n",
        "\n",
        "where m is the mass of the orbiting body, and M is the mass of the galaxy\n",
        "\n",
        "Substitute(2) in for (1) and we have: \n",
        "\n",
        "(3) $\\frac{GMm}{r^2} = ma$\n",
        "\n",
        "An orbiting body has centripetal acceleration (4) $a_c = \\frac{v^2}{r}$\n",
        "\n",
        "Substitute 4 in (3) in the right hand side\n",
        "\n",
        "(5) $\\frac{GMm}{r^2} = m\\frac{v^2}{r}$\n",
        "\n",
        "The mass of the orbiting body cancel as does one r and we are left with: \n",
        "\n",
        "(6) $\\frac{GM}{r} = v^2$\n",
        "\n",
        "QED\n",
        "\n"
      ]
    },
    {
      "cell_type": "markdown",
      "metadata": {
        "id": "KQAEJtWuOdCb",
        "run_control": {
          "frozen": false,
          "read_only": false
        }
      },
      "source": [
        "## M31 rotational curve"
      ]
    },
    {
      "cell_type": "markdown",
      "metadata": {
        "ExecuteTime": {
          "end_time": "2019-08-02T01:34:15.029084Z",
          "start_time": "2019-08-02T01:34:15.026604Z"
        },
        "id": "BTaXzFYeOdCc",
        "run_control": {
          "frozen": false,
          "read_only": false
        }
      },
      "source": [
        "# Galaxy Rotational Curves\n",
        "The data comes from [SOFUE 2015](http://www.ioa.s.u-tokyo.ac.jp/~sofue/htdocs/2015m31/2015-pasj-M31MW-DH.pdf)\n",
        "The data are plotted in Figure 3 and 4 for M31 and the Milky Way respectively, and hosted on [this website](http://www.ioa.s.u-tokyo.ac.jp/~sofue/htdocs/2015m31/)\n",
        "As described in the paper: \n",
        "Long and short bars represent modified standard deviations and errors, respectively\n",
        "\n",
        "#### Please read the last paragraphs of Section 2.1 of the paper to understand the meaning of these uncertainties:\n",
        "\n",
        "![figures](https://github.com/fedhere/DSPS_FBianco/blob/master/HW4/figures.png?raw=1)\n",
        "\n"
      ]
    },
    {
      "cell_type": "markdown",
      "metadata": {
        "ExecuteTime": {
          "end_time": "2019-09-22T00:10:02.465470Z",
          "start_time": "2019-09-22T00:10:02.455255Z"
        },
        "run_control": {
          "frozen": false,
          "read_only": false
        },
        "id": "1kEOkULKiEb_"
      },
      "source": [
        "\n",
        "\n",
        "![text](https://github.com/fedhere/DSPS_FBianco/blob/master/HW4/text.png?raw=1)\n",
        "\n",
        "### data ingestion\n",
        "Get the data from the github repository https://github.com/fedhere/DSPS/tree/master/HW4 : there are 2 files: mw.csv and m31.csv. Start with M31, the Andromeda galaxy, Vera Rubin's original target."
      ]
    },
    {
      "cell_type": "markdown",
      "metadata": {
        "id": "_iFrkUYEV1SS",
        "run_control": {
          "frozen": false,
          "read_only": false
        }
      },
      "source": [
        "Note that the data contains 2 types of uncertainties: one significantly smaller than the other. The ```dv``` uncertainty is the propagation of the uncertainty in the location of the HII line. The uncertainty called ```err``` if the full error budget:  including _all_ sources of uncertainty and not just the uncertainty in measuring the location of the line. Retain both, you will test your hypothesis with each one to see if it matters which uncertainty you choose"
      ]
    },
    {
      "cell_type": "code",
      "metadata": {
        "id": "PFYBlhUjt8_e",
        "run_control": {
          "frozen": false,
          "read_only": false
        }
      },
      "source": [
        "# your code here\n",
        "m31 = pd.read_csv('https://raw.githubusercontent.com/fedhere/DSPS_FBianco/master/HW4/m31.csv')"
      ],
      "execution_count": 2,
      "outputs": []
    },
    {
      "cell_type": "code",
      "metadata": {
        "id": "84Sr6HbEwFgr"
      },
      "source": [
        "m31 = m31[['#M31', 'Grand', 'Rotation', 'Curve']].rename({'#M31':\"r\", 'Grand':'v', 'Rotation':'dv', 'Curve':'err'},axis=1)\n",
        "m31 = m31[1:]"
      ],
      "execution_count": 3,
      "outputs": []
    },
    {
      "cell_type": "code",
      "metadata": {
        "colab": {
          "base_uri": "https://localhost:8080/",
          "height": 206
        },
        "id": "luL5UrsNQ1M1",
        "run_control": {
          "frozen": false,
          "read_only": false
        },
        "outputId": "29166f56-f62f-4315-9bb2-8a043f86c9fc"
      },
      "source": [
        "m31[\"r\"] = [float(m31.iloc[i].r) for i in range(m31.shape[0])]\n",
        "m31[\"v\"] = [float(m31.iloc[i].v) for i in range(m31.shape[0])]\n",
        "m31[\"dv\"] = [float(m31.iloc[i].dv) for i in range(m31.shape[0])]\n",
        "m31[\"err\"] = [float(m31.iloc[i].err) for i in range(m31.shape[0])]\n",
        "m31.head()"
      ],
      "execution_count": 4,
      "outputs": [
        {
          "output_type": "execute_result",
          "data": {
            "text/html": [
              "<div>\n",
              "<style scoped>\n",
              "    .dataframe tbody tr th:only-of-type {\n",
              "        vertical-align: middle;\n",
              "    }\n",
              "\n",
              "    .dataframe tbody tr th {\n",
              "        vertical-align: top;\n",
              "    }\n",
              "\n",
              "    .dataframe thead th {\n",
              "        text-align: right;\n",
              "    }\n",
              "</style>\n",
              "<table border=\"1\" class=\"dataframe\">\n",
              "  <thead>\n",
              "    <tr style=\"text-align: right;\">\n",
              "      <th></th>\n",
              "      <th>r</th>\n",
              "      <th>v</th>\n",
              "      <th>dv</th>\n",
              "      <th>err</th>\n",
              "    </tr>\n",
              "  </thead>\n",
              "  <tbody>\n",
              "    <tr>\n",
              "      <th>1</th>\n",
              "      <td>0.100</td>\n",
              "      <td>183.939</td>\n",
              "      <td>0.000</td>\n",
              "      <td>0.000</td>\n",
              "    </tr>\n",
              "    <tr>\n",
              "      <th>2</th>\n",
              "      <td>0.120</td>\n",
              "      <td>190.710</td>\n",
              "      <td>10.265</td>\n",
              "      <td>12.191</td>\n",
              "    </tr>\n",
              "    <tr>\n",
              "      <th>3</th>\n",
              "      <td>0.144</td>\n",
              "      <td>204.141</td>\n",
              "      <td>22.634</td>\n",
              "      <td>21.808</td>\n",
              "    </tr>\n",
              "    <tr>\n",
              "      <th>4</th>\n",
              "      <td>0.173</td>\n",
              "      <td>207.601</td>\n",
              "      <td>4.573</td>\n",
              "      <td>4.200</td>\n",
              "    </tr>\n",
              "    <tr>\n",
              "      <th>5</th>\n",
              "      <td>0.207</td>\n",
              "      <td>210.188</td>\n",
              "      <td>3.943</td>\n",
              "      <td>3.258</td>\n",
              "    </tr>\n",
              "  </tbody>\n",
              "</table>\n",
              "</div>"
            ],
            "text/plain": [
              "       r        v      dv     err\n",
              "1  0.100  183.939   0.000   0.000\n",
              "2  0.120  190.710  10.265  12.191\n",
              "3  0.144  204.141  22.634  21.808\n",
              "4  0.173  207.601   4.573   4.200\n",
              "5  0.207  210.188   3.943   3.258"
            ]
          },
          "metadata": {},
          "execution_count": 4
        }
      ]
    },
    {
      "cell_type": "code",
      "metadata": {
        "ExecuteTime": {
          "end_time": "2019-08-02T01:35:26.395158Z",
          "start_time": "2019-08-02T01:35:26.373338Z"
        },
        "colab": {
          "base_uri": "https://localhost:8080/",
          "height": 300
        },
        "id": "QsNRokb1OdCh",
        "run_control": {
          "frozen": false,
          "read_only": false
        },
        "outputId": "d4d52141-825a-4bce-f9ec-f1e982aec6b9"
      },
      "source": [
        "m31.describe()"
      ],
      "execution_count": 5,
      "outputs": [
        {
          "output_type": "execute_result",
          "data": {
            "text/html": [
              "<div>\n",
              "<style scoped>\n",
              "    .dataframe tbody tr th:only-of-type {\n",
              "        vertical-align: middle;\n",
              "    }\n",
              "\n",
              "    .dataframe tbody tr th {\n",
              "        vertical-align: top;\n",
              "    }\n",
              "\n",
              "    .dataframe thead th {\n",
              "        text-align: right;\n",
              "    }\n",
              "</style>\n",
              "<table border=\"1\" class=\"dataframe\">\n",
              "  <thead>\n",
              "    <tr style=\"text-align: right;\">\n",
              "      <th></th>\n",
              "      <th>r</th>\n",
              "      <th>v</th>\n",
              "      <th>dv</th>\n",
              "      <th>err</th>\n",
              "    </tr>\n",
              "  </thead>\n",
              "  <tbody>\n",
              "    <tr>\n",
              "      <th>count</th>\n",
              "      <td>55.000000</td>\n",
              "      <td>55.000000</td>\n",
              "      <td>55.000000</td>\n",
              "      <td>55.000000</td>\n",
              "    </tr>\n",
              "    <tr>\n",
              "      <th>mean</th>\n",
              "      <td>205.853182</td>\n",
              "      <td>226.079255</td>\n",
              "      <td>55.034818</td>\n",
              "      <td>16.165855</td>\n",
              "    </tr>\n",
              "    <tr>\n",
              "      <th>std</th>\n",
              "      <td>415.523904</td>\n",
              "      <td>42.799892</td>\n",
              "      <td>49.254792</td>\n",
              "      <td>14.876951</td>\n",
              "    </tr>\n",
              "    <tr>\n",
              "      <th>min</th>\n",
              "      <td>0.100000</td>\n",
              "      <td>121.974000</td>\n",
              "      <td>0.000000</td>\n",
              "      <td>0.000000</td>\n",
              "    </tr>\n",
              "    <tr>\n",
              "      <th>25%</th>\n",
              "      <td>1.177000</td>\n",
              "      <td>208.894500</td>\n",
              "      <td>11.945500</td>\n",
              "      <td>3.224000</td>\n",
              "    </tr>\n",
              "    <tr>\n",
              "      <th>50%</th>\n",
              "      <td>13.737000</td>\n",
              "      <td>229.124000</td>\n",
              "      <td>30.697000</td>\n",
              "      <td>12.065000</td>\n",
              "    </tr>\n",
              "    <tr>\n",
              "      <th>75%</th>\n",
              "      <td>161.675000</td>\n",
              "      <td>244.102500</td>\n",
              "      <td>99.980000</td>\n",
              "      <td>23.641000</td>\n",
              "    </tr>\n",
              "    <tr>\n",
              "      <th>max</th>\n",
              "      <td>1887.071000</td>\n",
              "      <td>414.942000</td>\n",
              "      <td>147.835000</td>\n",
              "      <td>54.110000</td>\n",
              "    </tr>\n",
              "  </tbody>\n",
              "</table>\n",
              "</div>"
            ],
            "text/plain": [
              "                 r           v          dv        err\n",
              "count    55.000000   55.000000   55.000000  55.000000\n",
              "mean    205.853182  226.079255   55.034818  16.165855\n",
              "std     415.523904   42.799892   49.254792  14.876951\n",
              "min       0.100000  121.974000    0.000000   0.000000\n",
              "25%       1.177000  208.894500   11.945500   3.224000\n",
              "50%      13.737000  229.124000   30.697000  12.065000\n",
              "75%     161.675000  244.102500   99.980000  23.641000\n",
              "max    1887.071000  414.942000  147.835000  54.110000"
            ]
          },
          "metadata": {},
          "execution_count": 5
        }
      ]
    },
    {
      "cell_type": "markdown",
      "metadata": {
        "id": "Vv0Ut6vOOdCk",
        "run_control": {
          "frozen": false,
          "read_only": false
        }
      },
      "source": [
        "from https://en.wikipedia.org/wiki/Andromeda_Galaxy get the extent of the luminous component of M31 (Andromeda). The distance of the Galaxy multiplied by the angular size will give you this information from basic trigonometry (make sure you convert the units properly, using astropy). Make sure you include the uncertainties! uncertainties in the distance will give you the uncertainty in the size\n",
        "   \n",
        " "
      ]
    },
    {
      "cell_type": "code",
      "metadata": {
        "id": "kvIFr6D778ri",
        "run_control": {
          "frozen": false,
          "read_only": false
        }
      },
      "source": [
        "apparentSizeM31 = 3.167 #deg\n",
        "uncertApparentSize = 0.1 #idk\n",
        "distanceM31 = 765 #kpc \n",
        "uncertDistance = 40\n"
      ],
      "execution_count": 6,
      "outputs": []
    },
    {
      "cell_type": "code",
      "metadata": {
        "ExecuteTime": {
          "end_time": "2019-08-02T01:35:41.413407Z",
          "start_time": "2019-08-02T01:35:41.408764Z"
        },
        "colab": {
          "base_uri": "https://localhost:8080/"
        },
        "id": "tzGNh98hOdCl",
        "run_control": {
          "frozen": false,
          "read_only": false
        },
        "outputId": "c7134c29-7abd-424c-ed2c-af016a4a01ce"
      },
      "source": [
        "# note : by PEP8 standards the import should be at the top, I leave it here for hyou to see that I am using astropy.units now\n",
        "from astropy import units as u\n",
        "m31angS = apparentSizeM31 * u.degree\n",
        "print(\"Angular Size of the visible component of Andromeda: {:.3f}\".format(m31angS.to(u.rad)  ))"
      ],
      "execution_count": 7,
      "outputs": [
        {
          "output_type": "stream",
          "name": "stdout",
          "text": [
            "Angular Size of the visible component of Andromeda: 0.055 rad\n"
          ]
        }
      ]
    },
    {
      "cell_type": "markdown",
      "metadata": {
        "id": "bZdyakcF4hGK"
      },
      "source": [
        ""
      ]
    },
    {
      "cell_type": "markdown",
      "metadata": {
        "id": "cOw0Y4KNWTOZ",
        "run_control": {
          "frozen": false,
          "read_only": false
        }
      },
      "source": [
        "Please make sure you print a sensible number of decimal digits! you have a  number of significant digits set by the number of digit in the info you get from wikipedia"
      ]
    },
    {
      "cell_type": "markdown",
      "metadata": {
        "id": "hF2wXZ988QgS",
        "run_control": {
          "frozen": false,
          "read_only": false
        }
      },
      "source": [
        "The distance, from Wikipedia, will have an uncertainty. Convert both to kiloparsecs Kpc"
      ]
    },
    {
      "cell_type": "code",
      "metadata": {
        "ExecuteTime": {
          "end_time": "2019-08-02T01:35:42.257553Z",
          "start_time": "2019-08-02T01:35:42.254539Z"
        },
        "id": "7-nEP6KrOdCo",
        "run_control": {
          "frozen": false,
          "read_only": false
        },
        "colab": {
          "base_uri": "https://localhost:8080/"
        },
        "outputId": "ed60a4d1-bfd0-4f95-bdf3-6360e8bd2efa"
      },
      "source": [
        "# your code here\n",
        "print(\"Distance to Adromeda from Milky Way: {} +/- {} (Kpc)\".format(distanceM31,uncertDistance))"
      ],
      "execution_count": 8,
      "outputs": [
        {
          "output_type": "stream",
          "name": "stdout",
          "text": [
            "Distance to Adromeda from Milky Way: 765 +/- 40 (Kpc)\n"
          ]
        }
      ]
    },
    {
      "cell_type": "code",
      "metadata": {
        "ExecuteTime": {
          "end_time": "2019-08-02T01:35:42.815232Z",
          "start_time": "2019-08-02T01:35:42.810316Z"
        },
        "colab": {
          "base_uri": "https://localhost:8080/"
        },
        "id": "0y_V9AuFOdCv",
        "run_control": {
          "frozen": false,
          "read_only": false
        },
        "outputId": "558a37cd-35f2-4098-b2f6-50268659b5e1"
      },
      "source": [
        "# your code here\n",
        "andromedaVisible = distanceM31 * np.tan(m31angS.to(u.rad))\n",
        "print(\"Size of the visible component of Andromeda: {:2f} \".format(andromedaVisible) )"
      ],
      "execution_count": 9,
      "outputs": [
        {
          "output_type": "stream",
          "name": "stdout",
          "text": [
            "Size of the visible component of Andromeda: 42.328169 \n"
          ]
        }
      ]
    },
    {
      "cell_type": "markdown",
      "metadata": {
        "id": "_pTXgdTL8jv6",
        "run_control": {
          "frozen": false,
          "read_only": false
        }
      },
      "source": [
        "Print the distance like I printed the angular size. \n",
        "\n",
        "To get the physical size of the visible component of andtomeda you can use simple trigonometry: $y = r * sin(\\alpha) ~ \\sim ~ r \\alpha $ for small angles \n",
        "\n",
        "\n",
        "Print the physical size of the Andromeda galaxy (remember decimal digits, proper formatting etc etc). \n"
      ]
    },
    {
      "cell_type": "code",
      "metadata": {
        "colab": {
          "base_uri": "https://localhost:8080/"
        },
        "id": "9JC8eNxJ4mlN",
        "outputId": "ad5d18ed-4ba8-4885-ff3e-d27c2dafb835"
      },
      "source": [
        "m31Rds = andromedaVisible / 2\n",
        "print(float(m31Rds))\n",
        "m31Rds = float(m31Rds)"
      ],
      "execution_count": 10,
      "outputs": [
        {
          "output_type": "stream",
          "name": "stdout",
          "text": [
            "21.164084311233722\n"
          ]
        }
      ]
    },
    {
      "cell_type": "markdown",
      "metadata": {
        "id": "97o52hRhOdCy",
        "run_control": {
          "frozen": false,
          "read_only": false
        }
      },
      "source": [
        "### find the first measurement  in your data table that includes all the luminous mass. \n",
        "\n",
        "What is the smallest radius in your data where the luminous mass is completely included and what is the veolcity at that radius?\n",
        "You can do it by broadcasting (see homework 3)"
      ]
    },
    {
      "cell_type": "markdown",
      "metadata": {
        "id": "TVWiU84XOdDA",
        "run_control": {
          "frozen": false,
          "read_only": false
        }
      },
      "source": [
        "We expect the velocity to decrease as 1/r if all mass is included: the velocity at a radius twice as far as the radius that includes all the mass should be a factor 2 slower, three times as far a factor 3 slower. "
      ]
    },
    {
      "cell_type": "markdown",
      "metadata": {
        "id": "b096Ax33SiXl",
        "run_control": {
          "frozen": false,
          "read_only": false
        }
      },
      "source": [
        "write a function that \n",
        "\n",
        "1. finds the smallest radius in the dataset that is at least N times the radius of the visible galaxy, \n",
        "\n",
        "2. takes as arguments:\n",
        "    - the data and \n",
        "    - N \n",
        "    - the size of the luminous component of the galaxy\n",
        " \n",
        "2. Returns the value of the radius and its uncertainty and the velocity and its uncertainty"
      ]
    },
    {
      "cell_type": "code",
      "metadata": {
        "ExecuteTime": {
          "end_time": "2019-08-02T02:07:26.053511Z",
          "start_time": "2019-08-02T02:07:26.046677Z"
        },
        "id": "-_O34Bb7OdC2",
        "run_control": {
          "frozen": false,
          "read_only": false
        }
      },
      "source": [
        "def getradii(gal, gsize, n):\n",
        "  d = gal.iloc[0].r\n",
        "  index = 1\n",
        "  while(d <= n * gsize):\n",
        "    #print(d, \" is less than \", n * gsize)\n",
        "    d = gal.iloc[index].r\n",
        "    index+=1\n",
        "\n",
        "  return d, np.sqrt(d), gal.iloc[index].v, gal.iloc[index].err, gal.iloc[index].dv\n"
      ],
      "execution_count": 11,
      "outputs": []
    },
    {
      "cell_type": "code",
      "metadata": {
        "colab": {
          "base_uri": "https://localhost:8080/"
        },
        "id": "WltS-wF3aA0V",
        "outputId": "fd4451e2-30ce-4ab7-c9aa-8e86c4b0b25c"
      },
      "source": [
        "getradii(m31, m31Rds, 2)"
      ],
      "execution_count": 12,
      "outputs": [
        {
          "output_type": "execute_result",
          "data": {
            "text/plain": [
              "(49.222, 7.01583922278725, 249.443, 26.447, 134.552)"
            ]
          },
          "metadata": {},
          "execution_count": 12
        }
      ]
    },
    {
      "cell_type": "markdown",
      "metadata": {
        "ExecuteTime": {
          "end_time": "2019-08-01T18:13:58.231637Z",
          "start_time": "2019-08-01T18:13:58.229447Z"
        },
        "id": "ogu_iquzOdC5",
        "run_control": {
          "frozen": false,
          "read_only": false
        }
      },
      "source": [
        "### data visualization"
      ]
    },
    {
      "cell_type": "markdown",
      "metadata": {
        "id": "kJ6MujVJUyel",
        "run_control": {
          "frozen": false,
          "read_only": false
        }
      },
      "source": [
        "make a plot that shows\n",
        "\n",
        "1. the rotational curve of the galaxy (as a line)\n",
        "\n",
        "2. each velocity as an errorbar with error equal to err in the same color as the line in 1\n",
        "\n",
        "3. each velocity as an errorbar with error equal to dv in  the same color but a different line thickness\n",
        "\n",
        "\n",
        "4. the datapoint corresponding to N=1, 2, 3 each in a different color. \n",
        "\n",
        "5. add a legend that indicates the meaning of each color (```pl.legend()```)\n",
        "\n",
        "6. add a text that indicates the velocity and its uncertainty (dv and err) just below the largest errorbar (```pl.text()```)\n",
        "\n",
        "7. limit the x axis to the \"relevant\" portion of the data"
      ]
    },
    {
      "cell_type": "code",
      "metadata": {
        "ExecuteTime": {
          "end_time": "2019-08-02T03:01:27.556063Z",
          "start_time": "2019-08-02T03:01:27.302184Z"
        },
        "colab": {
          "base_uri": "https://localhost:8080/",
          "height": 513
        },
        "id": "7IMXYY8BOdC6",
        "run_control": {
          "frozen": false,
          "read_only": false
        },
        "outputId": "bca3fe20-797d-4996-a26f-5be59570269e"
      },
      "source": [
        "def plotGal(gal, rds):\n",
        "  fig, ax = pl.subplots(figsize=(10,8))\n",
        "  pl.xlim((0,100))\n",
        "  pl.plot(gal.r, gal.v, color = 'blue' ,label='v')\n",
        "  ax.errorbar(gal.r, gal.v, fmt='.', yerr=gal.err, color = 'blue',  elinewidth =4)\n",
        "  ax.errorbar(gal.r, gal.v,fmt='.', yerr=gal.dv , color = 'blue', elinewidth=1)\n",
        "  n1 = getradii(gal, rds, 1)\n",
        "  n2 = getradii(gal, rds, 2)\n",
        "  n3 = getradii(gal, rds, 3)\n",
        "\n",
        "  ax.errorbar(n1[0], n1[2], yerr = n1[4], color = 'green', fmt='.', label = 'radius')\n",
        "  ax.errorbar(n2[0], n2[2], yerr = n2[4], color = 'red', fmt='.', label = '2xradius')\n",
        "  ax.errorbar(n3[0], n3[2], yerr = n3[4], color = 'yellow', fmt='.', label = '3xradius')\n",
        "  pl.text(n1[0]-5, n1[2]-n1[4]-20, \"{}\\n({},{})\".format(n1[2],n1[4], n1[3]))\n",
        "  pl.text(n2[0]-5, n2[2]-n2[4]-20, \"{}\\n({},{})\".format(n2[2],n2[4], n2[3]))\n",
        "  pl.text(n3[0]-5, n3[2]-n3[4]-20, \"{}\\n({},{})\".format(n3[2],n3[4], n3[3]))\n",
        "  pl.xlabel(\"Distance to Center (Kpc)\")\n",
        "  pl.ylabel(\"Velocity (km/s)\")\n",
        "  pl.legend()\n",
        "\n",
        "plotGal(m31, m31Rds)\n",
        "pl.title(\"Orbital Velocity around the Andromeda Galaxy\");"
      ],
      "execution_count": 41,
      "outputs": [
        {
          "output_type": "display_data",
          "data": {
            "image/png": "[encoded data removed]",
            "text/plain": [
              "<Figure size 720x576 with 1 Axes>"
            ]
          },
          "metadata": {
            "needs_background": "light"
          }
        }
      ]
    },
    {
      "cell_type": "markdown",
      "metadata": {
        "id": "EJyjm4BDkjno"
      },
      "source": [
        "### Figure 1: Plot of the Orbital Velocity (km/s) vs Distance from center. At distances larger than one radius we expect to see a fall off of velocity proportional to 1/sqrt(r). However, we see that at a distance approximately 2 times larger than the radius, the velocity is roughly the same with the 'err' error bars extending to about 100 km/s and 300 km/s. "
      ]
    },
    {
      "cell_type": "markdown",
      "metadata": {
        "id": "bIbv3YrhTo0X",
        "run_control": {
          "frozen": false,
          "read_only": false
        }
      },
      "source": [
        "Write a function that for a given dataset and a given luminous radius and a given N \n",
        "  \n",
        "  1) uses the function above to find the radius at least as large as needed and the velocity at that radius, \n",
        "  \n",
        "  2) states the expected drop in rotational velocities according to Newton's law $v^2\\propto 1/r$\n",
        "  \n",
        "  3) calculates the ratio of radii and the ratio of velocities at N radii from the center N=1 and N=N (input, e.g. 2, 3 etc) with uncertainties, \n",
        "  \n",
        "  4) and stated whether that ratio is consistent within the uncertainties with Newton's law $v^2 \\propto 1/r$\n",
        "  \n",
        "Your function should print \n",
        "\n",
        "     - the expected ratio based on the radii, \n",
        "     - the calculated ratio using ```dv```, and its uncertainty, - \n",
        "     - the 2-$\\sigma$ upper and lower limits of the calculated ratio\n",
        "     - whether the expected ratio is within the $2-\\sigma$ of the calculated ratio, \n",
        "  5) and the same using ```err```  instead of ```dv```"
      ]
    },
    {
      "cell_type": "code",
      "metadata": {
        "ExecuteTime": {
          "end_time": "2019-08-02T02:22:18.485172Z",
          "start_time": "2019-08-02T02:22:18.477807Z"
        },
        "id": "1hhTw8N4OdDB",
        "run_control": {
          "frozen": false,
          "read_only": false
        }
      },
      "source": [
        "def vratios(gal, rds, rd, err='dv'):\n",
        "  dist = [0,0]\n",
        "  distErr = [0, 0]\n",
        "  vel = [0, 0]\n",
        "  errors = [0, 0]\n",
        "  dv = [0, 0]\n",
        "  dist[0], distErr[0], vel[0], errors[0], dv[0] = getradii(gal, rds, 1)\n",
        "  dist[1], distErr[1], vel[1], errors[1], dv[1] = getradii(gal, rds, rd/rds)\n",
        "  expectedDrop = np.sqrt(rds)/np.sqrt(rd)\n",
        "  print(\"Expected Drop: \", expectedDrop)\n",
        "  ratioRad = dist[1]/dist[0]\n",
        "  ratioVel = vel[1]/vel[0]\n",
        "  print(\"Observed Ratios: \\nRadius:\\t\\t\",ratioRad, \"\\nVelocity:\\t\", ratioVel)\n",
        "  velErr = 0\n",
        "  if err == 'dv':\n",
        "    velErr = abs(vel[1]/vel[0]) * np.sqrt( (dv[1]/vel[1])**2 + (dv[0]/vel[0])**2)\n",
        "  else:\n",
        "    velErr = abs(vel[1]/vel[0]) * np.sqrt( (errors[1]/vel[1])**2 + (errors[0]/vel[0])**2 )\n",
        "\n",
        "  print(\"Error: \", velErr)\n",
        "  print(\"Upper limit: \", ratioVel + 2 * velErr, \"\\nLower Limit: \", ratioVel - 2 * velErr)\n",
        "  msg = \"The expected drop is within the 2-sigma range\" if expectedDrop >= ratioVel - 2 * velErr and expectedDrop <= ratioVel + 2 * velErr else \"The expected drop is NOT within the 2-sigma range\"\n",
        "  print(msg)\n",
        "\n",
        "  print(\"*************************\")\n",
        "\n",
        "  return"
      ],
      "execution_count": 55,
      "outputs": []
    },
    {
      "cell_type": "code",
      "metadata": {
        "ExecuteTime": {
          "end_time": "2019-08-02T02:22:20.233692Z",
          "start_time": "2019-08-02T02:22:20.225631Z"
        },
        "id": "8TPkTIthOdDI",
        "run_control": {
          "frozen": false,
          "read_only": false
        },
        "colab": {
          "base_uri": "https://localhost:8080/"
        },
        "outputId": "23e89fe5-0b17-4197-b7ff-6c32457f6e33"
      },
      "source": [
        "# your code here\n",
        "print(\"Using dv\")\n",
        "vratios(m31, m31Rds, 2*m31Rds)\n",
        "vratios(m31, m31Rds, 2.5*m31Rds)\n",
        "vratios(m31, m31Rds, 3*m31Rds)\n",
        "vratios(m31, m31Rds, 3.5*m31Rds)"
      ],
      "execution_count": 58,
      "outputs": [
        {
          "output_type": "stream",
          "name": "stdout",
          "text": [
            "Using dv\n",
            "Expected Drop:  0.7071067811865476\n",
            "Observed Ratios: \n",
            "Radius:\t\t 2.0735529530710255 \n",
            "Velocity:\t 1.0736350528331935\n",
            "Error:  0.5841736007045139\n",
            "Upper limit:  2.241982254242221 \n",
            "Lower Limit:  -0.09471214857583421\n",
            "The expected drop is within the 2-sigma range\n",
            "*************************\n",
            "Expected Drop:  0.6324555320336759\n",
            "Observed Ratios: \n",
            "Radius:\t\t 2.488288819614121 \n",
            "Velocity:\t 0.9404050186153614\n",
            "Error:  0.5736109437399932\n",
            "Upper limit:  2.087626906095348 \n",
            "Lower Limit:  -0.20681686886462503\n",
            "The expected drop is within the 2-sigma range\n",
            "*************************\n",
            "Expected Drop:  0.5773502691896257\n",
            "Observed Ratios: \n",
            "Radius:\t\t 2.9859297329176844 \n",
            "Velocity:\t 0.889246131663331\n",
            "Error:  0.5845240929904467\n",
            "Upper limit:  2.0582943176442243 \n",
            "Lower Limit:  -0.27980205431756244\n",
            "The expected drop is within the 2-sigma range\n",
            "*************************\n",
            "Expected Drop:  0.5345224838248488\n",
            "Observed Ratios: \n",
            "Radius:\t\t 3.583115679501222 \n",
            "Velocity:\t 0.9167882583338713\n",
            "Error:  0.5738481609310057\n",
            "Upper limit:  2.0644845801958827 \n",
            "Lower Limit:  -0.23090806352813997\n",
            "The expected drop is within the 2-sigma range\n",
            "*************************\n"
          ]
        }
      ]
    },
    {
      "cell_type": "code",
      "metadata": {
        "colab": {
          "base_uri": "https://localhost:8080/"
        },
        "id": "7a4C9hzLNMog",
        "outputId": "684329a0-ee69-4a82-8819-215f6074011e"
      },
      "source": [
        "print(\"Using err\")\n",
        "vratios(m31, m31Rds, 2*m31Rds, err='err')\n",
        "vratios(m31, m31Rds, 2.5*m31Rds, err='err')\n",
        "vratios(m31, m31Rds, 3*m31Rds, err='err')\n",
        "vratios(m31, m31Rds, 3.5*m31Rds, err='err')"
      ],
      "execution_count": 59,
      "outputs": [
        {
          "output_type": "stream",
          "name": "stdout",
          "text": [
            "Using err\n",
            "Expected Drop:  0.7071067811865476\n",
            "Observed Ratios: \n",
            "Radius:\t\t 2.0735529530710255 \n",
            "Velocity:\t 1.0736350528331935\n",
            "Error:  0.11424657877695615\n",
            "Upper limit:  1.3021282103871057 \n",
            "Lower Limit:  0.8451418952792812\n",
            "The expected drop is NOT within the 2-sigma range\n",
            "*************************\n",
            "Expected Drop:  0.6324555320336759\n",
            "Observed Ratios: \n",
            "Radius:\t\t 2.488288819614121 \n",
            "Velocity:\t 0.9404050186153614\n",
            "Error:  0.10646872162561287\n",
            "Upper limit:  1.153342461866587 \n",
            "Lower Limit:  0.7274675753641356\n",
            "The expected drop is NOT within the 2-sigma range\n",
            "*************************\n",
            "Expected Drop:  0.5773502691896257\n",
            "Observed Ratios: \n",
            "Radius:\t\t 2.9859297329176844 \n",
            "Velocity:\t 0.889246131663331\n",
            "Error:  0.11759854387755923\n",
            "Upper limit:  1.1244432194184495 \n",
            "Lower Limit:  0.6540490439082125\n",
            "The expected drop is NOT within the 2-sigma range\n",
            "*************************\n",
            "Expected Drop:  0.5345224838248488\n",
            "Observed Ratios: \n",
            "Radius:\t\t 3.583115679501222 \n",
            "Velocity:\t 0.9167882583338713\n",
            "Error:  0.12647470392419413\n",
            "Upper limit:  1.1697376661822596 \n",
            "Lower Limit:  0.6638388504854831\n",
            "The expected drop is NOT within the 2-sigma range\n",
            "*************************\n"
          ]
        }
      ]
    },
    {
      "cell_type": "markdown",
      "metadata": {
        "ExecuteTime": {
          "end_time": "2019-08-02T00:36:41.637045Z",
          "start_time": "2019-08-02T00:36:41.634825Z"
        },
        "id": "6me5k4c1OdDY",
        "run_control": {
          "frozen": false,
          "read_only": false
        }
      },
      "source": [
        "## Discussion\n",
        "The results from Vera Rubin's 1970 paper suggest that the orbital speed outside of the luminous range of the Andromeda Galaxy does not follow the expected (can I say null hypothesis?) Newtonian framework. In such a frame work, a body orbiting a distance r > radius of the galaxy will have a velocity proportional to 1/sqrt(r). Using the 'dv' values for the error, however, the expected drop in velocity did fall into the 2-sigma range. We would have to have better measuring tools to decrease this value. The 'err' values do point to the ground breaking conclusion that something new is happening in the exterior of the galaxies? Is Newton wrong, or is there more matter that we can't see outside the luminous part of the Galaxy?"
      ]
    },
    {
      "cell_type": "markdown",
      "metadata": {
        "id": "QIHRn8UlOdDZ",
        "run_control": {
          "frozen": false,
          "read_only": false
        }
      },
      "source": [
        "## do the same for the Milky Way. If your functions were create properly you should be able to reuse them seamlessly"
      ]
    },
    {
      "cell_type": "code",
      "metadata": {
        "id": "NVp9cJzv-Dic",
        "run_control": {
          "frozen": false,
          "read_only": false
        }
      },
      "source": [
        "# your code here\n",
        "mw = pd.read_csv('https://raw.githubusercontent.com/fedhere/DSPS_FBianco/master/HW4/mw.csv')"
      ],
      "execution_count": 31,
      "outputs": []
    },
    {
      "cell_type": "code",
      "metadata": {
        "id": "Rx5zAtROSQFp"
      },
      "source": [
        "mw = mw[['#MW', 'Grand', 'Rotation', 'Curve']].rename({'#MW':\"r\", 'Grand':'v', 'Rotation':'dv', 'Curve':'err'},axis=1)\n",
        "mw = mw[1:]"
      ],
      "execution_count": 32,
      "outputs": []
    },
    {
      "cell_type": "code",
      "metadata": {
        "colab": {
          "base_uri": "https://localhost:8080/",
          "height": 206
        },
        "id": "LyhC93AIdcjz",
        "outputId": "cea0bcdc-63ba-4819-88fc-faea663cced4"
      },
      "source": [
        "mw[\"r\"] = [float(mw.iloc[i].r) for i in range(mw.shape[0])]\n",
        "mw[\"v\"] = [float(mw.iloc[i].v) for i in range(mw.shape[0])]\n",
        "mw[\"dv\"] = [float(mw.iloc[i].dv) for i in range(mw.shape[0])]\n",
        "mw[\"err\"] = [float(mw.iloc[i].err) for i in range(mw.shape[0])]\n",
        "mw.head()"
      ],
      "execution_count": 33,
      "outputs": [
        {
          "output_type": "execute_result",
          "data": {
            "text/html": [
              "<div>\n",
              "<style scoped>\n",
              "    .dataframe tbody tr th:only-of-type {\n",
              "        vertical-align: middle;\n",
              "    }\n",
              "\n",
              "    .dataframe tbody tr th {\n",
              "        vertical-align: top;\n",
              "    }\n",
              "\n",
              "    .dataframe thead th {\n",
              "        text-align: right;\n",
              "    }\n",
              "</style>\n",
              "<table border=\"1\" class=\"dataframe\">\n",
              "  <thead>\n",
              "    <tr style=\"text-align: right;\">\n",
              "      <th></th>\n",
              "      <th>r</th>\n",
              "      <th>v</th>\n",
              "      <th>dv</th>\n",
              "      <th>err</th>\n",
              "    </tr>\n",
              "  </thead>\n",
              "  <tbody>\n",
              "    <tr>\n",
              "      <th>1</th>\n",
              "      <td>0.010</td>\n",
              "      <td>119.061</td>\n",
              "      <td>41.832</td>\n",
              "      <td>32.714</td>\n",
              "    </tr>\n",
              "    <tr>\n",
              "      <th>2</th>\n",
              "      <td>0.012</td>\n",
              "      <td>115.268</td>\n",
              "      <td>35.199</td>\n",
              "      <td>17.100</td>\n",
              "    </tr>\n",
              "    <tr>\n",
              "      <th>3</th>\n",
              "      <td>0.014</td>\n",
              "      <td>117.392</td>\n",
              "      <td>35.152</td>\n",
              "      <td>14.429</td>\n",
              "    </tr>\n",
              "    <tr>\n",
              "      <th>4</th>\n",
              "      <td>0.017</td>\n",
              "      <td>118.475</td>\n",
              "      <td>35.252</td>\n",
              "      <td>14.870</td>\n",
              "    </tr>\n",
              "    <tr>\n",
              "      <th>5</th>\n",
              "      <td>0.021</td>\n",
              "      <td>110.386</td>\n",
              "      <td>33.817</td>\n",
              "      <td>14.427</td>\n",
              "    </tr>\n",
              "  </tbody>\n",
              "</table>\n",
              "</div>"
            ],
            "text/plain": [
              "       r        v      dv     err\n",
              "1  0.010  119.061  41.832  32.714\n",
              "2  0.012  115.268  35.199  17.100\n",
              "3  0.014  117.392  35.152  14.429\n",
              "4  0.017  118.475  35.252  14.870\n",
              "5  0.021  110.386  33.817  14.427"
            ]
          },
          "metadata": {},
          "execution_count": 33
        }
      ]
    },
    {
      "cell_type": "code",
      "metadata": {
        "colab": {
          "base_uri": "https://localhost:8080/",
          "height": 300
        },
        "id": "k02dlVMgSQtV",
        "outputId": "6088a2ef-a853-4ebb-e959-e3fd9fd4fce4"
      },
      "source": [
        "mw.describe()"
      ],
      "execution_count": 34,
      "outputs": [
        {
          "output_type": "execute_result",
          "data": {
            "text/html": [
              "<div>\n",
              "<style scoped>\n",
              "    .dataframe tbody tr th:only-of-type {\n",
              "        vertical-align: middle;\n",
              "    }\n",
              "\n",
              "    .dataframe tbody tr th {\n",
              "        vertical-align: top;\n",
              "    }\n",
              "\n",
              "    .dataframe thead th {\n",
              "        text-align: right;\n",
              "    }\n",
              "</style>\n",
              "<table border=\"1\" class=\"dataframe\">\n",
              "  <thead>\n",
              "    <tr style=\"text-align: right;\">\n",
              "      <th></th>\n",
              "      <th>r</th>\n",
              "      <th>v</th>\n",
              "      <th>dv</th>\n",
              "      <th>err</th>\n",
              "    </tr>\n",
              "  </thead>\n",
              "  <tbody>\n",
              "    <tr>\n",
              "      <th>count</th>\n",
              "      <td>64.000000</td>\n",
              "      <td>64.000000</td>\n",
              "      <td>64.000000</td>\n",
              "      <td>64.000000</td>\n",
              "    </tr>\n",
              "    <tr>\n",
              "      <th>mean</th>\n",
              "      <td>142.281500</td>\n",
              "      <td>187.101219</td>\n",
              "      <td>48.249062</td>\n",
              "      <td>19.003297</td>\n",
              "    </tr>\n",
              "    <tr>\n",
              "      <th>std</th>\n",
              "      <td>348.144773</td>\n",
              "      <td>52.161901</td>\n",
              "      <td>41.255286</td>\n",
              "      <td>23.513466</td>\n",
              "    </tr>\n",
              "    <tr>\n",
              "      <th>min</th>\n",
              "      <td>0.010000</td>\n",
              "      <td>93.042000</td>\n",
              "      <td>3.370000</td>\n",
              "      <td>0.868000</td>\n",
              "    </tr>\n",
              "    <tr>\n",
              "      <th>25%</th>\n",
              "      <td>0.177250</td>\n",
              "      <td>138.676250</td>\n",
              "      <td>12.585500</td>\n",
              "      <td>2.709750</td>\n",
              "    </tr>\n",
              "    <tr>\n",
              "      <th>50%</th>\n",
              "      <td>3.133500</td>\n",
              "      <td>204.576000</td>\n",
              "      <td>35.288500</td>\n",
              "      <td>13.923000</td>\n",
              "    </tr>\n",
              "    <tr>\n",
              "      <th>75%</th>\n",
              "      <td>55.298250</td>\n",
              "      <td>235.920500</td>\n",
              "      <td>68.412750</td>\n",
              "      <td>24.791250</td>\n",
              "    </tr>\n",
              "    <tr>\n",
              "      <th>max</th>\n",
              "      <td>1682.532000</td>\n",
              "      <td>255.300000</td>\n",
              "      <td>165.096000</td>\n",
              "      <td>110.484000</td>\n",
              "    </tr>\n",
              "  </tbody>\n",
              "</table>\n",
              "</div>"
            ],
            "text/plain": [
              "                 r           v          dv         err\n",
              "count    64.000000   64.000000   64.000000   64.000000\n",
              "mean    142.281500  187.101219   48.249062   19.003297\n",
              "std     348.144773   52.161901   41.255286   23.513466\n",
              "min       0.010000   93.042000    3.370000    0.868000\n",
              "25%       0.177250  138.676250   12.585500    2.709750\n",
              "50%       3.133500  204.576000   35.288500   13.923000\n",
              "75%      55.298250  235.920500   68.412750   24.791250\n",
              "max    1682.532000  255.300000  165.096000  110.484000"
            ]
          },
          "metadata": {},
          "execution_count": 34
        }
      ]
    },
    {
      "cell_type": "code",
      "metadata": {
        "colab": {
          "base_uri": "https://localhost:8080/",
          "height": 206
        },
        "id": "c4UIcAWMT_K0",
        "outputId": "253062c7-f9b6-47c3-feb0-93363fdadadc"
      },
      "source": [
        "mwRds = 56.70 / 2 #Kpc\n",
        "mw.head()"
      ],
      "execution_count": 35,
      "outputs": [
        {
          "output_type": "execute_result",
          "data": {
            "text/html": [
              "<div>\n",
              "<style scoped>\n",
              "    .dataframe tbody tr th:only-of-type {\n",
              "        vertical-align: middle;\n",
              "    }\n",
              "\n",
              "    .dataframe tbody tr th {\n",
              "        vertical-align: top;\n",
              "    }\n",
              "\n",
              "    .dataframe thead th {\n",
              "        text-align: right;\n",
              "    }\n",
              "</style>\n",
              "<table border=\"1\" class=\"dataframe\">\n",
              "  <thead>\n",
              "    <tr style=\"text-align: right;\">\n",
              "      <th></th>\n",
              "      <th>r</th>\n",
              "      <th>v</th>\n",
              "      <th>dv</th>\n",
              "      <th>err</th>\n",
              "    </tr>\n",
              "  </thead>\n",
              "  <tbody>\n",
              "    <tr>\n",
              "      <th>1</th>\n",
              "      <td>0.010</td>\n",
              "      <td>119.061</td>\n",
              "      <td>41.832</td>\n",
              "      <td>32.714</td>\n",
              "    </tr>\n",
              "    <tr>\n",
              "      <th>2</th>\n",
              "      <td>0.012</td>\n",
              "      <td>115.268</td>\n",
              "      <td>35.199</td>\n",
              "      <td>17.100</td>\n",
              "    </tr>\n",
              "    <tr>\n",
              "      <th>3</th>\n",
              "      <td>0.014</td>\n",
              "      <td>117.392</td>\n",
              "      <td>35.152</td>\n",
              "      <td>14.429</td>\n",
              "    </tr>\n",
              "    <tr>\n",
              "      <th>4</th>\n",
              "      <td>0.017</td>\n",
              "      <td>118.475</td>\n",
              "      <td>35.252</td>\n",
              "      <td>14.870</td>\n",
              "    </tr>\n",
              "    <tr>\n",
              "      <th>5</th>\n",
              "      <td>0.021</td>\n",
              "      <td>110.386</td>\n",
              "      <td>33.817</td>\n",
              "      <td>14.427</td>\n",
              "    </tr>\n",
              "  </tbody>\n",
              "</table>\n",
              "</div>"
            ],
            "text/plain": [
              "       r        v      dv     err\n",
              "1  0.010  119.061  41.832  32.714\n",
              "2  0.012  115.268  35.199  17.100\n",
              "3  0.014  117.392  35.152  14.429\n",
              "4  0.017  118.475  35.252  14.870\n",
              "5  0.021  110.386  33.817  14.427"
            ]
          },
          "metadata": {},
          "execution_count": 35
        }
      ]
    },
    {
      "cell_type": "code",
      "metadata": {
        "colab": {
          "base_uri": "https://localhost:8080/",
          "height": 513
        },
        "id": "EPjo0oEUXem3",
        "outputId": "ac3a76b9-c2bd-4ec7-a0f8-5cde8ff21e9a"
      },
      "source": [
        "plotGal(mw, mwRds)\n",
        "pl.title(\"Orbital Velocity around the Milky Way Galaxy\");"
      ],
      "execution_count": 39,
      "outputs": [
        {
          "output_type": "display_data",
          "data": {
            "image/png": "[encoded data removed]",
            "text/plain": [
              "<Figure size 720x576 with 1 Axes>"
            ]
          },
          "metadata": {
            "needs_background": "light"
          }
        }
      ]
    },
    {
      "cell_type": "markdown",
      "metadata": {
        "id": "luAaKQy9of3r"
      },
      "source": [
        "### Figure 2: Plot of the Orbital Velocity (km/s) vs Distance from center for the Milky Way Galaxy. At distances larger than one radius we expect to see a fall off of velocity proportional to 1/sqrt(r) according to Newtonian mechanics. Qualitatively we do see a fall off of velocities larger than 1 radius until about 2 times the radius where the velocity levels off."
      ]
    },
    {
      "cell_type": "code",
      "metadata": {
        "colab": {
          "base_uri": "https://localhost:8080/"
        },
        "id": "EHLgmhreXrj_",
        "outputId": "bc1f0545-871a-449c-a41b-f2f9211abb29"
      },
      "source": [
        "print(\"Using dv value for comparison\")\n",
        "vratios(mw, mwRds, 2*mwRds)\n",
        "vratios(mw, mwRds, 2.5*mwRds)\n",
        "vratios(mw, mwRds, 3*mwRds)\n",
        "vratios(mw, mwRds, 3.5*mwRds)"
      ],
      "execution_count": 44,
      "outputs": [
        {
          "output_type": "stream",
          "name": "stdout",
          "text": [
            "Using dv value for comparison\n",
            "Expected Drop:  0.7071067811865475\n",
            "Observed Ratios: \n",
            "Radius:\t\t 2.073629294221872 \n",
            "Velocity:\t 0.849371666214628\n",
            "Error:  0.3638671356131401\n",
            "Upper limit:  1.5771059374409082 \n",
            "Lower Limit:  0.1216373949883478\n",
            "The expected drop is within the 2-sigma range\n",
            "*************************\n",
            "Expected Drop:  0.6324555320336759\n",
            "Observed Ratios: \n",
            "Radius:\t\t 2.488335466089182 \n",
            "Velocity:\t 0.8122999728776783\n",
            "Error:  0.39484932121324917\n",
            "Upper limit:  1.6019986153041765 \n",
            "Lower Limit:  0.022601330451179957\n",
            "The expected drop is within the 2-sigma range\n",
            "*************************\n",
            "Expected Drop:  0.5773502691896257\n",
            "Observed Ratios: \n",
            "Radius:\t\t 2.986022246284083 \n",
            "Velocity:\t 0.7026670282976222\n",
            "Error:  0.42228340879348447\n",
            "Upper limit:  1.5472338458845911 \n",
            "Lower Limit:  -0.14189978928934677\n",
            "The expected drop is within the 2-sigma range\n",
            "*************************\n",
            "Expected Drop:  0.5345224838248487\n",
            "Observed Ratios: \n",
            "Radius:\t\t 3.5831938839124584 \n",
            "Velocity:\t 0.5820269415061929\n",
            "Error:  0.4461455457968636\n",
            "Upper limit:  1.4743180330999202 \n",
            "Lower Limit:  -0.3102641500875343\n",
            "The expected drop is within the 2-sigma range\n",
            "*************************\n"
          ]
        }
      ]
    },
    {
      "cell_type": "code",
      "metadata": {
        "colab": {
          "base_uri": "https://localhost:8080/"
        },
        "id": "z9gjKO_-ZPQo",
        "outputId": "330cd500-9beb-4cbf-90c2-c1efcb8acb46"
      },
      "source": [
        "print(\"Using err value for comparison\")\n",
        "vratios(mw, mwRds, 2*mwRds, err='err')\n",
        "vratios(mw, mwRds, 2.5*mwRds, err='err')\n",
        "vratios(mw, mwRds, 3*mwRds, err='err')\n",
        "vratios(mw, mwRds, 3.5*mwRds,err='err')"
      ],
      "execution_count": 45,
      "outputs": [
        {
          "output_type": "stream",
          "name": "stdout",
          "text": [
            "Using err value for comparison\n",
            "Expected Drop:  0.7071067811865475\n",
            "Observed Ratios: \n",
            "Radius:\t\t 2.073629294221872 \n",
            "Velocity:\t 0.849371666214628\n",
            "Error:  0.1200267359858641\n",
            "Upper limit:  1.0894251381863562 \n",
            "Lower Limit:  0.6093181942428998\n",
            "The expected drop is within the 2-sigma range\n",
            "*************************\n",
            "Expected Drop:  0.6324555320336759\n",
            "Observed Ratios: \n",
            "Radius:\t\t 2.488335466089182 \n",
            "Velocity:\t 0.8122999728776783\n",
            "Error:  0.13082914322768038\n",
            "Upper limit:  1.073958259333039 \n",
            "Lower Limit:  0.5506416864223176\n",
            "The expected drop is within the 2-sigma range\n",
            "*************************\n",
            "Expected Drop:  0.5773502691896257\n",
            "Observed Ratios: \n",
            "Radius:\t\t 2.986022246284083 \n",
            "Velocity:\t 0.7026670282976222\n",
            "Error:  0.15079934573687845\n",
            "Upper limit:  1.0042657197713791 \n",
            "Lower Limit:  0.4010683368238653\n",
            "The expected drop is within the 2-sigma range\n",
            "*************************\n",
            "Expected Drop:  0.5345224838248487\n",
            "Observed Ratios: \n",
            "Radius:\t\t 3.5831938839124584 \n",
            "Velocity:\t 0.5820269415061929\n",
            "Error:  0.1896730073680055\n",
            "Upper limit:  0.961372956242204 \n",
            "Lower Limit:  0.20268092677018196\n",
            "The expected drop is within the 2-sigma range\n",
            "*************************\n"
          ]
        }
      ]
    },
    {
      "cell_type": "markdown",
      "metadata": {
        "id": "DbvnuAA0vo-T"
      },
      "source": [
        "## Discussion\n",
        "The Milky Way analysis does not lead to similar conclusions as those of the analysis of the Andromeday Galaxy. At distances larger than 1 radius (~30Kpc) there is a fall off of orbital velocities, which agree with the expected fall of according to Newton's Laws. "
      ]
    },
    {
      "cell_type": "code",
      "metadata": {
        "colab": {
          "base_uri": "https://localhost:8080/"
        },
        "id": "Hpl-KCnkxGmr",
        "outputId": "ff4db41f-f6c6-49f4-e354-b8cf5cf5172f"
      },
      "source": [
        "print(\"Means\\tm31\\t\\tmw\")\n",
        "print('err\\t{:.2f}\\t\\t{:.2f}'.format(m31.err.mean(), mw.err.mean()))\n",
        "print('dv\\t{:.2f}\\t\\t{:.2f}'.format(m31.dv.mean(), mw.dv.mean()))"
      ],
      "execution_count": 76,
      "outputs": [
        {
          "output_type": "stream",
          "name": "stdout",
          "text": [
            "Means\tm31\t\tmw\n",
            "err\t16.17\t\t19.00\n",
            "dv\t55.03\t\t48.25\n"
          ]
        }
      ]
    },
    {
      "cell_type": "code",
      "metadata": {
        "id": "5o_bBFjDcWNr",
        "colab": {
          "base_uri": "https://localhost:8080/",
          "height": 334
        },
        "outputId": "ff0bed82-1fed-4688-f476-bb0540b60c0f"
      },
      "source": [
        "pl.hist(m31.err)"
      ],
      "execution_count": 60,
      "outputs": [
        {
          "output_type": "execute_result",
          "data": {
            "text/plain": [
              "(array([20.,  6.,  4.,  5.,  9.,  4.,  1.,  1.,  2.,  3.]),\n",
              " array([ 0.   ,  5.411, 10.822, 16.233, 21.644, 27.055, 32.466, 37.877,\n",
              "        43.288, 48.699, 54.11 ]),\n",
              " <a list of 10 Patch objects>)"
            ]
          },
          "metadata": {},
          "execution_count": 60
        },
        {
          "output_type": "display_data",
          "data": {
            "image/png": "[encoded data removed]",
            "text/plain": [
              "<Figure size 432x288 with 1 Axes>"
            ]
          },
          "metadata": {
            "needs_background": "light"
          }
        }
      ]
    },
    {
      "cell_type": "code",
      "metadata": {
        "colab": {
          "base_uri": "https://localhost:8080/",
          "height": 334
        },
        "id": "m5LB-14Aw08t",
        "outputId": "33d785db-2f6b-44bc-9bb0-dfd3000d8930"
      },
      "source": [
        "pl.hist(mw.err)"
      ],
      "execution_count": 61,
      "outputs": [
        {
          "output_type": "execute_result",
          "data": {
            "text/plain": [
              "(array([30., 15., 10.,  4.,  0.,  2.,  0.,  0.,  1.,  2.]),\n",
              " array([  0.868 ,  11.8296,  22.7912,  33.7528,  44.7144,  55.676 ,\n",
              "         66.6376,  77.5992,  88.5608,  99.5224, 110.484 ]),\n",
              " <a list of 10 Patch objects>)"
            ]
          },
          "metadata": {},
          "execution_count": 61
        },
        {
          "output_type": "display_data",
          "data": {
            "image/png": "[encoded data removed]",
            "text/plain": [
              "<Figure size 432x288 with 1 Axes>"
            ]
          },
          "metadata": {
            "needs_background": "light"
          }
        }
      ]
    },
    {
      "cell_type": "code",
      "metadata": {
        "colab": {
          "base_uri": "https://localhost:8080/",
          "height": 334
        },
        "id": "yvlzR6mCw5Ng",
        "outputId": "59f10d24-ce68-476c-a665-836632193f17"
      },
      "source": [
        "pl.hist(m31.dv)"
      ],
      "execution_count": 62,
      "outputs": [
        {
          "output_type": "execute_result",
          "data": {
            "text/plain": [
              "(array([17.,  9.,  3.,  5.,  1.,  5.,  2.,  3.,  4.,  6.]),\n",
              " array([  0.    ,  14.7835,  29.567 ,  44.3505,  59.134 ,  73.9175,\n",
              "         88.701 , 103.4845, 118.268 , 133.0515, 147.835 ]),\n",
              " <a list of 10 Patch objects>)"
            ]
          },
          "metadata": {},
          "execution_count": 62
        },
        {
          "output_type": "display_data",
          "data": {
            "image/png": "[encoded data removed]",
            "text/plain": [
              "<Figure size 432x288 with 1 Axes>"
            ]
          },
          "metadata": {
            "needs_background": "light"
          }
        }
      ]
    },
    {
      "cell_type": "code",
      "metadata": {
        "colab": {
          "base_uri": "https://localhost:8080/",
          "height": 334
        },
        "id": "JIbs6RKFw9JD",
        "outputId": "b337ce4f-8463-4f85-ff4a-4257b529204e"
      },
      "source": [
        "pl.hist(mw.dv)"
      ],
      "execution_count": 63,
      "outputs": [
        {
          "output_type": "execute_result",
          "data": {
            "text/plain": [
              "(array([21., 13.,  8.,  5.,  5.,  3.,  5.,  1.,  0.,  3.]),\n",
              " array([  3.37  ,  19.5426,  35.7152,  51.8878,  68.0604,  84.233 ,\n",
              "        100.4056, 116.5782, 132.7508, 148.9234, 165.096 ]),\n",
              " <a list of 10 Patch objects>)"
            ]
          },
          "metadata": {},
          "execution_count": 63
        },
        {
          "output_type": "display_data",
          "data": {
            "image/png": "[encoded data removed]",
            "text/plain": [
              "<Figure size 432x288 with 1 Axes>"
            ]
          },
          "metadata": {
            "needs_background": "light"
          }
        }
      ]
    },
    {
      "cell_type": "code",
      "metadata": {
        "id": "mpbyRR7-xB7c"
      },
      "source": [
        ""
      ],
      "execution_count": null,
      "outputs": []
    }
  ]
}