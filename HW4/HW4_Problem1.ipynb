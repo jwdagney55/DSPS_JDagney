{
  "nbformat": 4,
  "nbformat_minor": 0,
  "metadata": {
    "colab": {
      "name": "HW4-Problem1.ipynb",
      "provenance": [],
      "authorship_tag": "ABX9TyNGUHFTrGXp+HiiXV6zskDS",
      "include_colab_link": true
    },
    "kernelspec": {
      "name": "python3",
      "display_name": "Python 3"
    },
    "language_info": {
      "name": "python"
    }
  },
  "cells": [
    {
      "cell_type": "markdown",
      "metadata": {
        "id": "view-in-github",
        "colab_type": "text"
      },
      "source": [
        "<a href=\"https://colab.research.google.com/github/jwdagney55/DSPS_JDagney/blob/main/HW4/HW4_Problem1.ipynb\" target=\"_parent\"><img src=\"https://colab.research.google.com/assets/colab-badge.svg\" alt=\"Open In Colab\"/></a>"
      ]
    },
    {
      "cell_type": "markdown",
      "metadata": {
        "id": "1lcI7Lu8aOkV"
      },
      "source": [
        "# Could not get the distribution to output the right mean. Not really sure how I can do this"
      ]
    },
    {
      "cell_type": "code",
      "metadata": {
        "id": "IBVehfcIBzdz"
      },
      "source": [
        "import numpy as np\n",
        "import pylab as pl\n",
        "from scipy import stats\n",
        "from scipy import special"
      ],
      "execution_count": null,
      "outputs": []
    },
    {
      "cell_type": "markdown",
      "metadata": {
        "id": "wHj5ekkiCgLD"
      },
      "source": [
        "Get our uniform distribution"
      ]
    },
    {
      "cell_type": "code",
      "metadata": {
        "colab": {
          "base_uri": "https://localhost:8080/"
        },
        "id": "46zx2T_ZCfeQ",
        "outputId": "39372c78-b1bc-47f4-9149-03cefd5caf24"
      },
      "source": [
        "#uniform distribution\n",
        "K = np.array([4**n for n in range(1, 11)])\n",
        "d = np.array([np.random.rand(int(n)) * 2 for n in K])"
      ],
      "execution_count": null,
      "outputs": [
        {
          "output_type": "stream",
          "name": "stderr",
          "text": [
            "/usr/local/lib/python3.7/dist-packages/ipykernel_launcher.py:3: VisibleDeprecationWarning: Creating an ndarray from ragged nested sequences (which is a list-or-tuple of lists-or-tuples-or ndarrays with different lengths or shapes) is deprecated. If you meant to do this, you must specify 'dtype=object' when creating the ndarray\n",
            "  This is separate from the ipykernel package so we can avoid doing imports until\n"
          ]
        }
      ]
    },
    {
      "cell_type": "code",
      "metadata": {
        "colab": {
          "base_uri": "https://localhost:8080/"
        },
        "id": "JvSE9J9NB_LW",
        "outputId": "e886ce1b-28fd-415b-90cc-2af63590d957"
      },
      "source": [
        "d.shape"
      ],
      "execution_count": null,
      "outputs": [
        {
          "output_type": "execute_result",
          "data": {
            "text/plain": [
              "(10,)"
            ]
          },
          "metadata": {},
          "execution_count": 96
        }
      ]
    },
    {
      "cell_type": "code",
      "metadata": {
        "colab": {
          "base_uri": "https://localhost:8080/",
          "height": 1000
        },
        "id": "QccpBy2OCNA_",
        "outputId": "b9aa66f7-5c4a-464a-c697-9331a8693d84"
      },
      "source": [
        "for i in range (10):\n",
        "  pl.figure()\n",
        "  pl.hist(d[i])"
      ],
      "execution_count": null,
      "outputs": [
        {
          "output_type": "display_data",
          "data": {
            "image/png": "[encoded data removed]",
            "text/plain": [
              "<Figure size 432x288 with 1 Axes>"
            ]
          },
          "metadata": {
            "needs_background": "light"
          }
        },
        {
          "output_type": "display_data",
          "data": {
            "image/png": "[encoded data removed]",
            "text/plain": [
              "<Figure size 432x288 with 1 Axes>"
            ]
          },
          "metadata": {
            "needs_background": "light"
          }
        },
        {
          "output_type": "display_data",
          "data": {
            "image/png": "[encoded data removed]",
            "text/plain": [
              "<Figure size 432x288 with 1 Axes>"
            ]
          },
          "metadata": {
            "needs_background": "light"
          }
        },
        {
          "output_type": "display_data",
          "data": {
            "image/png": "[encoded data removed]",
            "text/plain": [
              "<Figure size 432x288 with 1 Axes>"
            ]
          },
          "metadata": {
            "needs_background": "light"
          }
        },
        {
          "output_type": "display_data",
          "data": {
            "image/png": "[encoded data removed]",
            "text/plain": [
              "<Figure size 432x288 with 1 Axes>"
            ]
          },
          "metadata": {
            "needs_background": "light"
          }
        },
        {
          "output_type": "display_data",
          "data": {
            "image/png": "[encoded data removed]",
            "text/plain": [
              "<Figure size 432x288 with 1 Axes>"
            ]
          },
          "metadata": {
            "needs_background": "light"
          }
        },
        {
          "output_type": "display_data",
          "data": {
            "image/png": "[encoded data removed]",
            "text/plain": [
              "<Figure size 432x288 with 1 Axes>"
            ]
          },
          "metadata": {
            "needs_background": "light"
          }
        },
        {
          "output_type": "display_data",
          "data": {
            "image/png": "[encoded data removed]",
            "text/plain": [
              "<Figure size 432x288 with 1 Axes>"
            ]
          },
          "metadata": {
            "needs_background": "light"
          }
        },
        {
          "output_type": "display_data",
          "data": {
            "image/png": "[encoded data removed]",
            "text/plain": [
              "<Figure size 432x288 with 1 Axes>"
            ]
          },
          "metadata": {
            "needs_background": "light"
          }
        },
        {
          "output_type": "display_data",
          "data": {
            "image/png": "[encoded data removed]",
            "text/plain": [
              "<Figure size 432x288 with 1 Axes>"
            ]
          },
          "metadata": {
            "needs_background": "light"
          }
        }
      ]
    },
    {
      "cell_type": "code",
      "metadata": {
        "id": "xgQRfatREoYa"
      },
      "source": [
        "def lognormal(x, mu, sig):\n",
        "  return ( 1 / (x * sig * np.sqrt(2*np.pi)) * np.exp(-(np.log(x) - mu)**2 / (2 * sig**2)) )"
      ],
      "execution_count": null,
      "outputs": []
    },
    {
      "cell_type": "code",
      "metadata": {
        "colab": {
          "base_uri": "https://localhost:8080/"
        },
        "id": "QdyHOF6WFqHB",
        "outputId": "4d097317-1a6d-4f4b-ea33-a47e4ec68a4f"
      },
      "source": [
        "lognormal(5, 10, 3)"
      ],
      "execution_count": null,
      "outputs": [
        {
          "output_type": "execute_result",
          "data": {
            "text/plain": [
              "0.0005323630031282576"
            ]
          },
          "metadata": {},
          "execution_count": 89
        }
      ]
    },
    {
      "cell_type": "code",
      "metadata": {
        "id": "JztkaTlrYSUC"
      },
      "source": [
        "mu = 0\n",
        "sig = 0.25"
      ],
      "execution_count": null,
      "outputs": []
    },
    {
      "cell_type": "code",
      "metadata": {
        "colab": {
          "base_uri": "https://localhost:8080/",
          "height": 417
        },
        "id": "9B0kJ35UFsu7",
        "outputId": "323723f8-d8f3-41d6-adaa-ba40105730b1"
      },
      "source": [
        "pl.plot(d[3], lognormal(d[3], mu, sig), '.')\n",
        "pl.plot(np.linspace(0,4,100), lognormal(np.linspace(0,4,100), trueMean, 0.25))\n",
        "pl.ylabel(\"pdf\")\n",
        "pl.xlabel(\"x\")\n",
        "pl.title(\"LogNormal\")"
      ],
      "execution_count": null,
      "outputs": [
        {
          "output_type": "stream",
          "name": "stderr",
          "text": [
            "/usr/local/lib/python3.7/dist-packages/ipykernel_launcher.py:2: RuntimeWarning: divide by zero encountered in true_divide\n",
            "  \n",
            "/usr/local/lib/python3.7/dist-packages/ipykernel_launcher.py:2: RuntimeWarning: divide by zero encountered in log\n",
            "  \n",
            "/usr/local/lib/python3.7/dist-packages/ipykernel_launcher.py:2: RuntimeWarning: invalid value encountered in multiply\n",
            "  \n"
          ]
        },
        {
          "output_type": "execute_result",
          "data": {
            "text/plain": [
              "Text(0.5, 1.0, 'LogNormal')"
            ]
          },
          "metadata": {},
          "execution_count": 101
        },
        {
          "output_type": "display_data",
          "data": {
            "image/png": "[encoded data removed]",
            "text/plain": [
              "<Figure size 432x288 with 1 Axes>"
            ]
          },
          "metadata": {
            "needs_background": "light"
          }
        }
      ]
    },
    {
      "cell_type": "markdown",
      "metadata": {
        "id": "lIk9FLObH1d1"
      },
      "source": [
        "### Figure 1. Plot of the Chi-Square distribuition with mean = 10 superimposed with an example of the random uniform distribution"
      ]
    },
    {
      "cell_type": "markdown",
      "metadata": {
        "id": "bzDk6ujiIJfW"
      },
      "source": [
        "## Calculate the mean from the 10 uniform distributions"
      ]
    },
    {
      "cell_type": "code",
      "metadata": {
        "id": "7ksB7SZpIIyV"
      },
      "source": [
        "trueMean = np.exp(mu + (sig**2)/2)"
      ],
      "execution_count": null,
      "outputs": []
    },
    {
      "cell_type": "code",
      "metadata": {
        "colab": {
          "base_uri": "https://localhost:8080/"
        },
        "id": "M4dFU1dEF9Ul",
        "outputId": "7f5014bb-7ec9-46e9-e22d-109c0adc8990"
      },
      "source": [
        "print(\"mean\\tN\\terror\\ttrue mean\")\n",
        "samp_means = []\n",
        "samp_means.append(1 / len(d[0]) * np.sum(lognormal(d[0], mu, sig)   ))\n",
        "print(d[0])\n",
        "print(lognormal(d[0], mu, sig))\n",
        "print(lognormal(d[0], mu, sig) * d[0])\n",
        "print(samp_means)\n",
        "for i in range(10):\n",
        "  samp_means.append(1 / len(d[i]) * np.sum(lognormal(d[i], mu, sig) * d[i]))\n",
        "  print(\"{:.2f}\\t{}\\t{:.2g}\\t{}\".format(samp_means[-1],  len(d[i]), np.abs(samp_means[-1] - trueMean), trueMean))\n",
        "\n",
        "#pl.figure()\n",
        "#pl.xscale('log')\n",
        "\n",
        "#pl.plot(K, samp_means)\n",
        "#pl.axhline(trueMean, color = 'k')\n",
        "\n",
        "#pl.ylabel(\"mean\")\n",
        "#pl.xlabel(\"sample size\")\n",
        "#pl.text(K[-2]*.5, 0.005, \"true mean\", fontsize=12);"
      ],
      "execution_count": null,
      "outputs": [
        {
          "output_type": "stream",
          "name": "stdout",
          "text": [
            "mean\tN\terror\ttrue mean\n",
            "[1.91044805 0.74161807 1.99553877 0.29500453]\n",
            "[2.92360799e-02 1.05279350e+00 1.75543004e-02 3.59274571e-05]\n",
            "[5.58540117e-02 7.80770682e-01 3.50302870e-02 1.05987625e-05]\n",
            "[0.27490495098189155]\n",
            "0.22\t4\t0.81\t1.0317434074991028\n",
            "0.37\t16\t0.66\t1.0317434074991028\n",
            "0.51\t64\t0.52\t1.0317434074991028\n",
            "0.49\t256\t0.54\t1.0317434074991028\n",
            "0.52\t1024\t0.51\t1.0317434074991028\n",
            "0.51\t4096\t0.52\t1.0317434074991028\n",
            "0.52\t16384\t0.52\t1.0317434074991028\n",
            "0.51\t65536\t0.52\t1.0317434074991028\n",
            "0.51\t262144\t0.52\t1.0317434074991028\n",
            "0.51\t1048576\t0.52\t1.0317434074991028\n"
          ]
        }
      ]
    },
    {
      "cell_type": "code",
      "metadata": {
        "id": "Ygav8tLFIaAm"
      },
      "source": [
        ""
      ],
      "execution_count": null,
      "outputs": []
    }
  ]
}