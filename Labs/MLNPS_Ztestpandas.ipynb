{
  "nbformat": 4,
  "nbformat_minor": 0,
  "metadata": {
    "colab": {
      "name": "MLNPS_Ztestpandas.ipynb",
      "provenance": [],
      "collapsed_sections": [],
      "include_colab_link": true
    },
    "kernelspec": {
      "name": "python3",
      "display_name": "Python 3"
    },
    "language_info": {
      "name": "python"
    }
  },
  "cells": [
    {
      "cell_type": "markdown",
      "metadata": {
        "id": "view-in-github",
        "colab_type": "text"
      },
      "source": [
        "<a href=\"https://colab.research.google.com/github/jwdagney55/DSPS_JDagney/blob/main/Labs/MLNPS_Ztestpandas.ipynb\" target=\"_parent\"><img src=\"https://colab.research.google.com/assets/colab-badge.svg\" alt=\"Open In Colab\"/></a>"
      ]
    },
    {
      "cell_type": "code",
      "metadata": {
        "colab": {
          "base_uri": "https://localhost:8080/"
        },
        "id": "zYeYaORLJz2M",
        "outputId": "a876756e-1079-4016-8cd2-1d67f6479f6b"
      },
      "source": [
        "#Import into lab folder on github\n",
        "\n",
        "import pandas as pd\n",
        "%pylab inline"
      ],
      "execution_count": 24,
      "outputs": [
        {
          "output_type": "stream",
          "name": "stdout",
          "text": [
            "Populating the interactive namespace from numpy and matplotlib\n"
          ]
        }
      ]
    },
    {
      "cell_type": "markdown",
      "metadata": {
        "id": "SQd2HLsUJ5N-"
      },
      "source": [
        "I extracted precipitations records for Willmington from 2000/01/01 through today. \n",
        "The goal is to extract from these data the daily precipitation starting on 2018/01/01 and assess if these data are different from a population with mean $\\mu = 0.14$ standard deviation $\\sigma= 0.38$. \n",
        "\n",
        "Set a p-value at $3\\sigma$:  $p=0.007$"
      ]
    },
    {
      "cell_type": "code",
      "metadata": {
        "id": "Q0hV8dDFJ6BW"
      },
      "source": [
        "rain = pd.read_csv(\"https://raw.githubusercontent.com/fedhere/DSPS/master/labs/1865331.csv\")"
      ],
      "execution_count": 33,
      "outputs": []
    },
    {
      "cell_type": "markdown",
      "metadata": {
        "id": "wLnSJ7lZJ7oB"
      },
      "source": [
        "\n",
        "The $Z$ statistics is : $Z = \\frac{\\bar{X} - \\mu }{s}$ and $s = \\sigma / \\sqrt(N)$ (you should know what all those symbols mean)\n",
        "\n",
        "1. Extract from the dataframe above the columns \"DATE\" and \"PRCP\" (precipitation)\n",
        "\n",
        "2. Convert the dataframe DATE from ```string``` to ```datetime``` type\n",
        " using pd.datetime() \n",
        "    \n",
        "3. Select the data rows with date later than 2018/01/01. \n",
        "    If your data type conversion worked well you should be able to set the condition as ```rain[<newcolumnname>]> pd.to_datetime(\"2018/01/01\")```\n",
        "    use the technique called \"broadcasting\" to select the rows: \n",
        "    \n",
        "    ```rain[ rain[<newcolumnname>]> pd.to_datetime(\"2018/01/01\")]``` which you can save as a new dataframe\n",
        "    \n",
        "4. Calculate the mean of the sample you created $\\bar{X}$ and plug it in  the numerator of the $Z$ statistics: $\\bar{X}- \\mu$\n",
        "\n",
        "5. Calculate the size of the sample and plug it in the formula. Now you have $Z$\n",
        "\n",
        "6. Knowing the distribution of $Z\\sim N(\\mu=0, \\sigma=1)$ and with a confidence $p=0.05$, did you find that the time period 2018/01/01---today has a statistically significant different amount of rain?  \n",
        "    "
      ]
    },
    {
      "cell_type": "code",
      "metadata": {
        "id": "l1lRuA72J90k",
        "colab": {
          "base_uri": "https://localhost:8080/",
          "height": 203
        },
        "outputId": "1be138d1-e92f-4a1f-d656-9ee677a0b579"
      },
      "source": [
        "rain.head()"
      ],
      "execution_count": 34,
      "outputs": [
        {
          "output_type": "execute_result",
          "data": {
            "text/html": [
              "<div>\n",
              "<style scoped>\n",
              "    .dataframe tbody tr th:only-of-type {\n",
              "        vertical-align: middle;\n",
              "    }\n",
              "\n",
              "    .dataframe tbody tr th {\n",
              "        vertical-align: top;\n",
              "    }\n",
              "\n",
              "    .dataframe thead th {\n",
              "        text-align: right;\n",
              "    }\n",
              "</style>\n",
              "<table border=\"1\" class=\"dataframe\">\n",
              "  <thead>\n",
              "    <tr style=\"text-align: right;\">\n",
              "      <th></th>\n",
              "      <th>STATION</th>\n",
              "      <th>NAME</th>\n",
              "      <th>DATE</th>\n",
              "      <th>PRCP</th>\n",
              "      <th>SNOW</th>\n",
              "      <th>SNWD</th>\n",
              "      <th>WESD</th>\n",
              "      <th>WESF</th>\n",
              "    </tr>\n",
              "  </thead>\n",
              "  <tbody>\n",
              "    <tr>\n",
              "      <th>0</th>\n",
              "      <td>US1DENC0010</td>\n",
              "      <td>NEWPORT 2.4 WNW, DE US</td>\n",
              "      <td>2010-01-01</td>\n",
              "      <td>0.28</td>\n",
              "      <td>NaN</td>\n",
              "      <td>0.0</td>\n",
              "      <td>NaN</td>\n",
              "      <td>NaN</td>\n",
              "    </tr>\n",
              "    <tr>\n",
              "      <th>1</th>\n",
              "      <td>US1DENC0010</td>\n",
              "      <td>NEWPORT 2.4 WNW, DE US</td>\n",
              "      <td>2010-01-02</td>\n",
              "      <td>0.00</td>\n",
              "      <td>0.0</td>\n",
              "      <td>NaN</td>\n",
              "      <td>NaN</td>\n",
              "      <td>NaN</td>\n",
              "    </tr>\n",
              "    <tr>\n",
              "      <th>2</th>\n",
              "      <td>US1DENC0010</td>\n",
              "      <td>NEWPORT 2.4 WNW, DE US</td>\n",
              "      <td>2010-01-03</td>\n",
              "      <td>0.00</td>\n",
              "      <td>0.0</td>\n",
              "      <td>NaN</td>\n",
              "      <td>NaN</td>\n",
              "      <td>NaN</td>\n",
              "    </tr>\n",
              "    <tr>\n",
              "      <th>3</th>\n",
              "      <td>US1DENC0010</td>\n",
              "      <td>NEWPORT 2.4 WNW, DE US</td>\n",
              "      <td>2010-01-04</td>\n",
              "      <td>0.00</td>\n",
              "      <td>0.0</td>\n",
              "      <td>NaN</td>\n",
              "      <td>NaN</td>\n",
              "      <td>NaN</td>\n",
              "    </tr>\n",
              "    <tr>\n",
              "      <th>4</th>\n",
              "      <td>US1DENC0010</td>\n",
              "      <td>NEWPORT 2.4 WNW, DE US</td>\n",
              "      <td>2010-01-05</td>\n",
              "      <td>0.00</td>\n",
              "      <td>NaN</td>\n",
              "      <td>NaN</td>\n",
              "      <td>NaN</td>\n",
              "      <td>NaN</td>\n",
              "    </tr>\n",
              "  </tbody>\n",
              "</table>\n",
              "</div>"
            ],
            "text/plain": [
              "       STATION                    NAME        DATE  ...  SNWD  WESD  WESF\n",
              "0  US1DENC0010  NEWPORT 2.4 WNW, DE US  2010-01-01  ...   0.0   NaN   NaN\n",
              "1  US1DENC0010  NEWPORT 2.4 WNW, DE US  2010-01-02  ...   NaN   NaN   NaN\n",
              "2  US1DENC0010  NEWPORT 2.4 WNW, DE US  2010-01-03  ...   NaN   NaN   NaN\n",
              "3  US1DENC0010  NEWPORT 2.4 WNW, DE US  2010-01-04  ...   NaN   NaN   NaN\n",
              "4  US1DENC0010  NEWPORT 2.4 WNW, DE US  2010-01-05  ...   NaN   NaN   NaN\n",
              "\n",
              "[5 rows x 8 columns]"
            ]
          },
          "metadata": {},
          "execution_count": 34
        }
      ]
    },
    {
      "cell_type": "code",
      "metadata": {
        "colab": {
          "base_uri": "https://localhost:8080/",
          "height": 203
        },
        "id": "zbdvMeUQr-wu",
        "outputId": "7f1fbebe-6796-4ae8-b8cd-2eabd924ee3b"
      },
      "source": [
        "rain = rain[[\"DATE\", \"PRCP\"]]\n",
        "rain.head()"
      ],
      "execution_count": 35,
      "outputs": [
        {
          "output_type": "execute_result",
          "data": {
            "text/html": [
              "<div>\n",
              "<style scoped>\n",
              "    .dataframe tbody tr th:only-of-type {\n",
              "        vertical-align: middle;\n",
              "    }\n",
              "\n",
              "    .dataframe tbody tr th {\n",
              "        vertical-align: top;\n",
              "    }\n",
              "\n",
              "    .dataframe thead th {\n",
              "        text-align: right;\n",
              "    }\n",
              "</style>\n",
              "<table border=\"1\" class=\"dataframe\">\n",
              "  <thead>\n",
              "    <tr style=\"text-align: right;\">\n",
              "      <th></th>\n",
              "      <th>DATE</th>\n",
              "      <th>PRCP</th>\n",
              "    </tr>\n",
              "  </thead>\n",
              "  <tbody>\n",
              "    <tr>\n",
              "      <th>0</th>\n",
              "      <td>2010-01-01</td>\n",
              "      <td>0.28</td>\n",
              "    </tr>\n",
              "    <tr>\n",
              "      <th>1</th>\n",
              "      <td>2010-01-02</td>\n",
              "      <td>0.00</td>\n",
              "    </tr>\n",
              "    <tr>\n",
              "      <th>2</th>\n",
              "      <td>2010-01-03</td>\n",
              "      <td>0.00</td>\n",
              "    </tr>\n",
              "    <tr>\n",
              "      <th>3</th>\n",
              "      <td>2010-01-04</td>\n",
              "      <td>0.00</td>\n",
              "    </tr>\n",
              "    <tr>\n",
              "      <th>4</th>\n",
              "      <td>2010-01-05</td>\n",
              "      <td>0.00</td>\n",
              "    </tr>\n",
              "  </tbody>\n",
              "</table>\n",
              "</div>"
            ],
            "text/plain": [
              "         DATE  PRCP\n",
              "0  2010-01-01  0.28\n",
              "1  2010-01-02  0.00\n",
              "2  2010-01-03  0.00\n",
              "3  2010-01-04  0.00\n",
              "4  2010-01-05  0.00"
            ]
          },
          "metadata": {},
          "execution_count": 35
        }
      ]
    },
    {
      "cell_type": "code",
      "metadata": {
        "id": "KtUJbqsjquCB"
      },
      "source": [
        "rain[\"DATE\"] = pd.to_datetime(rain[\"DATE\"])"
      ],
      "execution_count": 36,
      "outputs": []
    },
    {
      "cell_type": "code",
      "metadata": {
        "colab": {
          "base_uri": "https://localhost:8080/",
          "height": 203
        },
        "id": "34_GdJx3rPBb",
        "outputId": "f3d28af6-dc6d-44fa-bb24-c05ef48d52ac"
      },
      "source": [
        "rain.head()"
      ],
      "execution_count": 37,
      "outputs": [
        {
          "output_type": "execute_result",
          "data": {
            "text/html": [
              "<div>\n",
              "<style scoped>\n",
              "    .dataframe tbody tr th:only-of-type {\n",
              "        vertical-align: middle;\n",
              "    }\n",
              "\n",
              "    .dataframe tbody tr th {\n",
              "        vertical-align: top;\n",
              "    }\n",
              "\n",
              "    .dataframe thead th {\n",
              "        text-align: right;\n",
              "    }\n",
              "</style>\n",
              "<table border=\"1\" class=\"dataframe\">\n",
              "  <thead>\n",
              "    <tr style=\"text-align: right;\">\n",
              "      <th></th>\n",
              "      <th>DATE</th>\n",
              "      <th>PRCP</th>\n",
              "    </tr>\n",
              "  </thead>\n",
              "  <tbody>\n",
              "    <tr>\n",
              "      <th>0</th>\n",
              "      <td>2010-01-01</td>\n",
              "      <td>0.28</td>\n",
              "    </tr>\n",
              "    <tr>\n",
              "      <th>1</th>\n",
              "      <td>2010-01-02</td>\n",
              "      <td>0.00</td>\n",
              "    </tr>\n",
              "    <tr>\n",
              "      <th>2</th>\n",
              "      <td>2010-01-03</td>\n",
              "      <td>0.00</td>\n",
              "    </tr>\n",
              "    <tr>\n",
              "      <th>3</th>\n",
              "      <td>2010-01-04</td>\n",
              "      <td>0.00</td>\n",
              "    </tr>\n",
              "    <tr>\n",
              "      <th>4</th>\n",
              "      <td>2010-01-05</td>\n",
              "      <td>0.00</td>\n",
              "    </tr>\n",
              "  </tbody>\n",
              "</table>\n",
              "</div>"
            ],
            "text/plain": [
              "        DATE  PRCP\n",
              "0 2010-01-01  0.28\n",
              "1 2010-01-02  0.00\n",
              "2 2010-01-03  0.00\n",
              "3 2010-01-04  0.00\n",
              "4 2010-01-05  0.00"
            ]
          },
          "metadata": {},
          "execution_count": 37
        }
      ]
    },
    {
      "cell_type": "code",
      "metadata": {
        "id": "SiII5v-ssW8P"
      },
      "source": [
        "rain2018 = rain[rain.DATE > pd.to_datetime(\"2018/01/01\")]"
      ],
      "execution_count": 38,
      "outputs": []
    },
    {
      "cell_type": "code",
      "metadata": {
        "id": "CSma3mX6swQX"
      },
      "source": [
        "mu = 0.14\n",
        "sigma = 0.38"
      ],
      "execution_count": 23,
      "outputs": []
    },
    {
      "cell_type": "code",
      "metadata": {
        "colab": {
          "base_uri": "https://localhost:8080/"
        },
        "id": "xE9BlivptFLb",
        "outputId": "4edd0548-a330-4401-e41c-6fe186595879"
      },
      "source": [
        "#sample mean\n",
        "rain.PRCP.mean()"
      ],
      "execution_count": 31,
      "outputs": [
        {
          "output_type": "execute_result",
          "data": {
            "text/plain": [
              "0.13734030525720692"
            ]
          },
          "metadata": {},
          "execution_count": 31
        }
      ]
    },
    {
      "cell_type": "code",
      "metadata": {
        "id": "epCt-ipStfEp"
      },
      "source": [
        "Xhat = rain2018.PRCP.mean()"
      ],
      "execution_count": 39,
      "outputs": []
    },
    {
      "cell_type": "code",
      "metadata": {
        "id": "6o_wb_XjtsTz"
      },
      "source": [
        "N = rain2018.shape[0]"
      ],
      "execution_count": 40,
      "outputs": []
    },
    {
      "cell_type": "code",
      "metadata": {
        "id": "pmjymQzqtuh3"
      },
      "source": [
        "Z = (Xhat - mu) / (sigma / np.sqrt(N))"
      ],
      "execution_count": 42,
      "outputs": []
    },
    {
      "cell_type": "code",
      "metadata": {
        "colab": {
          "base_uri": "https://localhost:8080/"
        },
        "id": "AqNpKXKMt1PF",
        "outputId": "e88d1d61-0bcd-4f04-aed2-37994e5a24d7"
      },
      "source": [
        "Z"
      ],
      "execution_count": 43,
      "outputs": [
        {
          "output_type": "execute_result",
          "data": {
            "text/plain": [
              "1.4686385901934103"
            ]
          },
          "metadata": {},
          "execution_count": 43
        }
      ]
    },
    {
      "cell_type": "code",
      "metadata": {
        "id": "hyflx6VXt5l9"
      },
      "source": [
        "#can only reject with a p value greater than our initial limit"
      ],
      "execution_count": null,
      "outputs": []
    }
  ]
}