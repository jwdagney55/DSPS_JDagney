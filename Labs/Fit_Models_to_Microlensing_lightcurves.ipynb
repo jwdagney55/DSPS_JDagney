{
  "nbformat": 4,
  "nbformat_minor": 0,
  "metadata": {
    "colab": {
      "name": "Fit_Models_to_Microlensing_lightcurves.ipynb",
      "provenance": [],
      "collapsed_sections": [],
      "include_colab_link": true
    },
    "kernelspec": {
      "name": "python3",
      "display_name": "Python 3"
    },
    "language_info": {
      "name": "python"
    }
  },
  "cells": [
    {
      "cell_type": "markdown",
      "metadata": {
        "id": "view-in-github",
        "colab_type": "text"
      },
      "source": [
        "<a href=\"https://colab.research.google.com/github/jwdagney55/DSPS_JDagney/blob/main/Labs/Fit_Models_to_Microlensing_lightcurves.ipynb\" target=\"_parent\"><img src=\"https://colab.research.google.com/assets/colab-badge.svg\" alt=\"Open In Colab\"/></a>"
      ]
    },
    {
      "cell_type": "markdown",
      "metadata": {
        "id": "9-ExbzxBc83e"
      },
      "source": [
        "# Fitting two models to Microlensing photometry\n",
        "\n",
        "In this exercise, we will fit a Gaussian distribution and a Cauchy distribution to a light curve of a single-lens microlensing event. \n",
        "\n",
        "    "
      ]
    },
    {
      "cell_type": "markdown",
      "metadata": {
        "id": "HEHwDdSVdobY"
      },
      "source": [
        "# initial imports"
      ]
    },
    {
      "cell_type": "code",
      "metadata": {
        "id": "zMqForGqPNeJ",
        "colab": {
          "base_uri": "https://localhost:8080/"
        },
        "outputId": "0adff6e3-4d6c-466e-d7cc-363a185172b7"
      },
      "source": [
        "!pip install emcee\n",
        "!pip install corner"
      ],
      "execution_count": 1,
      "outputs": [
        {
          "output_type": "stream",
          "name": "stdout",
          "text": [
            "Collecting emcee\n",
            "  Downloading emcee-3.1.1-py2.py3-none-any.whl (45 kB)\n",
            "\u001b[?25l\r\u001b[K     |███████▏                        | 10 kB 17.6 MB/s eta 0:00:01\r\u001b[K     |██████████████▎                 | 20 kB 12.5 MB/s eta 0:00:01\r\u001b[K     |█████████████████████▍          | 30 kB 8.9 MB/s eta 0:00:01\r\u001b[K     |████████████████████████████▌   | 40 kB 7.4 MB/s eta 0:00:01\r\u001b[K     |████████████████████████████████| 45 kB 1.1 MB/s \n",
            "\u001b[?25hRequirement already satisfied: numpy in /usr/local/lib/python3.7/dist-packages (from emcee) (1.19.5)\n",
            "Installing collected packages: emcee\n",
            "Successfully installed emcee-3.1.1\n",
            "Collecting corner\n",
            "  Downloading corner-2.2.1-py3-none-any.whl (15 kB)\n",
            "Requirement already satisfied: matplotlib>=2.1 in /usr/local/lib/python3.7/dist-packages (from corner) (3.2.2)\n",
            "Requirement already satisfied: python-dateutil>=2.1 in /usr/local/lib/python3.7/dist-packages (from matplotlib>=2.1->corner) (2.8.2)\n",
            "Requirement already satisfied: cycler>=0.10 in /usr/local/lib/python3.7/dist-packages (from matplotlib>=2.1->corner) (0.10.0)\n",
            "Requirement already satisfied: pyparsing!=2.0.4,!=2.1.2,!=2.1.6,>=2.0.1 in /usr/local/lib/python3.7/dist-packages (from matplotlib>=2.1->corner) (2.4.7)\n",
            "Requirement already satisfied: kiwisolver>=1.0.1 in /usr/local/lib/python3.7/dist-packages (from matplotlib>=2.1->corner) (1.3.2)\n",
            "Requirement already satisfied: numpy>=1.11 in /usr/local/lib/python3.7/dist-packages (from matplotlib>=2.1->corner) (1.19.5)\n",
            "Requirement already satisfied: six in /usr/local/lib/python3.7/dist-packages (from cycler>=0.10->matplotlib>=2.1->corner) (1.15.0)\n",
            "Installing collected packages: corner\n",
            "Successfully installed corner-2.2.1\n"
          ]
        }
      ]
    },
    {
      "cell_type": "markdown",
      "metadata": {
        "id": "k2NjinOJH7qE"
      },
      "source": [
        "We will also need these packags: pandas, matplotlib, numpy, emcee, corner"
      ]
    },
    {
      "cell_type": "code",
      "metadata": {
        "id": "H3QKqM6Ic1Vm"
      },
      "source": [
        "import pandas as pd\n",
        "import matplotlib.pyplot as plt\n",
        "import numpy as np\n",
        "import emcee\n",
        "import corner\n",
        "from scipy.optimize import minimize\n",
        "%matplotlib inline"
      ],
      "execution_count": 3,
      "outputs": []
    },
    {
      "cell_type": "markdown",
      "metadata": {
        "id": "9Mw-0Lsxd6kl"
      },
      "source": [
        "# Read in the input dataset"
      ]
    },
    {
      "cell_type": "code",
      "metadata": {
        "id": "StQD8__id0jv"
      },
      "source": [
        "# Path to OGLE data: \n",
        "oglePath = \"https://raw.githubusercontent.com/fedhere/DSPS_FBianco/master/microlensing%20lab/data/OGLE_2012_BLG_1323.csv\"\n",
        "# Path to Roman data: \n",
        "romanPath = \"https://raw.githubusercontent.com/fedhere/DSPS_FBianco/master/microlensing%20lab/data/mag.dcnormffp_0_82_1902.det.lc.W149.csv\"\n",
        "\n",
        "ogleData = pd.read_csv(oglePath)\n",
        "romanData = pd.read_csv(romanPath)\n"
      ],
      "execution_count": 12,
      "outputs": []
    },
    {
      "cell_type": "code",
      "metadata": {
        "colab": {
          "base_uri": "https://localhost:8080/",
          "height": 206
        },
        "id": "ItqZu6XzTnwN",
        "outputId": "1f0b5da8-a5de-4add-b8a0-a2b19ff005b9"
      },
      "source": [
        "ogleData.head()"
      ],
      "execution_count": 5,
      "outputs": [
        {
          "output_type": "execute_result",
          "data": {
            "text/html": [
              "<div>\n",
              "<style scoped>\n",
              "    .dataframe tbody tr th:only-of-type {\n",
              "        vertical-align: middle;\n",
              "    }\n",
              "\n",
              "    .dataframe tbody tr th {\n",
              "        vertical-align: top;\n",
              "    }\n",
              "\n",
              "    .dataframe thead th {\n",
              "        text-align: right;\n",
              "    }\n",
              "</style>\n",
              "<table border=\"1\" class=\"dataframe\">\n",
              "  <thead>\n",
              "    <tr style=\"text-align: right;\">\n",
              "      <th></th>\n",
              "      <th>Unnamed: 0</th>\n",
              "      <th>t</th>\n",
              "      <th>A</th>\n",
              "      <th>A_err</th>\n",
              "    </tr>\n",
              "  </thead>\n",
              "  <tbody>\n",
              "    <tr>\n",
              "      <th>0</th>\n",
              "      <td>0</td>\n",
              "      <td>2.455261e+06</td>\n",
              "      <td>1.007395</td>\n",
              "      <td>0.003711</td>\n",
              "    </tr>\n",
              "    <tr>\n",
              "      <th>1</th>\n",
              "      <td>1</td>\n",
              "      <td>2.455262e+06</td>\n",
              "      <td>1.001844</td>\n",
              "      <td>0.003691</td>\n",
              "    </tr>\n",
              "    <tr>\n",
              "      <th>2</th>\n",
              "      <td>2</td>\n",
              "      <td>2.455263e+06</td>\n",
              "      <td>0.993574</td>\n",
              "      <td>0.005491</td>\n",
              "    </tr>\n",
              "    <tr>\n",
              "      <th>3</th>\n",
              "      <td>3</td>\n",
              "      <td>2.455266e+06</td>\n",
              "      <td>1.010183</td>\n",
              "      <td>0.003722</td>\n",
              "    </tr>\n",
              "    <tr>\n",
              "      <th>4</th>\n",
              "      <td>4</td>\n",
              "      <td>2.455267e+06</td>\n",
              "      <td>1.000000</td>\n",
              "      <td>0.003684</td>\n",
              "    </tr>\n",
              "  </tbody>\n",
              "</table>\n",
              "</div>"
            ],
            "text/plain": [
              "   Unnamed: 0             t         A     A_err\n",
              "0           0  2.455261e+06  1.007395  0.003711\n",
              "1           1  2.455262e+06  1.001844  0.003691\n",
              "2           2  2.455263e+06  0.993574  0.005491\n",
              "3           3  2.455266e+06  1.010183  0.003722\n",
              "4           4  2.455267e+06  1.000000  0.003684"
            ]
          },
          "metadata": {},
          "execution_count": 5
        }
      ]
    },
    {
      "cell_type": "markdown",
      "metadata": {
        "id": "YO-UyGfTLQen"
      },
      "source": [
        "#Visualize the data"
      ]
    },
    {
      "cell_type": "code",
      "metadata": {
        "id": "ZHwYHw4in893",
        "colab": {
          "base_uri": "https://localhost:8080/",
          "height": 554
        },
        "outputId": "cc10890c-bf6b-4382-fd9d-83aa24f362c2"
      },
      "source": [
        "plt.figure(figsize=(15,9))\n",
        "plt.errorbar(romanData.t, romanData.A, yerr=romanData.A_err)\n",
        "dt = 0.1\n",
        "peak = romanData.t[np.argmax(romanData.A)]\n",
        "plt.xlim(peak-dt, peak+dt)"
      ],
      "execution_count": 15,
      "outputs": [
        {
          "output_type": "execute_result",
          "data": {
            "text/plain": [
              "(166.36030599996448, 166.56030599996447)"
            ]
          },
          "metadata": {},
          "execution_count": 15
        },
        {
          "output_type": "display_data",
          "data": {
            "image/png": "[encoded data removed]",
            "text/plain": [
              "<Figure size 1080x648 with 1 Axes>"
            ]
          },
          "metadata": {
            "needs_background": "light"
          }
        }
      ]
    },
    {
      "cell_type": "markdown",
      "metadata": {
        "id": "0-dHSwULN0Y-"
      },
      "source": [
        "# Define the PSPL model and the Cauchy distributions\n"
      ]
    },
    {
      "cell_type": "markdown",
      "metadata": {
        "id": "qP8YzctqBd_M"
      },
      "source": [
        "PSPL model:\n",
        "\n",
        "$F(t) = f_s \\times A(t) + (1-f_s)$\n",
        "\n",
        "$A(t) = \\frac{u(t)^2 +2}{u(t)\\times \\sqrt{u(t)^2 + 4}}$\n",
        "\n",
        "$u(t) = \\sqrt {{u_0}^2+ ({\\frac {t-t_0}{t_E}})^2}$\n",
        "\n",
        "Cauchy model:\n",
        "\n",
        "$C(t) = 1+ \\frac {amp}{{1+|\\frac{t-t_0}{\\sigma}|}^{2b}}$\n"
      ]
    },
    {
      "cell_type": "code",
      "metadata": {
        "id": "-cmYSDf0o_Xb"
      },
      "source": [
        "def pspl(x, x0, tE, u0, fs):\n",
        "\n",
        "  u = np.sqrt(u0**2 + (x-x0 / tE)**2)\n",
        "  A = (u**2 + 2) / (u * np.sqrt(u**2 + 4))\n",
        "  F = fs * A + (1 - fs)\n",
        "  return F\n",
        "\n",
        "def cauchy(x, amp, x0, sigma, b):\n",
        "  return 1 + amp / ( 1 + np.abs( (x - x0) / sigma) ** (2 * b))\n",
        "\n",
        "\n",
        "def L1(arg, x, y, func=pspl):\n",
        "  return np.sum(abs(y - func(x, *arg)))\n",
        "\n",
        "\n",
        "def L2(arg, x, y, func=pspl):\n",
        "  return np.sum(np.sqrt(y**2 - func(x, *arg)**2))\n",
        "\n",
        "\n",
        "def chi2(arg, x, y, s, func=pspl):\n",
        "  return np.sum(((y - func(x,*arg)) / (s))**2)\n",
        "\n",
        "\n"
      ],
      "execution_count": 20,
      "outputs": []
    },
    {
      "cell_type": "code",
      "metadata": {
        "id": "qHE9crwvHlCV",
        "colab": {
          "base_uri": "https://localhost:8080/",
          "height": 317
        },
        "outputId": "169dfad2-07a9-4ef3-8cde-4d43b3a8a3f4"
      },
      "source": [
        "#Unit test\n",
        "# this is the cell of code to give to students\n",
        "def line(a, b, x):\n",
        "  return a*x + b\n",
        "np.random.seed(222)\n",
        "y = np.array([120, 95, 82, 74, 66, 62, 59, 51, 53, 47])\n",
        "y = y + np.random.randn(len(y)) * 10\n",
        "yerr = np.sqrt(y)\n",
        "x = np.arange(len(y))\n",
        "plt.errorbar(x, y, yerr=yerr);\n",
        "print(\"L2 unit test: result should be 111.93751462 -8.33237568:\", minimize(L2, (10,40), args=(x, y, line)).x)\n",
        "print(\"chi2 unit test: result should be 104.93611121 -7.21374685:\", minimize(chi2, (10,40), args=(x, y, yerr, line)).x)\n"
      ],
      "execution_count": 21,
      "outputs": [
        {
          "output_type": "stream",
          "name": "stdout",
          "text": [
            "L2 unit test: result should be 111.93751462 -8.33237568: [10. 40.]\n",
            "chi2 unit test: result should be 104.93611121 -7.21374685: [104.93609323  -7.21374439]\n"
          ]
        },
        {
          "output_type": "stream",
          "name": "stderr",
          "text": [
            "/usr/local/lib/python3.7/dist-packages/ipykernel_launcher.py:17: RuntimeWarning: invalid value encountered in sqrt\n"
          ]
        },
        {
          "output_type": "display_data",
          "data": {
            "image/png": "[encoded data removed]",
            "text/plain": [
              "<Figure size 432x288 with 1 Axes>"
            ]
          },
          "metadata": {
            "needs_background": "light"
          }
        }
      ]
    },
    {
      "cell_type": "markdown",
      "metadata": {
        "id": "cof-Qo_vNwDQ"
      },
      "source": [
        "# Fit the two functions to the data by minimizing an objective function \n",
        "\n",
        "\n",
        "Use the L1 function as your objective function."
      ]
    },
    {
      "cell_type": "code",
      "metadata": {
        "id": "7EwmUWZMNydt",
        "colab": {
          "base_uri": "https://localhost:8080/"
        },
        "outputId": "55b59e07-d270-4431-ca52-4efc0c77db30"
      },
      "source": [
        "# Fitting the PSPL function to data by minimizing L1\n",
        "#minL1 = minimize(L1, (10,40), args= (x, y, pspl)).x)\n",
        "x = romanData.t.values\n",
        "y = romanData.A.values\n",
        "\n",
        "#initial guesses for pspl function: x0, tE, u0, fs\n",
        "initialGuess = [peak, 0.1, 0.02, 0.46]\n",
        "minimize(L1, initialGuess, args=(x,y,pspl))\n"
      ],
      "execution_count": 26,
      "outputs": [
        {
          "output_type": "execute_result",
          "data": {
            "text/plain": [
              "      fun: 148.82346608871893\n",
              " hess_inv: array([[ 9.99999642e-01,  5.91377468e-04,  0.00000000e+00,\n",
              "        -5.30216938e-06],\n",
              "       [ 5.91377468e-04,  2.35318731e-02,  0.00000000e+00,\n",
              "         8.76621190e-03],\n",
              "       [ 0.00000000e+00,  0.00000000e+00,  1.00000000e+00,\n",
              "         0.00000000e+00],\n",
              "       [-5.30216938e-06,  8.76621190e-03,  0.00000000e+00,\n",
              "         1.00001432e+00]])\n",
              "      jac: array([ 1.44958496e-04, -2.39671707e-01,  0.00000000e+00, -4.57763672e-04])\n",
              "  message: 'Desired error not necessarily achieved due to precision loss.'\n",
              "     nfev: 522\n",
              "      nit: 1\n",
              "     njev: 85\n",
              "   status: 2\n",
              "  success: False\n",
              "        x: array([1.66460306e+02, 1.00664830e-01, 2.00000000e-02, 4.60000520e-01])"
            ]
          },
          "metadata": {},
          "execution_count": 26
        }
      ]
    },
    {
      "cell_type": "code",
      "metadata": {
        "id": "gwXU6zoJNygv"
      },
      "source": [
        "# Fitting the Cauchy function to data by minimizing L1\n",
        "\n",
        "\n"
      ],
      "execution_count": null,
      "outputs": []
    },
    {
      "cell_type": "code",
      "metadata": {
        "id": "bPS088ApOHd4"
      },
      "source": [
        "# Visualizing the results\n",
        "\n",
        "plt.figure(figsize=(15,9))\n",
        "\n",
        ".\n",
        ".\n",
        ".\n",
        "."
      ],
      "execution_count": null,
      "outputs": []
    },
    {
      "cell_type": "markdown",
      "metadata": {
        "id": "aSuAAodlOpuK"
      },
      "source": [
        "# Fit the two functions to the data by minimizing an objective function \n",
        "\n",
        "\n",
        "Use the L2 function as your objective function."
      ]
    },
    {
      "cell_type": "code",
      "metadata": {
        "id": "ABInH4NaOtej"
      },
      "source": [
        "# Fitting the PSPL function to data by minimizing L2\n",
        "\n",
        ".\n",
        ".\n",
        ".\n",
        "."
      ],
      "execution_count": null,
      "outputs": []
    },
    {
      "cell_type": "code",
      "metadata": {
        "id": "yakwEv9OOtho"
      },
      "source": [
        "# Fitting the Cauchy function to data by minimizing L2\n",
        "\n",
        ".\n",
        ".\n",
        ".\n",
        "."
      ],
      "execution_count": null,
      "outputs": []
    },
    {
      "cell_type": "code",
      "metadata": {
        "id": "L5EvHpv9OtmM"
      },
      "source": [
        "# Visualizing the results\n",
        "\n",
        "plt.figure(figsize=(15,9))\n",
        "\n",
        ".\n",
        ".\n",
        ".\n",
        ".\n"
      ],
      "execution_count": null,
      "outputs": []
    },
    {
      "cell_type": "markdown",
      "metadata": {
        "id": "W1cEvCp1Sqex"
      },
      "source": [
        "# Fit the two functions to the data by minimizing an objective function \n",
        "\n",
        "\n",
        "Use the ${\\chi}^2$ function as your objective function."
      ]
    },
    {
      "cell_type": "code",
      "metadata": {
        "id": "Gbw1PmUjPIhz"
      },
      "source": [
        "# Fitting the PSPL function to data by minimizing the chi-squared function\n",
        "\n",
        "\n",
        ".\n",
        ".\n",
        ".\n",
        "."
      ],
      "execution_count": null,
      "outputs": []
    },
    {
      "cell_type": "code",
      "metadata": {
        "id": "L9NRSnlaZx21"
      },
      "source": [
        "# Fitting the Cauchy function to data by minimizing the chi-squared function\n",
        "\n",
        "\n",
        ".\n",
        ".\n",
        ".\n",
        "."
      ],
      "execution_count": null,
      "outputs": []
    },
    {
      "cell_type": "code",
      "metadata": {
        "id": "mIygpsAxa9t_"
      },
      "source": [
        "# Visualizing the results\n",
        "\n",
        "plt.figure(figsize=(15,9))\n",
        "\n",
        ".\n",
        ".\n",
        ".\n",
        ".\n"
      ],
      "execution_count": null,
      "outputs": []
    },
    {
      "cell_type": "markdown",
      "metadata": {
        "id": "Ki07PR_cBPFB"
      },
      "source": [
        "# Now let's fit a PSPL and a Cauchy with MCMC!\n",
        "\n"
      ]
    },
    {
      "cell_type": "markdown",
      "metadata": {
        "id": "gGsz4SBk0lan"
      },
      "source": [
        "For fitting a PSPL model:"
      ]
    },
    {
      "cell_type": "code",
      "metadata": {
        "id": "3PhkcY84jFDf"
      },
      "source": [
        "# define log likelihood function\n",
        "def log_likelihood....\n",
        "\n",
        ".\n",
        ".\n",
        ".\n",
        ".\n"
      ],
      "execution_count": null,
      "outputs": []
    },
    {
      "cell_type": "code",
      "metadata": {
        "id": "4WQX_OHOjFH7"
      },
      "source": [
        "# define log prior function\n",
        "\n",
        "def log_prior...\n",
        "\n",
        "\n",
        ".\n",
        ".\n",
        ".\n",
        ".\n"
      ],
      "execution_count": null,
      "outputs": []
    },
    {
      "cell_type": "code",
      "metadata": {
        "id": "ygUczaS5jE_0"
      },
      "source": [
        "# define log probability function\n",
        "\n",
        "def log_probability...\n",
        "\n",
        ".\n",
        ".\n",
        ".\n",
        ".\n"
      ],
      "execution_count": null,
      "outputs": []
    },
    {
      "cell_type": "code",
      "metadata": {
        "id": "RW99e8LEjE6P"
      },
      "source": [
        "#initial guess\n",
        "ig = [peak, .1, 0.02, 0.464796]"
      ],
      "execution_count": null,
      "outputs": []
    },
    {
      "cell_type": "code",
      "metadata": {
        "id": "16FlHsd7mxho"
      },
      "source": [
        "#initialize walkers\n",
        "nwalkers = 32\n",
        "ndim = len(ig)"
      ],
      "execution_count": null,
      "outputs": []
    },
    {
      "cell_type": "code",
      "metadata": {
        "id": "7eVrhpldmxxg"
      },
      "source": [
        "pos = np.array(ig) + 1e-4 * np.random.randn(nwalkers, ndim)"
      ],
      "execution_count": null,
      "outputs": []
    },
    {
      "cell_type": "code",
      "metadata": {
        "id": "9f6-HQ9Rmx7Z"
      },
      "source": [
        "pos.shape"
      ],
      "execution_count": null,
      "outputs": []
    },
    {
      "cell_type": "code",
      "metadata": {
        "id": "8nhTcKQ6myAv"
      },
      "source": [
        "sampler = emcee.EnsembleSampler(nwalkers, ndim, log_probability, args=(x, y, s))"
      ],
      "execution_count": null,
      "outputs": []
    },
    {
      "cell_type": "code",
      "metadata": {
        "id": "kwdovHJomyEu"
      },
      "source": [
        "sampler.run_mcmc(pos, 5000, progress=True);"
      ],
      "execution_count": null,
      "outputs": []
    },
    {
      "cell_type": "code",
      "metadata": {
        "id": "yJD5zUMAmyIR"
      },
      "source": [
        "samples = sampler.get_chain()"
      ],
      "execution_count": null,
      "outputs": []
    },
    {
      "cell_type": "code",
      "metadata": {
        "id": "1IBXn4UgmyLw"
      },
      "source": [
        "samples.shape"
      ],
      "execution_count": null,
      "outputs": []
    },
    {
      "cell_type": "code",
      "metadata": {
        "id": "nQ7VjzWtjEpn"
      },
      "source": [
        "flat_samples = sampler.get_chain(discard=100, thin=15, flat=True)"
      ],
      "execution_count": null,
      "outputs": []
    },
    {
      "cell_type": "code",
      "metadata": {
        "id": "m0DP_Gw-jEaa"
      },
      "source": [
        "mcmc = np.zeros((ndim, 3))\n",
        "for i in range(ndim):\n",
        "  mcmc[i] = np.percentile( flat_samples[:,i], [16, 50, 84])\n",
        "params_PSPL = mcmc[:,1]"
      ],
      "execution_count": null,
      "outputs": []
    },
    {
      "cell_type": "code",
      "metadata": {
        "id": "hZIF5E6FjEJU"
      },
      "source": [
        "plt.rcParams[\"font.size\"]= 13\n",
        "fig = corner.corner(\n",
        "    flat_samples, labels=[\"t0\", \"tE\", \"u0\", \"fs\"], truths=mcmc[:,1]);\n"
      ],
      "execution_count": null,
      "outputs": []
    },
    {
      "cell_type": "code",
      "metadata": {
        "id": "tugdoivKI471"
      },
      "source": [
        "fig, axes = plt.subplots(ndim, figsize=(10, 7), sharex=True)\n",
        "samples = sampler.get_chain()\n",
        "\n",
        "for i in range(ndim):\n",
        "    ax = axes[i]\n",
        "    ax.plot(samples[:, :, i], \"k\", alpha=0.3)\n",
        "    ax.set_xlim(0, len(samples))\n",
        "    ax.yaxis.set_label_coords(-0.1, 0.5)\n",
        "\n",
        "axes[-1].set_xlabel(\"step number\");"
      ],
      "execution_count": null,
      "outputs": []
    },
    {
      "cell_type": "code",
      "metadata": {
        "id": "FuKtrsmMJJ4A"
      },
      "source": [
        "# zoom in: the beginning of the chain should be cut\n",
        "fig, axes = plt.subplots(ndim, figsize=(10, 7), sharex=True)\n",
        "samples = sampler.get_chain()\n",
        "\n",
        "for i in range(ndim):\n",
        "    ax = axes[i]\n",
        "    ax.plot(samples[:, :, i], \"k\", alpha=0.3)\n",
        "    ax.set_xlim(0, 100)#len(samples))\n",
        "    ax.yaxis.set_label_coords(-0.1, 0.5)\n",
        "\n",
        "axes[-1].set_xlabel(\"step number\");"
      ],
      "execution_count": null,
      "outputs": []
    },
    {
      "cell_type": "code",
      "metadata": {
        "id": "M2DtobChJXPA"
      },
      "source": [
        ""
      ],
      "execution_count": null,
      "outputs": []
    },
    {
      "cell_type": "markdown",
      "metadata": {
        "id": "UMB4DUFKK2rt"
      },
      "source": [
        "For fitting a Cauchy distribution:"
      ]
    },
    {
      "cell_type": "code",
      "metadata": {
        "id": "RQuvGTDFK2r2"
      },
      "source": [
        "def log_prior....\n"
      ],
      "execution_count": null,
      "outputs": []
    },
    {
      "cell_type": "code",
      "metadata": {
        "id": "3fM9Cwa7K2r2"
      },
      "source": [
        "def log_likelihood...."
      ],
      "execution_count": null,
      "outputs": []
    },
    {
      "cell_type": "code",
      "metadata": {
        "id": "oUTKadpoK2r2"
      },
      "source": [
        "def log_probability...."
      ],
      "execution_count": null,
      "outputs": []
    },
    {
      "cell_type": "code",
      "metadata": {
        "id": "yS_g9t4DK2r2"
      },
      "source": [
        "#initial guess\n",
        "ig = [max(y), peak, 1, .1]"
      ],
      "execution_count": null,
      "outputs": []
    },
    {
      "cell_type": "code",
      "metadata": {
        "id": "P-kdUOK7K2r3"
      },
      "source": [
        "#initialize walkers\n",
        "nwalkers = 32\n",
        "ndim = len(ig)"
      ],
      "execution_count": null,
      "outputs": []
    },
    {
      "cell_type": "code",
      "metadata": {
        "id": "3Ai5u81GK2r3"
      },
      "source": [
        "pos = np.array(ig) + 1e-4 * np.random.randn(nwalkers, ndim)"
      ],
      "execution_count": null,
      "outputs": []
    },
    {
      "cell_type": "code",
      "metadata": {
        "id": "d_Mt6IXaK2r3"
      },
      "source": [
        "pos.shape"
      ],
      "execution_count": null,
      "outputs": []
    },
    {
      "cell_type": "code",
      "metadata": {
        "id": "WO0wUjvcK2r3"
      },
      "source": [
        "sampler = emcee.EnsembleSampler(nwalkers, ndim, log_probability, args=(x, y, s))"
      ],
      "execution_count": null,
      "outputs": []
    },
    {
      "cell_type": "code",
      "metadata": {
        "id": "y8Gk1jCGK2r3"
      },
      "source": [
        "sampler.run_mcmc(pos, 5000, progress=True);"
      ],
      "execution_count": null,
      "outputs": []
    },
    {
      "cell_type": "code",
      "metadata": {
        "id": "d-GavYP4K2r3"
      },
      "source": [
        "samples = sampler.get_chain()"
      ],
      "execution_count": null,
      "outputs": []
    },
    {
      "cell_type": "code",
      "metadata": {
        "id": "91me1uufK2r4"
      },
      "source": [
        "samples.shape"
      ],
      "execution_count": null,
      "outputs": []
    },
    {
      "cell_type": "code",
      "metadata": {
        "id": "S2CVZzo_K2r4"
      },
      "source": [
        "flat_samples = sampler.get_chain(discard=100, thin=15, flat=True)"
      ],
      "execution_count": null,
      "outputs": []
    },
    {
      "cell_type": "code",
      "metadata": {
        "id": "j3oN_GZBK2r4"
      },
      "source": [
        "mcmc = np.zeros((ndim, 3))\n",
        "for i in range(ndim):\n",
        "  mcmc[i] = np.percentile( flat_samples[:,i], [16, 50, 84])\n",
        "params_cauchy = mcmc[:,1]"
      ],
      "execution_count": null,
      "outputs": []
    },
    {
      "cell_type": "code",
      "metadata": {
        "id": "Lnj6vDBsK2r4"
      },
      "source": [
        "\n",
        "plt.rcParams[\"font.size\"]= 13\n",
        "fig = corner.corner(\n",
        "    flat_samples, labels=[\"Amplitude\",\"x0\",\"flattness\",\"sigma\"], truths=mcmc[:,1]);\n"
      ],
      "execution_count": null,
      "outputs": []
    },
    {
      "cell_type": "code",
      "metadata": {
        "id": "AqobeDpUK2r4"
      },
      "source": [
        "fig, axes = plt.subplots(ndim, figsize=(10, 7), sharex=True)\n",
        "samples = sampler.get_chain()\n",
        "\n",
        "for i in range(ndim):\n",
        "    ax = axes[i]\n",
        "    ax.plot(samples[:, :, i], \"k\", alpha=0.3)\n",
        "    ax.set_xlim(0, len(samples))\n",
        "    ax.yaxis.set_label_coords(-0.1, 0.5)\n",
        "\n",
        "axes[-1].set_xlabel(\"step number\");"
      ],
      "execution_count": null,
      "outputs": []
    },
    {
      "cell_type": "code",
      "metadata": {
        "id": "Dr4_rsHGK2r4"
      },
      "source": [
        "# zoom in: the beginning of the chain should be cut\n",
        "fig, axes = plt.subplots(ndim, figsize=(10, 7), sharex=True)\n",
        "samples = sampler.get_chain()\n",
        "\n",
        "for i in range(ndim):\n",
        "    ax = axes[i]\n",
        "    ax.plot(samples[:, :, i], \"k\", alpha=0.3)\n",
        "    ax.set_xlim(0, 100)#len(samples))\n",
        "    ax.yaxis.set_label_coords(-0.1, 0.5)\n",
        "\n",
        "axes[-1].set_xlabel(\"step number\");"
      ],
      "execution_count": null,
      "outputs": []
    },
    {
      "cell_type": "code",
      "metadata": {
        "id": "qj04beKtJRwP"
      },
      "source": [
        "plt.figure(figsize=(15,9))\n",
        "dt = .1\n",
        "x_new = np.linspace(min(x), max(x), len(x)*100)\n",
        "plt.errorbar(df.t,df.A, yerr=df.A_err, fmt = '-o', ms=16,color='grey', zorder = -10, label = 'data')\n",
        "plt.plot(x_new, PSPL(x_new, *params_PSPL),linewidth=3,color='red', label = 'PSPL fit')\n",
        "plt.plot(x_new, cauchy(x_new, *params_cauchy),linewidth=3,color = 'orange', label = 'Cauchy fit')\n",
        "peak = df.t[np.argmax(df.A)]\n",
        "plt.xlim(peak-dt,peak+dt)\n",
        "plt.xlabel('Time-peak (days)')\n",
        "plt.ylabel('Magnification')\n",
        "plt.legend()"
      ],
      "execution_count": null,
      "outputs": []
    },
    {
      "cell_type": "code",
      "metadata": {
        "id": "KEZ6KO14tANC"
      },
      "source": [
        ""
      ],
      "execution_count": null,
      "outputs": []
    }
  ]
}