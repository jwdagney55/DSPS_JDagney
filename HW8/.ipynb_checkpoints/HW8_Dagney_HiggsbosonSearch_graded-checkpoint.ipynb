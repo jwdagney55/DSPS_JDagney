{
 "cells": [
  {
   "cell_type": "markdown",
   "metadata": {
    "colab_type": "text",
    "id": "view-in-github"
   },
   "source": [
    "<a href=\"https://colab.research.google.com/github/jwdagney55/DSPS_JDagney/blob/main/HW8/HW8_Dagney_HiggsbosonSearch.ipynb\" target=\"_parent\"><img src=\"https://colab.research.google.com/assets/colab-badge.svg\" alt=\"Open In Colab\"/></a>"
   ]
  },
  {
   "cell_type": "code",
   "execution_count": 1,
   "metadata": {
    "id": "SW-apU-Zhj1e"
   },
   "outputs": [],
   "source": [
    "#!kaggle competitions download -c higgs-boson"
   ]
  },
  {
   "cell_type": "markdown",
   "metadata": {
    "id": "nS4S7msAPK_R"
   },
   "source": [
    "- Download the Higgs boson data from Kaggle (programmatically within the notebook)\n",
    "see how I did it in the Titanic Trees notebook https://github.com/fedhere/DSPS/blob/master/lab9/titanictree.ipynb\n",
    "\n",
    "find the correct API link here https://www.kaggle.com/c/higgs-boson/data\n"
   ]
  },
  {
   "cell_type": "markdown",
   "metadata": {
    "id": "KMuvMJgOnlYo"
   },
   "source": [
    "\n",
    "- Read in the trainind data. Split the provided training data into a training and a test set. \n",
    "The last 2 columns are what you want to predict: \"weight\" and \"label\".\n",
    "Remove them from the input data and create a separate variable label and a separate variable weight, which will be your target variables for, respectively, classification and regression.\n",
    "\n"
   ]
  },
  {
   "cell_type": "code",
   "execution_count": 2,
   "metadata": {
    "colab": {
     "base_uri": "https://localhost:8080/"
    },
    "id": "QncFXxr7xogC",
    "outputId": "92889395-67e3-42c7-9a70-8377d94667bc"
   },
   "outputs": [
    {
     "name": "stdout",
     "output_type": "stream",
     "text": [
      "Populating the interactive namespace from numpy and matplotlib\n"
     ]
    }
   ],
   "source": [
    "import pandas as pd\n",
    "import json\n",
    "import os\n",
    "import pylab as pl\n",
    "from sklearn.model_selection import train_test_split\n",
    "from sklearn import tree\n",
    "from sklearn.ensemble import RandomForestClassifier\n",
    "from sklearn.ensemble import GradientBoostingClassifier\n",
    "from sklearn.datasets import make_classification\n",
    "from sklearn.ensemble import RandomForestRegressor\n",
    "from sklearn.ensemble import GradientBoostingRegressor\n",
    "from sklearn.model_selection import RandomizedSearchCV\n",
    "%pylab inline\n",
    "\n",
    "\n"
   ]
  },
  {
   "cell_type": "code",
   "execution_count": 3,
   "metadata": {
    "colab": {
     "base_uri": "https://localhost:8080/"
    },
    "id": "-xpw06PzTsU6",
    "outputId": "ca5382f3-ca23-403c-b1c5-b6621cf0693e"
   },
   "outputs": [
    {
     "name": "stdout",
     "output_type": "stream",
     "text": [
      "Drive already mounted at /content/drive; to attempt to forcibly remount, call drive.mount(\"/content/drive\", force_remount=True).\n"
     ]
    }
   ],
   "source": [
    "from google.colab import drive\n",
    "drive.mount('/content/drive')"
   ]
  },
  {
   "cell_type": "code",
   "execution_count": 4,
   "metadata": {
    "colab": {
     "base_uri": "https://localhost:8080/"
    },
    "id": "zGqlAYUBhHqn",
    "outputId": "d40b2da1-3284-48a8-a6ec-8ca198ccf620"
   },
   "outputs": [
    {
     "name": "stdout",
     "output_type": "stream",
     "text": [
      "/content/drive/MyDrive/DSPS2021\n"
     ]
    }
   ],
   "source": [
    "cd /content/drive/MyDrive/DSPS2021/"
   ]
  },
  {
   "cell_type": "code",
   "execution_count": 5,
   "metadata": {
    "colab": {
     "base_uri": "https://localhost:8080/"
    },
    "id": "MkKWpnL6nzPS",
    "outputId": "3d529ba1-92e7-4d03-f4fe-d8cf92945ee0"
   },
   "outputs": [
    {
     "name": "stdout",
     "output_type": "stream",
     "text": [
      "\u001b[0m\u001b[01;34mHiggsBoson\u001b[0m/  \u001b[01;34mTitanic\u001b[0m/\n"
     ]
    }
   ],
   "source": [
    "ls"
   ]
  },
  {
   "cell_type": "code",
   "execution_count": 6,
   "metadata": {
    "colab": {
     "base_uri": "https://localhost:8080/"
    },
    "id": "knlhxxAghNRs",
    "outputId": "927de44c-2c5d-424f-e95e-74b6af2eda79"
   },
   "outputs": [
    {
     "name": "stdout",
     "output_type": "stream",
     "text": [
      "/content/drive/MyDrive/DSPS2021/HiggsBoson\n"
     ]
    }
   ],
   "source": [
    "cd HiggsBoson/"
   ]
  },
  {
   "cell_type": "code",
   "execution_count": 7,
   "metadata": {
    "colab": {
     "base_uri": "https://localhost:8080/"
    },
    "id": "wMrZiE9ooMeY",
    "outputId": "66e7175a-6b97-4f58-9fd0-dc932eeb5c82"
   },
   "outputs": [
    {
     "name": "stdout",
     "output_type": "stream",
     "text": [
      "HiggsBosonCompetition_AMSMetric_rev1.py  \u001b[0m\u001b[01;34mrandom_submission\u001b[0m/  \u001b[01;34mtest\u001b[0m/  \u001b[01;34mtraining\u001b[0m/\n"
     ]
    }
   ],
   "source": [
    "ls"
   ]
  },
  {
   "cell_type": "code",
   "execution_count": 8,
   "metadata": {
    "id": "jPEORBephj7n"
   },
   "outputs": [],
   "source": [
    "envs = json.load(open(\"../.kaggle/kaggle.json\", \"r\"))\n",
    "os.environ[\"KAGGLE_USERNAME\"] = envs['username']\n",
    "os.environ[\"KAGGLE_KEY\"] = envs['key']"
   ]
  },
  {
   "cell_type": "code",
   "execution_count": 9,
   "metadata": {
    "id": "sULAKzqtlXXW"
   },
   "outputs": [],
   "source": [
    "higgsdata = pd.read_csv(\"./training/training.csv\")"
   ]
  },
  {
   "cell_type": "code",
   "execution_count": 10,
   "metadata": {
    "colab": {
     "base_uri": "https://localhost:8080/",
     "height": 226
    },
    "id": "muWGBHN90IPN",
    "outputId": "4d1b5738-f09b-4ba5-9965-a96c18a24051"
   },
   "outputs": [
    {
     "data": {
      "text/html": [
       "<div>\n",
       "<style scoped>\n",
       "    .dataframe tbody tr th:only-of-type {\n",
       "        vertical-align: middle;\n",
       "    }\n",
       "\n",
       "    .dataframe tbody tr th {\n",
       "        vertical-align: top;\n",
       "    }\n",
       "\n",
       "    .dataframe thead th {\n",
       "        text-align: right;\n",
       "    }\n",
       "</style>\n",
       "<table border=\"1\" class=\"dataframe\">\n",
       "  <thead>\n",
       "    <tr style=\"text-align: right;\">\n",
       "      <th></th>\n",
       "      <th>EventId</th>\n",
       "      <th>DER_mass_MMC</th>\n",
       "      <th>DER_mass_transverse_met_lep</th>\n",
       "      <th>DER_mass_vis</th>\n",
       "      <th>DER_pt_h</th>\n",
       "      <th>DER_deltaeta_jet_jet</th>\n",
       "      <th>DER_mass_jet_jet</th>\n",
       "      <th>DER_prodeta_jet_jet</th>\n",
       "      <th>DER_deltar_tau_lep</th>\n",
       "      <th>DER_pt_tot</th>\n",
       "      <th>DER_sum_pt</th>\n",
       "      <th>DER_pt_ratio_lep_tau</th>\n",
       "      <th>DER_met_phi_centrality</th>\n",
       "      <th>DER_lep_eta_centrality</th>\n",
       "      <th>PRI_tau_pt</th>\n",
       "      <th>PRI_tau_eta</th>\n",
       "      <th>PRI_tau_phi</th>\n",
       "      <th>PRI_lep_pt</th>\n",
       "      <th>PRI_lep_eta</th>\n",
       "      <th>PRI_lep_phi</th>\n",
       "      <th>PRI_met</th>\n",
       "      <th>PRI_met_phi</th>\n",
       "      <th>PRI_met_sumet</th>\n",
       "      <th>PRI_jet_num</th>\n",
       "      <th>PRI_jet_leading_pt</th>\n",
       "      <th>PRI_jet_leading_eta</th>\n",
       "      <th>PRI_jet_leading_phi</th>\n",
       "      <th>PRI_jet_subleading_pt</th>\n",
       "      <th>PRI_jet_subleading_eta</th>\n",
       "      <th>PRI_jet_subleading_phi</th>\n",
       "      <th>PRI_jet_all_pt</th>\n",
       "      <th>Weight</th>\n",
       "      <th>Label</th>\n",
       "    </tr>\n",
       "  </thead>\n",
       "  <tbody>\n",
       "    <tr>\n",
       "      <th>0</th>\n",
       "      <td>100000</td>\n",
       "      <td>138.470</td>\n",
       "      <td>51.655</td>\n",
       "      <td>97.827</td>\n",
       "      <td>27.980</td>\n",
       "      <td>0.91</td>\n",
       "      <td>124.711</td>\n",
       "      <td>2.666</td>\n",
       "      <td>3.064</td>\n",
       "      <td>41.928</td>\n",
       "      <td>197.760</td>\n",
       "      <td>1.582</td>\n",
       "      <td>1.396</td>\n",
       "      <td>0.2</td>\n",
       "      <td>32.638</td>\n",
       "      <td>1.017</td>\n",
       "      <td>0.381</td>\n",
       "      <td>51.626</td>\n",
       "      <td>2.273</td>\n",
       "      <td>-2.414</td>\n",
       "      <td>16.824</td>\n",
       "      <td>-0.277</td>\n",
       "      <td>258.733</td>\n",
       "      <td>2</td>\n",
       "      <td>67.435</td>\n",
       "      <td>2.150</td>\n",
       "      <td>0.444</td>\n",
       "      <td>46.062</td>\n",
       "      <td>1.24</td>\n",
       "      <td>-2.475</td>\n",
       "      <td>113.497</td>\n",
       "      <td>0.002653</td>\n",
       "      <td>s</td>\n",
       "    </tr>\n",
       "    <tr>\n",
       "      <th>1</th>\n",
       "      <td>100001</td>\n",
       "      <td>160.937</td>\n",
       "      <td>68.768</td>\n",
       "      <td>103.235</td>\n",
       "      <td>48.146</td>\n",
       "      <td>-999.00</td>\n",
       "      <td>-999.000</td>\n",
       "      <td>-999.000</td>\n",
       "      <td>3.473</td>\n",
       "      <td>2.078</td>\n",
       "      <td>125.157</td>\n",
       "      <td>0.879</td>\n",
       "      <td>1.414</td>\n",
       "      <td>-999.0</td>\n",
       "      <td>42.014</td>\n",
       "      <td>2.039</td>\n",
       "      <td>-3.011</td>\n",
       "      <td>36.918</td>\n",
       "      <td>0.501</td>\n",
       "      <td>0.103</td>\n",
       "      <td>44.704</td>\n",
       "      <td>-1.916</td>\n",
       "      <td>164.546</td>\n",
       "      <td>1</td>\n",
       "      <td>46.226</td>\n",
       "      <td>0.725</td>\n",
       "      <td>1.158</td>\n",
       "      <td>-999.000</td>\n",
       "      <td>-999.00</td>\n",
       "      <td>-999.000</td>\n",
       "      <td>46.226</td>\n",
       "      <td>2.233584</td>\n",
       "      <td>b</td>\n",
       "    </tr>\n",
       "    <tr>\n",
       "      <th>2</th>\n",
       "      <td>100002</td>\n",
       "      <td>-999.000</td>\n",
       "      <td>162.172</td>\n",
       "      <td>125.953</td>\n",
       "      <td>35.635</td>\n",
       "      <td>-999.00</td>\n",
       "      <td>-999.000</td>\n",
       "      <td>-999.000</td>\n",
       "      <td>3.148</td>\n",
       "      <td>9.336</td>\n",
       "      <td>197.814</td>\n",
       "      <td>3.776</td>\n",
       "      <td>1.414</td>\n",
       "      <td>-999.0</td>\n",
       "      <td>32.154</td>\n",
       "      <td>-0.705</td>\n",
       "      <td>-2.093</td>\n",
       "      <td>121.409</td>\n",
       "      <td>-0.953</td>\n",
       "      <td>1.052</td>\n",
       "      <td>54.283</td>\n",
       "      <td>-2.186</td>\n",
       "      <td>260.414</td>\n",
       "      <td>1</td>\n",
       "      <td>44.251</td>\n",
       "      <td>2.053</td>\n",
       "      <td>-2.028</td>\n",
       "      <td>-999.000</td>\n",
       "      <td>-999.00</td>\n",
       "      <td>-999.000</td>\n",
       "      <td>44.251</td>\n",
       "      <td>2.347389</td>\n",
       "      <td>b</td>\n",
       "    </tr>\n",
       "    <tr>\n",
       "      <th>3</th>\n",
       "      <td>100003</td>\n",
       "      <td>143.905</td>\n",
       "      <td>81.417</td>\n",
       "      <td>80.943</td>\n",
       "      <td>0.414</td>\n",
       "      <td>-999.00</td>\n",
       "      <td>-999.000</td>\n",
       "      <td>-999.000</td>\n",
       "      <td>3.310</td>\n",
       "      <td>0.414</td>\n",
       "      <td>75.968</td>\n",
       "      <td>2.354</td>\n",
       "      <td>-1.285</td>\n",
       "      <td>-999.0</td>\n",
       "      <td>22.647</td>\n",
       "      <td>-1.655</td>\n",
       "      <td>0.010</td>\n",
       "      <td>53.321</td>\n",
       "      <td>-0.522</td>\n",
       "      <td>-3.100</td>\n",
       "      <td>31.082</td>\n",
       "      <td>0.060</td>\n",
       "      <td>86.062</td>\n",
       "      <td>0</td>\n",
       "      <td>-999.000</td>\n",
       "      <td>-999.000</td>\n",
       "      <td>-999.000</td>\n",
       "      <td>-999.000</td>\n",
       "      <td>-999.00</td>\n",
       "      <td>-999.000</td>\n",
       "      <td>-0.000</td>\n",
       "      <td>5.446378</td>\n",
       "      <td>b</td>\n",
       "    </tr>\n",
       "    <tr>\n",
       "      <th>4</th>\n",
       "      <td>100004</td>\n",
       "      <td>175.864</td>\n",
       "      <td>16.915</td>\n",
       "      <td>134.805</td>\n",
       "      <td>16.405</td>\n",
       "      <td>-999.00</td>\n",
       "      <td>-999.000</td>\n",
       "      <td>-999.000</td>\n",
       "      <td>3.891</td>\n",
       "      <td>16.405</td>\n",
       "      <td>57.983</td>\n",
       "      <td>1.056</td>\n",
       "      <td>-1.385</td>\n",
       "      <td>-999.0</td>\n",
       "      <td>28.209</td>\n",
       "      <td>-2.197</td>\n",
       "      <td>-2.231</td>\n",
       "      <td>29.774</td>\n",
       "      <td>0.798</td>\n",
       "      <td>1.569</td>\n",
       "      <td>2.723</td>\n",
       "      <td>-0.871</td>\n",
       "      <td>53.131</td>\n",
       "      <td>0</td>\n",
       "      <td>-999.000</td>\n",
       "      <td>-999.000</td>\n",
       "      <td>-999.000</td>\n",
       "      <td>-999.000</td>\n",
       "      <td>-999.00</td>\n",
       "      <td>-999.000</td>\n",
       "      <td>0.000</td>\n",
       "      <td>6.245333</td>\n",
       "      <td>b</td>\n",
       "    </tr>\n",
       "  </tbody>\n",
       "</table>\n",
       "</div>"
      ],
      "text/plain": [
       "   EventId  DER_mass_MMC  ...    Weight  Label\n",
       "0   100000       138.470  ...  0.002653      s\n",
       "1   100001       160.937  ...  2.233584      b\n",
       "2   100002      -999.000  ...  2.347389      b\n",
       "3   100003       143.905  ...  5.446378      b\n",
       "4   100004       175.864  ...  6.245333      b\n",
       "\n",
       "[5 rows x 33 columns]"
      ]
     },
     "execution_count": 10,
     "metadata": {},
     "output_type": "execute_result"
    }
   ],
   "source": [
    "higgsdata.head()"
   ]
  },
  {
   "cell_type": "code",
   "execution_count": 11,
   "metadata": {
    "colab": {
     "base_uri": "https://localhost:8080/",
     "height": 320
    },
    "id": "HCPS73k0ytqj",
    "outputId": "a5af19d4-ca20-4b3e-d29e-8df16dbe8e5a"
   },
   "outputs": [
    {
     "data": {
      "text/html": [
       "<div>\n",
       "<style scoped>\n",
       "    .dataframe tbody tr th:only-of-type {\n",
       "        vertical-align: middle;\n",
       "    }\n",
       "\n",
       "    .dataframe tbody tr th {\n",
       "        vertical-align: top;\n",
       "    }\n",
       "\n",
       "    .dataframe thead th {\n",
       "        text-align: right;\n",
       "    }\n",
       "</style>\n",
       "<table border=\"1\" class=\"dataframe\">\n",
       "  <thead>\n",
       "    <tr style=\"text-align: right;\">\n",
       "      <th></th>\n",
       "      <th>EventId</th>\n",
       "      <th>DER_mass_MMC</th>\n",
       "      <th>DER_mass_transverse_met_lep</th>\n",
       "      <th>DER_mass_vis</th>\n",
       "      <th>DER_pt_h</th>\n",
       "      <th>DER_deltaeta_jet_jet</th>\n",
       "      <th>DER_mass_jet_jet</th>\n",
       "      <th>DER_prodeta_jet_jet</th>\n",
       "      <th>DER_deltar_tau_lep</th>\n",
       "      <th>DER_pt_tot</th>\n",
       "      <th>DER_sum_pt</th>\n",
       "      <th>DER_pt_ratio_lep_tau</th>\n",
       "      <th>DER_met_phi_centrality</th>\n",
       "      <th>DER_lep_eta_centrality</th>\n",
       "      <th>PRI_tau_pt</th>\n",
       "      <th>PRI_tau_eta</th>\n",
       "      <th>PRI_tau_phi</th>\n",
       "      <th>PRI_lep_pt</th>\n",
       "      <th>PRI_lep_eta</th>\n",
       "      <th>PRI_lep_phi</th>\n",
       "      <th>PRI_met</th>\n",
       "      <th>PRI_met_phi</th>\n",
       "      <th>PRI_met_sumet</th>\n",
       "      <th>PRI_jet_num</th>\n",
       "      <th>PRI_jet_leading_pt</th>\n",
       "      <th>PRI_jet_leading_eta</th>\n",
       "      <th>PRI_jet_leading_phi</th>\n",
       "      <th>PRI_jet_subleading_pt</th>\n",
       "      <th>PRI_jet_subleading_eta</th>\n",
       "      <th>PRI_jet_subleading_phi</th>\n",
       "      <th>PRI_jet_all_pt</th>\n",
       "      <th>Weight</th>\n",
       "    </tr>\n",
       "  </thead>\n",
       "  <tbody>\n",
       "    <tr>\n",
       "      <th>count</th>\n",
       "      <td>250000.000000</td>\n",
       "      <td>250000.000000</td>\n",
       "      <td>250000.000000</td>\n",
       "      <td>250000.000000</td>\n",
       "      <td>250000.000000</td>\n",
       "      <td>250000.000000</td>\n",
       "      <td>250000.000000</td>\n",
       "      <td>250000.000000</td>\n",
       "      <td>250000.000000</td>\n",
       "      <td>250000.000000</td>\n",
       "      <td>250000.000000</td>\n",
       "      <td>250000.000000</td>\n",
       "      <td>250000.000000</td>\n",
       "      <td>250000.000000</td>\n",
       "      <td>250000.000000</td>\n",
       "      <td>250000.000000</td>\n",
       "      <td>250000.000000</td>\n",
       "      <td>250000.000000</td>\n",
       "      <td>250000.000000</td>\n",
       "      <td>250000.000000</td>\n",
       "      <td>250000.000000</td>\n",
       "      <td>250000.000000</td>\n",
       "      <td>250000.000000</td>\n",
       "      <td>250000.000000</td>\n",
       "      <td>250000.000000</td>\n",
       "      <td>250000.000000</td>\n",
       "      <td>250000.000000</td>\n",
       "      <td>250000.000000</td>\n",
       "      <td>250000.000000</td>\n",
       "      <td>250000.000000</td>\n",
       "      <td>250000.000000</td>\n",
       "      <td>250000.000000</td>\n",
       "    </tr>\n",
       "    <tr>\n",
       "      <th>mean</th>\n",
       "      <td>224999.500000</td>\n",
       "      <td>-49.023079</td>\n",
       "      <td>49.239819</td>\n",
       "      <td>81.181982</td>\n",
       "      <td>57.895962</td>\n",
       "      <td>-708.420675</td>\n",
       "      <td>-601.237051</td>\n",
       "      <td>-709.356603</td>\n",
       "      <td>2.373100</td>\n",
       "      <td>18.917332</td>\n",
       "      <td>158.432217</td>\n",
       "      <td>1.437609</td>\n",
       "      <td>-0.128305</td>\n",
       "      <td>-708.985189</td>\n",
       "      <td>38.707419</td>\n",
       "      <td>-0.010973</td>\n",
       "      <td>-0.008171</td>\n",
       "      <td>46.660207</td>\n",
       "      <td>-0.019507</td>\n",
       "      <td>0.043543</td>\n",
       "      <td>41.717235</td>\n",
       "      <td>-0.010119</td>\n",
       "      <td>209.797178</td>\n",
       "      <td>0.979176</td>\n",
       "      <td>-348.329567</td>\n",
       "      <td>-399.254314</td>\n",
       "      <td>-399.259788</td>\n",
       "      <td>-692.381204</td>\n",
       "      <td>-709.121609</td>\n",
       "      <td>-709.118631</td>\n",
       "      <td>73.064591</td>\n",
       "      <td>1.646767</td>\n",
       "    </tr>\n",
       "    <tr>\n",
       "      <th>std</th>\n",
       "      <td>72168.927986</td>\n",
       "      <td>406.345647</td>\n",
       "      <td>35.344886</td>\n",
       "      <td>40.828691</td>\n",
       "      <td>63.655682</td>\n",
       "      <td>454.480565</td>\n",
       "      <td>657.972302</td>\n",
       "      <td>453.019877</td>\n",
       "      <td>0.782911</td>\n",
       "      <td>22.273494</td>\n",
       "      <td>115.706115</td>\n",
       "      <td>0.844743</td>\n",
       "      <td>1.193585</td>\n",
       "      <td>453.596721</td>\n",
       "      <td>22.412081</td>\n",
       "      <td>1.214079</td>\n",
       "      <td>1.816763</td>\n",
       "      <td>22.064922</td>\n",
       "      <td>1.264982</td>\n",
       "      <td>1.816611</td>\n",
       "      <td>32.894693</td>\n",
       "      <td>1.812223</td>\n",
       "      <td>126.499506</td>\n",
       "      <td>0.977426</td>\n",
       "      <td>532.962789</td>\n",
       "      <td>489.338286</td>\n",
       "      <td>489.333883</td>\n",
       "      <td>479.875496</td>\n",
       "      <td>453.384624</td>\n",
       "      <td>453.389017</td>\n",
       "      <td>98.015662</td>\n",
       "      <td>1.875103</td>\n",
       "    </tr>\n",
       "    <tr>\n",
       "      <th>min</th>\n",
       "      <td>100000.000000</td>\n",
       "      <td>-999.000000</td>\n",
       "      <td>0.000000</td>\n",
       "      <td>6.329000</td>\n",
       "      <td>0.000000</td>\n",
       "      <td>-999.000000</td>\n",
       "      <td>-999.000000</td>\n",
       "      <td>-999.000000</td>\n",
       "      <td>0.208000</td>\n",
       "      <td>0.000000</td>\n",
       "      <td>46.104000</td>\n",
       "      <td>0.047000</td>\n",
       "      <td>-1.414000</td>\n",
       "      <td>-999.000000</td>\n",
       "      <td>20.000000</td>\n",
       "      <td>-2.499000</td>\n",
       "      <td>-3.142000</td>\n",
       "      <td>26.000000</td>\n",
       "      <td>-2.505000</td>\n",
       "      <td>-3.142000</td>\n",
       "      <td>0.109000</td>\n",
       "      <td>-3.142000</td>\n",
       "      <td>13.678000</td>\n",
       "      <td>0.000000</td>\n",
       "      <td>-999.000000</td>\n",
       "      <td>-999.000000</td>\n",
       "      <td>-999.000000</td>\n",
       "      <td>-999.000000</td>\n",
       "      <td>-999.000000</td>\n",
       "      <td>-999.000000</td>\n",
       "      <td>0.000000</td>\n",
       "      <td>0.001502</td>\n",
       "    </tr>\n",
       "    <tr>\n",
       "      <th>25%</th>\n",
       "      <td>162499.750000</td>\n",
       "      <td>78.100750</td>\n",
       "      <td>19.241000</td>\n",
       "      <td>59.388750</td>\n",
       "      <td>14.068750</td>\n",
       "      <td>-999.000000</td>\n",
       "      <td>-999.000000</td>\n",
       "      <td>-999.000000</td>\n",
       "      <td>1.810000</td>\n",
       "      <td>2.841000</td>\n",
       "      <td>77.550000</td>\n",
       "      <td>0.883000</td>\n",
       "      <td>-1.371000</td>\n",
       "      <td>-999.000000</td>\n",
       "      <td>24.591750</td>\n",
       "      <td>-0.925000</td>\n",
       "      <td>-1.575000</td>\n",
       "      <td>32.375000</td>\n",
       "      <td>-1.014000</td>\n",
       "      <td>-1.522000</td>\n",
       "      <td>21.398000</td>\n",
       "      <td>-1.575000</td>\n",
       "      <td>123.017500</td>\n",
       "      <td>0.000000</td>\n",
       "      <td>-999.000000</td>\n",
       "      <td>-999.000000</td>\n",
       "      <td>-999.000000</td>\n",
       "      <td>-999.000000</td>\n",
       "      <td>-999.000000</td>\n",
       "      <td>-999.000000</td>\n",
       "      <td>0.000000</td>\n",
       "      <td>0.018636</td>\n",
       "    </tr>\n",
       "    <tr>\n",
       "      <th>50%</th>\n",
       "      <td>224999.500000</td>\n",
       "      <td>105.012000</td>\n",
       "      <td>46.524000</td>\n",
       "      <td>73.752000</td>\n",
       "      <td>38.467500</td>\n",
       "      <td>-999.000000</td>\n",
       "      <td>-999.000000</td>\n",
       "      <td>-999.000000</td>\n",
       "      <td>2.491500</td>\n",
       "      <td>12.315500</td>\n",
       "      <td>120.664500</td>\n",
       "      <td>1.280000</td>\n",
       "      <td>-0.356000</td>\n",
       "      <td>-999.000000</td>\n",
       "      <td>31.804000</td>\n",
       "      <td>-0.023000</td>\n",
       "      <td>-0.033000</td>\n",
       "      <td>40.516000</td>\n",
       "      <td>-0.045000</td>\n",
       "      <td>0.086000</td>\n",
       "      <td>34.802000</td>\n",
       "      <td>-0.024000</td>\n",
       "      <td>179.739000</td>\n",
       "      <td>1.000000</td>\n",
       "      <td>38.960000</td>\n",
       "      <td>-1.872000</td>\n",
       "      <td>-2.093000</td>\n",
       "      <td>-999.000000</td>\n",
       "      <td>-999.000000</td>\n",
       "      <td>-999.000000</td>\n",
       "      <td>40.512500</td>\n",
       "      <td>1.156188</td>\n",
       "    </tr>\n",
       "    <tr>\n",
       "      <th>75%</th>\n",
       "      <td>287499.250000</td>\n",
       "      <td>130.606250</td>\n",
       "      <td>73.598000</td>\n",
       "      <td>92.259000</td>\n",
       "      <td>79.169000</td>\n",
       "      <td>0.490000</td>\n",
       "      <td>83.446000</td>\n",
       "      <td>-4.593000</td>\n",
       "      <td>2.961000</td>\n",
       "      <td>27.591000</td>\n",
       "      <td>200.478250</td>\n",
       "      <td>1.777000</td>\n",
       "      <td>1.225000</td>\n",
       "      <td>0.000000</td>\n",
       "      <td>45.017000</td>\n",
       "      <td>0.898000</td>\n",
       "      <td>1.565000</td>\n",
       "      <td>53.390000</td>\n",
       "      <td>0.959000</td>\n",
       "      <td>1.618000</td>\n",
       "      <td>51.895000</td>\n",
       "      <td>1.561000</td>\n",
       "      <td>263.379250</td>\n",
       "      <td>2.000000</td>\n",
       "      <td>75.349000</td>\n",
       "      <td>0.433000</td>\n",
       "      <td>0.503000</td>\n",
       "      <td>33.703000</td>\n",
       "      <td>-2.457000</td>\n",
       "      <td>-2.275000</td>\n",
       "      <td>109.933750</td>\n",
       "      <td>2.404128</td>\n",
       "    </tr>\n",
       "    <tr>\n",
       "      <th>max</th>\n",
       "      <td>349999.000000</td>\n",
       "      <td>1192.026000</td>\n",
       "      <td>690.075000</td>\n",
       "      <td>1349.351000</td>\n",
       "      <td>2834.999000</td>\n",
       "      <td>8.503000</td>\n",
       "      <td>4974.979000</td>\n",
       "      <td>16.690000</td>\n",
       "      <td>5.684000</td>\n",
       "      <td>2834.999000</td>\n",
       "      <td>1852.462000</td>\n",
       "      <td>19.773000</td>\n",
       "      <td>1.414000</td>\n",
       "      <td>1.000000</td>\n",
       "      <td>764.408000</td>\n",
       "      <td>2.497000</td>\n",
       "      <td>3.142000</td>\n",
       "      <td>560.271000</td>\n",
       "      <td>2.503000</td>\n",
       "      <td>3.142000</td>\n",
       "      <td>2842.617000</td>\n",
       "      <td>3.142000</td>\n",
       "      <td>2003.976000</td>\n",
       "      <td>3.000000</td>\n",
       "      <td>1120.573000</td>\n",
       "      <td>4.499000</td>\n",
       "      <td>3.141000</td>\n",
       "      <td>721.456000</td>\n",
       "      <td>4.500000</td>\n",
       "      <td>3.142000</td>\n",
       "      <td>1633.433000</td>\n",
       "      <td>7.822543</td>\n",
       "    </tr>\n",
       "  </tbody>\n",
       "</table>\n",
       "</div>"
      ],
      "text/plain": [
       "             EventId   DER_mass_MMC  ...  PRI_jet_all_pt         Weight\n",
       "count  250000.000000  250000.000000  ...   250000.000000  250000.000000\n",
       "mean   224999.500000     -49.023079  ...       73.064591       1.646767\n",
       "std     72168.927986     406.345647  ...       98.015662       1.875103\n",
       "min    100000.000000    -999.000000  ...        0.000000       0.001502\n",
       "25%    162499.750000      78.100750  ...        0.000000       0.018636\n",
       "50%    224999.500000     105.012000  ...       40.512500       1.156188\n",
       "75%    287499.250000     130.606250  ...      109.933750       2.404128\n",
       "max    349999.000000    1192.026000  ...     1633.433000       7.822543\n",
       "\n",
       "[8 rows x 32 columns]"
      ]
     },
     "execution_count": 11,
     "metadata": {},
     "output_type": "execute_result"
    }
   ],
   "source": [
    "higgsdata.describe()"
   ]
  },
  {
   "cell_type": "markdown",
   "metadata": {
    "id": "EHwhYVuYrP2j"
   },
   "source": [
    "Remove rows with -999.00 as the value, as this looks like it is invalid data"
   ]
  },
  {
   "cell_type": "code",
   "execution_count": 12,
   "metadata": {
    "colab": {
     "base_uri": "https://localhost:8080/"
    },
    "id": "Wq2nRCbfwe14",
    "outputId": "4b961fd3-eb3e-40e0-ea9b-8df4cdd1d05a"
   },
   "outputs": [
    {
     "data": {
      "text/plain": [
       "181886"
      ]
     },
     "execution_count": 12,
     "metadata": {},
     "output_type": "execute_result"
    }
   ],
   "source": [
    "rows2remove = np.where(higgsdata[higgsdata.columns] == -999.0)\n",
    "rows2remove = np.unique(rows2remove[0])\n",
    "len(rows2remove)"
   ]
  },
  {
   "cell_type": "code",
   "execution_count": 13,
   "metadata": {
    "id": "wA0q6hlRrOkG"
   },
   "outputs": [],
   "source": [
    "cleanHiggsData = higgsdata.drop(rows2remove)"
   ]
  },
  {
   "cell_type": "code",
   "execution_count": 14,
   "metadata": {
    "colab": {
     "base_uri": "https://localhost:8080/",
     "height": 226
    },
    "id": "GqLJbLBwv_cd",
    "outputId": "ea606db6-fc7a-48e6-d4a7-be0d37b31f4f"
   },
   "outputs": [
    {
     "data": {
      "text/html": [
       "<div>\n",
       "<style scoped>\n",
       "    .dataframe tbody tr th:only-of-type {\n",
       "        vertical-align: middle;\n",
       "    }\n",
       "\n",
       "    .dataframe tbody tr th {\n",
       "        vertical-align: top;\n",
       "    }\n",
       "\n",
       "    .dataframe thead th {\n",
       "        text-align: right;\n",
       "    }\n",
       "</style>\n",
       "<table border=\"1\" class=\"dataframe\">\n",
       "  <thead>\n",
       "    <tr style=\"text-align: right;\">\n",
       "      <th></th>\n",
       "      <th>EventId</th>\n",
       "      <th>DER_mass_MMC</th>\n",
       "      <th>DER_mass_transverse_met_lep</th>\n",
       "      <th>DER_mass_vis</th>\n",
       "      <th>DER_pt_h</th>\n",
       "      <th>DER_deltaeta_jet_jet</th>\n",
       "      <th>DER_mass_jet_jet</th>\n",
       "      <th>DER_prodeta_jet_jet</th>\n",
       "      <th>DER_deltar_tau_lep</th>\n",
       "      <th>DER_pt_tot</th>\n",
       "      <th>DER_sum_pt</th>\n",
       "      <th>DER_pt_ratio_lep_tau</th>\n",
       "      <th>DER_met_phi_centrality</th>\n",
       "      <th>DER_lep_eta_centrality</th>\n",
       "      <th>PRI_tau_pt</th>\n",
       "      <th>PRI_tau_eta</th>\n",
       "      <th>PRI_tau_phi</th>\n",
       "      <th>PRI_lep_pt</th>\n",
       "      <th>PRI_lep_eta</th>\n",
       "      <th>PRI_lep_phi</th>\n",
       "      <th>PRI_met</th>\n",
       "      <th>PRI_met_phi</th>\n",
       "      <th>PRI_met_sumet</th>\n",
       "      <th>PRI_jet_num</th>\n",
       "      <th>PRI_jet_leading_pt</th>\n",
       "      <th>PRI_jet_leading_eta</th>\n",
       "      <th>PRI_jet_leading_phi</th>\n",
       "      <th>PRI_jet_subleading_pt</th>\n",
       "      <th>PRI_jet_subleading_eta</th>\n",
       "      <th>PRI_jet_subleading_phi</th>\n",
       "      <th>PRI_jet_all_pt</th>\n",
       "      <th>Weight</th>\n",
       "      <th>Label</th>\n",
       "    </tr>\n",
       "  </thead>\n",
       "  <tbody>\n",
       "    <tr>\n",
       "      <th>0</th>\n",
       "      <td>100000</td>\n",
       "      <td>138.470</td>\n",
       "      <td>51.655</td>\n",
       "      <td>97.827</td>\n",
       "      <td>27.980</td>\n",
       "      <td>0.910</td>\n",
       "      <td>124.711</td>\n",
       "      <td>2.666</td>\n",
       "      <td>3.064</td>\n",
       "      <td>41.928</td>\n",
       "      <td>197.760</td>\n",
       "      <td>1.582</td>\n",
       "      <td>1.396</td>\n",
       "      <td>0.200</td>\n",
       "      <td>32.638</td>\n",
       "      <td>1.017</td>\n",
       "      <td>0.381</td>\n",
       "      <td>51.626</td>\n",
       "      <td>2.273</td>\n",
       "      <td>-2.414</td>\n",
       "      <td>16.824</td>\n",
       "      <td>-0.277</td>\n",
       "      <td>258.733</td>\n",
       "      <td>2</td>\n",
       "      <td>67.435</td>\n",
       "      <td>2.150</td>\n",
       "      <td>0.444</td>\n",
       "      <td>46.062</td>\n",
       "      <td>1.240</td>\n",
       "      <td>-2.475</td>\n",
       "      <td>113.497</td>\n",
       "      <td>0.002653</td>\n",
       "      <td>s</td>\n",
       "    </tr>\n",
       "    <tr>\n",
       "      <th>5</th>\n",
       "      <td>100005</td>\n",
       "      <td>89.744</td>\n",
       "      <td>13.550</td>\n",
       "      <td>59.149</td>\n",
       "      <td>116.344</td>\n",
       "      <td>2.636</td>\n",
       "      <td>284.584</td>\n",
       "      <td>-0.540</td>\n",
       "      <td>1.362</td>\n",
       "      <td>61.619</td>\n",
       "      <td>278.876</td>\n",
       "      <td>0.588</td>\n",
       "      <td>0.479</td>\n",
       "      <td>0.975</td>\n",
       "      <td>53.651</td>\n",
       "      <td>0.371</td>\n",
       "      <td>1.329</td>\n",
       "      <td>31.565</td>\n",
       "      <td>-0.884</td>\n",
       "      <td>1.857</td>\n",
       "      <td>40.735</td>\n",
       "      <td>2.237</td>\n",
       "      <td>282.849</td>\n",
       "      <td>3</td>\n",
       "      <td>90.547</td>\n",
       "      <td>-2.412</td>\n",
       "      <td>-0.653</td>\n",
       "      <td>56.165</td>\n",
       "      <td>0.224</td>\n",
       "      <td>3.106</td>\n",
       "      <td>193.660</td>\n",
       "      <td>0.083414</td>\n",
       "      <td>b</td>\n",
       "    </tr>\n",
       "    <tr>\n",
       "      <th>6</th>\n",
       "      <td>100006</td>\n",
       "      <td>148.754</td>\n",
       "      <td>28.862</td>\n",
       "      <td>107.782</td>\n",
       "      <td>106.130</td>\n",
       "      <td>0.733</td>\n",
       "      <td>158.359</td>\n",
       "      <td>0.113</td>\n",
       "      <td>2.941</td>\n",
       "      <td>2.545</td>\n",
       "      <td>305.967</td>\n",
       "      <td>3.371</td>\n",
       "      <td>1.393</td>\n",
       "      <td>0.791</td>\n",
       "      <td>28.850</td>\n",
       "      <td>1.113</td>\n",
       "      <td>2.409</td>\n",
       "      <td>97.240</td>\n",
       "      <td>0.675</td>\n",
       "      <td>-0.966</td>\n",
       "      <td>38.421</td>\n",
       "      <td>-1.443</td>\n",
       "      <td>294.074</td>\n",
       "      <td>2</td>\n",
       "      <td>123.010</td>\n",
       "      <td>0.864</td>\n",
       "      <td>1.450</td>\n",
       "      <td>56.867</td>\n",
       "      <td>0.131</td>\n",
       "      <td>-2.767</td>\n",
       "      <td>179.877</td>\n",
       "      <td>0.002653</td>\n",
       "      <td>s</td>\n",
       "    </tr>\n",
       "    <tr>\n",
       "      <th>11</th>\n",
       "      <td>100011</td>\n",
       "      <td>114.744</td>\n",
       "      <td>10.286</td>\n",
       "      <td>75.712</td>\n",
       "      <td>30.816</td>\n",
       "      <td>2.563</td>\n",
       "      <td>252.599</td>\n",
       "      <td>-1.401</td>\n",
       "      <td>2.888</td>\n",
       "      <td>36.745</td>\n",
       "      <td>239.804</td>\n",
       "      <td>1.061</td>\n",
       "      <td>1.364</td>\n",
       "      <td>0.769</td>\n",
       "      <td>35.976</td>\n",
       "      <td>-0.669</td>\n",
       "      <td>-0.342</td>\n",
       "      <td>38.188</td>\n",
       "      <td>-0.165</td>\n",
       "      <td>2.502</td>\n",
       "      <td>22.385</td>\n",
       "      <td>2.148</td>\n",
       "      <td>290.547</td>\n",
       "      <td>3</td>\n",
       "      <td>76.773</td>\n",
       "      <td>-0.790</td>\n",
       "      <td>0.303</td>\n",
       "      <td>56.876</td>\n",
       "      <td>1.773</td>\n",
       "      <td>-2.079</td>\n",
       "      <td>165.640</td>\n",
       "      <td>0.307170</td>\n",
       "      <td>b</td>\n",
       "    </tr>\n",
       "    <tr>\n",
       "      <th>23</th>\n",
       "      <td>100023</td>\n",
       "      <td>141.481</td>\n",
       "      <td>0.736</td>\n",
       "      <td>111.581</td>\n",
       "      <td>174.075</td>\n",
       "      <td>1.955</td>\n",
       "      <td>364.344</td>\n",
       "      <td>-0.923</td>\n",
       "      <td>1.335</td>\n",
       "      <td>6.663</td>\n",
       "      <td>440.859</td>\n",
       "      <td>0.652</td>\n",
       "      <td>1.042</td>\n",
       "      <td>0.207</td>\n",
       "      <td>98.565</td>\n",
       "      <td>0.190</td>\n",
       "      <td>-1.506</td>\n",
       "      <td>64.285</td>\n",
       "      <td>1.405</td>\n",
       "      <td>-0.952</td>\n",
       "      <td>17.960</td>\n",
       "      <td>-0.973</td>\n",
       "      <td>454.785</td>\n",
       "      <td>2</td>\n",
       "      <td>195.533</td>\n",
       "      <td>1.156</td>\n",
       "      <td>1.416</td>\n",
       "      <td>82.477</td>\n",
       "      <td>-0.798</td>\n",
       "      <td>-2.785</td>\n",
       "      <td>278.009</td>\n",
       "      <td>0.001503</td>\n",
       "      <td>s</td>\n",
       "    </tr>\n",
       "  </tbody>\n",
       "</table>\n",
       "</div>"
      ],
      "text/plain": [
       "    EventId  DER_mass_MMC  ...    Weight  Label\n",
       "0    100000       138.470  ...  0.002653      s\n",
       "5    100005        89.744  ...  0.083414      b\n",
       "6    100006       148.754  ...  0.002653      s\n",
       "11   100011       114.744  ...  0.307170      b\n",
       "23   100023       141.481  ...  0.001503      s\n",
       "\n",
       "[5 rows x 33 columns]"
      ]
     },
     "execution_count": 14,
     "metadata": {},
     "output_type": "execute_result"
    }
   ],
   "source": [
    "cleanHiggsData.head()"
   ]
  },
  {
   "cell_type": "code",
   "execution_count": 15,
   "metadata": {
    "colab": {
     "base_uri": "https://localhost:8080/",
     "height": 320
    },
    "id": "ziEAfxQtuY5y",
    "outputId": "ffbf2010-08bb-4997-de7f-da8498532dc2"
   },
   "outputs": [
    {
     "data": {
      "text/html": [
       "<div>\n",
       "<style scoped>\n",
       "    .dataframe tbody tr th:only-of-type {\n",
       "        vertical-align: middle;\n",
       "    }\n",
       "\n",
       "    .dataframe tbody tr th {\n",
       "        vertical-align: top;\n",
       "    }\n",
       "\n",
       "    .dataframe thead th {\n",
       "        text-align: right;\n",
       "    }\n",
       "</style>\n",
       "<table border=\"1\" class=\"dataframe\">\n",
       "  <thead>\n",
       "    <tr style=\"text-align: right;\">\n",
       "      <th></th>\n",
       "      <th>EventId</th>\n",
       "      <th>DER_mass_MMC</th>\n",
       "      <th>DER_mass_transverse_met_lep</th>\n",
       "      <th>DER_mass_vis</th>\n",
       "      <th>DER_pt_h</th>\n",
       "      <th>DER_deltaeta_jet_jet</th>\n",
       "      <th>DER_mass_jet_jet</th>\n",
       "      <th>DER_prodeta_jet_jet</th>\n",
       "      <th>DER_deltar_tau_lep</th>\n",
       "      <th>DER_pt_tot</th>\n",
       "      <th>DER_sum_pt</th>\n",
       "      <th>DER_pt_ratio_lep_tau</th>\n",
       "      <th>DER_met_phi_centrality</th>\n",
       "      <th>DER_lep_eta_centrality</th>\n",
       "      <th>PRI_tau_pt</th>\n",
       "      <th>PRI_tau_eta</th>\n",
       "      <th>PRI_tau_phi</th>\n",
       "      <th>PRI_lep_pt</th>\n",
       "      <th>PRI_lep_eta</th>\n",
       "      <th>PRI_lep_phi</th>\n",
       "      <th>PRI_met</th>\n",
       "      <th>PRI_met_phi</th>\n",
       "      <th>PRI_met_sumet</th>\n",
       "      <th>PRI_jet_num</th>\n",
       "      <th>PRI_jet_leading_pt</th>\n",
       "      <th>PRI_jet_leading_eta</th>\n",
       "      <th>PRI_jet_leading_phi</th>\n",
       "      <th>PRI_jet_subleading_pt</th>\n",
       "      <th>PRI_jet_subleading_eta</th>\n",
       "      <th>PRI_jet_subleading_phi</th>\n",
       "      <th>PRI_jet_all_pt</th>\n",
       "      <th>Weight</th>\n",
       "    </tr>\n",
       "  </thead>\n",
       "  <tbody>\n",
       "    <tr>\n",
       "      <th>count</th>\n",
       "      <td>68114.000000</td>\n",
       "      <td>68114.000000</td>\n",
       "      <td>68114.000000</td>\n",
       "      <td>68114.000000</td>\n",
       "      <td>68114.000000</td>\n",
       "      <td>68114.000000</td>\n",
       "      <td>68114.000000</td>\n",
       "      <td>68114.000000</td>\n",
       "      <td>68114.000000</td>\n",
       "      <td>68114.000000</td>\n",
       "      <td>68114.000000</td>\n",
       "      <td>68114.000000</td>\n",
       "      <td>68114.000000</td>\n",
       "      <td>68114.000000</td>\n",
       "      <td>68114.000000</td>\n",
       "      <td>68114.000000</td>\n",
       "      <td>68114.000000</td>\n",
       "      <td>68114.000000</td>\n",
       "      <td>68114.000000</td>\n",
       "      <td>68114.000000</td>\n",
       "      <td>68114.000000</td>\n",
       "      <td>68114.000000</td>\n",
       "      <td>68114.000000</td>\n",
       "      <td>68114.000000</td>\n",
       "      <td>68114.000000</td>\n",
       "      <td>68114.000000</td>\n",
       "      <td>68114.000000</td>\n",
       "      <td>68114.000000</td>\n",
       "      <td>68114.000000</td>\n",
       "      <td>68114.000000</td>\n",
       "      <td>68114.000000</td>\n",
       "      <td>68114.000000</td>\n",
       "    </tr>\n",
       "    <tr>\n",
       "      <th>mean</th>\n",
       "      <td>225035.224154</td>\n",
       "      <td>122.816184</td>\n",
       "      <td>35.270300</td>\n",
       "      <td>78.496815</td>\n",
       "      <td>111.430393</td>\n",
       "      <td>2.434232</td>\n",
       "      <td>378.176455</td>\n",
       "      <td>-0.881020</td>\n",
       "      <td>1.996525</td>\n",
       "      <td>27.356644</td>\n",
       "      <td>281.524727</td>\n",
       "      <td>1.480924</td>\n",
       "      <td>0.637307</td>\n",
       "      <td>0.463833</td>\n",
       "      <td>45.716667</td>\n",
       "      <td>-0.003367</td>\n",
       "      <td>0.001104</td>\n",
       "      <td>52.433431</td>\n",
       "      <td>-0.003671</td>\n",
       "      <td>0.041897</td>\n",
       "      <td>54.959294</td>\n",
       "      <td>0.006987</td>\n",
       "      <td>334.677667</td>\n",
       "      <td>2.303711</td>\n",
       "      <td>106.879969</td>\n",
       "      <td>-0.005791</td>\n",
       "      <td>-0.011564</td>\n",
       "      <td>57.915426</td>\n",
       "      <td>-0.012930</td>\n",
       "      <td>-0.004782</td>\n",
       "      <td>183.374631</td>\n",
       "      <td>0.445788</td>\n",
       "    </tr>\n",
       "    <tr>\n",
       "      <th>std</th>\n",
       "      <td>72243.940540</td>\n",
       "      <td>60.751559</td>\n",
       "      <td>30.750262</td>\n",
       "      <td>40.728784</td>\n",
       "      <td>76.318688</td>\n",
       "      <td>1.750700</td>\n",
       "      <td>400.784254</td>\n",
       "      <td>3.592624</td>\n",
       "      <td>0.774636</td>\n",
       "      <td>28.266913</td>\n",
       "      <td>130.245426</td>\n",
       "      <td>1.097985</td>\n",
       "      <td>0.924876</td>\n",
       "      <td>0.398422</td>\n",
       "      <td>29.681876</td>\n",
       "      <td>1.179442</td>\n",
       "      <td>1.818341</td>\n",
       "      <td>28.798872</td>\n",
       "      <td>1.197358</td>\n",
       "      <td>1.815463</td>\n",
       "      <td>42.690672</td>\n",
       "      <td>1.813892</td>\n",
       "      <td>139.867044</td>\n",
       "      <td>0.459863</td>\n",
       "      <td>68.165852</td>\n",
       "      <td>1.746442</td>\n",
       "      <td>1.809276</td>\n",
       "      <td>32.224318</td>\n",
       "      <td>2.044065</td>\n",
       "      <td>1.817247</td>\n",
       "      <td>108.312736</td>\n",
       "      <td>0.747552</td>\n",
       "    </tr>\n",
       "    <tr>\n",
       "      <th>min</th>\n",
       "      <td>100000.000000</td>\n",
       "      <td>9.878000</td>\n",
       "      <td>0.000000</td>\n",
       "      <td>7.330000</td>\n",
       "      <td>0.120000</td>\n",
       "      <td>0.000000</td>\n",
       "      <td>13.602000</td>\n",
       "      <td>-18.066000</td>\n",
       "      <td>0.228000</td>\n",
       "      <td>0.004000</td>\n",
       "      <td>110.601000</td>\n",
       "      <td>0.047000</td>\n",
       "      <td>-1.414000</td>\n",
       "      <td>0.000000</td>\n",
       "      <td>20.000000</td>\n",
       "      <td>-2.496000</td>\n",
       "      <td>-3.141000</td>\n",
       "      <td>26.001000</td>\n",
       "      <td>-2.487000</td>\n",
       "      <td>-3.142000</td>\n",
       "      <td>0.200000</td>\n",
       "      <td>-3.142000</td>\n",
       "      <td>34.323000</td>\n",
       "      <td>2.000000</td>\n",
       "      <td>30.196000</td>\n",
       "      <td>-4.497000</td>\n",
       "      <td>-3.142000</td>\n",
       "      <td>30.000000</td>\n",
       "      <td>-4.500000</td>\n",
       "      <td>-3.142000</td>\n",
       "      <td>60.223000</td>\n",
       "      <td>0.001502</td>\n",
       "    </tr>\n",
       "    <tr>\n",
       "      <th>25%</th>\n",
       "      <td>162349.750000</td>\n",
       "      <td>93.320250</td>\n",
       "      <td>11.320000</td>\n",
       "      <td>57.274250</td>\n",
       "      <td>57.827000</td>\n",
       "      <td>0.897000</td>\n",
       "      <td>113.463000</td>\n",
       "      <td>-2.729000</td>\n",
       "      <td>1.397000</td>\n",
       "      <td>4.218000</td>\n",
       "      <td>192.844250</td>\n",
       "      <td>0.762250</td>\n",
       "      <td>0.191000</td>\n",
       "      <td>0.005000</td>\n",
       "      <td>26.589250</td>\n",
       "      <td>-0.889000</td>\n",
       "      <td>-1.570000</td>\n",
       "      <td>33.280250</td>\n",
       "      <td>-0.908750</td>\n",
       "      <td>-1.518000</td>\n",
       "      <td>27.081000</td>\n",
       "      <td>-1.550000</td>\n",
       "      <td>239.168250</td>\n",
       "      <td>2.000000</td>\n",
       "      <td>60.844500</td>\n",
       "      <td>-1.339000</td>\n",
       "      <td>-1.574000</td>\n",
       "      <td>37.392250</td>\n",
       "      <td>-1.628750</td>\n",
       "      <td>-1.579000</td>\n",
       "      <td>109.472000</td>\n",
       "      <td>0.001503</td>\n",
       "    </tr>\n",
       "    <tr>\n",
       "      <th>50%</th>\n",
       "      <td>225288.000000</td>\n",
       "      <td>113.230000</td>\n",
       "      <td>26.964000</td>\n",
       "      <td>70.930000</td>\n",
       "      <td>94.714000</td>\n",
       "      <td>2.146500</td>\n",
       "      <td>232.370500</td>\n",
       "      <td>-0.284000</td>\n",
       "      <td>1.940000</td>\n",
       "      <td>22.542000</td>\n",
       "      <td>246.719500</td>\n",
       "      <td>1.206000</td>\n",
       "      <td>1.071000</td>\n",
       "      <td>0.469000</td>\n",
       "      <td>36.590500</td>\n",
       "      <td>-0.011000</td>\n",
       "      <td>-0.010000</td>\n",
       "      <td>43.450000</td>\n",
       "      <td>-0.009000</td>\n",
       "      <td>0.077000</td>\n",
       "      <td>44.292000</td>\n",
       "      <td>0.005000</td>\n",
       "      <td>305.170000</td>\n",
       "      <td>2.000000</td>\n",
       "      <td>87.369000</td>\n",
       "      <td>0.000000</td>\n",
       "      <td>-0.032000</td>\n",
       "      <td>48.105500</td>\n",
       "      <td>-0.014000</td>\n",
       "      <td>-0.008000</td>\n",
       "      <td>154.136500</td>\n",
       "      <td>0.064061</td>\n",
       "    </tr>\n",
       "    <tr>\n",
       "      <th>75%</th>\n",
       "      <td>287772.750000</td>\n",
       "      <td>133.455750</td>\n",
       "      <td>52.202750</td>\n",
       "      <td>88.372000</td>\n",
       "      <td>145.824750</td>\n",
       "      <td>3.741000</td>\n",
       "      <td>489.447750</td>\n",
       "      <td>0.921000</td>\n",
       "      <td>2.574000</td>\n",
       "      <td>39.067750</td>\n",
       "      <td>331.105000</td>\n",
       "      <td>1.854000</td>\n",
       "      <td>1.342000</td>\n",
       "      <td>0.883000</td>\n",
       "      <td>54.194250</td>\n",
       "      <td>0.879750</td>\n",
       "      <td>1.580000</td>\n",
       "      <td>61.482000</td>\n",
       "      <td>0.904000</td>\n",
       "      <td>1.609000</td>\n",
       "      <td>69.416250</td>\n",
       "      <td>1.573000</td>\n",
       "      <td>396.382500</td>\n",
       "      <td>3.000000</td>\n",
       "      <td>131.069000</td>\n",
       "      <td>1.330000</td>\n",
       "      <td>1.558000</td>\n",
       "      <td>66.946500</td>\n",
       "      <td>1.604000</td>\n",
       "      <td>1.573000</td>\n",
       "      <td>223.595250</td>\n",
       "      <td>0.744056</td>\n",
       "    </tr>\n",
       "    <tr>\n",
       "      <th>max</th>\n",
       "      <td>349994.000000</td>\n",
       "      <td>988.199000</td>\n",
       "      <td>594.287000</td>\n",
       "      <td>789.538000</td>\n",
       "      <td>1053.807000</td>\n",
       "      <td>8.503000</td>\n",
       "      <td>4974.979000</td>\n",
       "      <td>16.648000</td>\n",
       "      <td>5.579000</td>\n",
       "      <td>466.525000</td>\n",
       "      <td>1852.462000</td>\n",
       "      <td>19.773000</td>\n",
       "      <td>1.414000</td>\n",
       "      <td>1.000000</td>\n",
       "      <td>622.862000</td>\n",
       "      <td>2.497000</td>\n",
       "      <td>3.142000</td>\n",
       "      <td>461.896000</td>\n",
       "      <td>2.499000</td>\n",
       "      <td>3.141000</td>\n",
       "      <td>951.363000</td>\n",
       "      <td>3.142000</td>\n",
       "      <td>2003.976000</td>\n",
       "      <td>3.000000</td>\n",
       "      <td>1120.573000</td>\n",
       "      <td>4.499000</td>\n",
       "      <td>3.141000</td>\n",
       "      <td>721.456000</td>\n",
       "      <td>4.500000</td>\n",
       "      <td>3.142000</td>\n",
       "      <td>1633.433000</td>\n",
       "      <td>7.805035</td>\n",
       "    </tr>\n",
       "  </tbody>\n",
       "</table>\n",
       "</div>"
      ],
      "text/plain": [
       "             EventId  DER_mass_MMC  ...  PRI_jet_all_pt        Weight\n",
       "count   68114.000000  68114.000000  ...    68114.000000  68114.000000\n",
       "mean   225035.224154    122.816184  ...      183.374631      0.445788\n",
       "std     72243.940540     60.751559  ...      108.312736      0.747552\n",
       "min    100000.000000      9.878000  ...       60.223000      0.001502\n",
       "25%    162349.750000     93.320250  ...      109.472000      0.001503\n",
       "50%    225288.000000    113.230000  ...      154.136500      0.064061\n",
       "75%    287772.750000    133.455750  ...      223.595250      0.744056\n",
       "max    349994.000000    988.199000  ...     1633.433000      7.805035\n",
       "\n",
       "[8 rows x 32 columns]"
      ]
     },
     "execution_count": 15,
     "metadata": {},
     "output_type": "execute_result"
    }
   ],
   "source": [
    "cleanHiggsData.describe()"
   ]
  },
  {
   "cell_type": "code",
   "execution_count": 16,
   "metadata": {
    "id": "ZIHEZ5ySvUob"
   },
   "outputs": [],
   "source": [
    "cleanHiggsData[\"LabelNum\"] = cleanHiggsData.Label.map({'b':0, 's':1})"
   ]
  },
  {
   "cell_type": "code",
   "execution_count": 17,
   "metadata": {
    "id": "0mw1GNrdlXZg"
   },
   "outputs": [],
   "source": [
    "labels, labelsNum, weights = cleanHiggsData.Label.values, cleanHiggsData.LabelNum.values, cleanHiggsData.Weight.values"
   ]
  },
  {
   "cell_type": "code",
   "execution_count": 18,
   "metadata": {
    "id": "NPNGZ9zkraWk"
   },
   "outputs": [],
   "source": [
    "targets = [ [labels[i], labelsNum[i], weights[i]] for i in range(len(labels)) ]"
   ]
  },
  {
   "cell_type": "code",
   "execution_count": 19,
   "metadata": {
    "id": "QCb6nBKd2Zve"
   },
   "outputs": [],
   "source": [
    "cleanHiggsData.drop([\"Weight\", \"Label\", \"LabelNum\"],axis=1, inplace=True)"
   ]
  },
  {
   "cell_type": "code",
   "execution_count": 20,
   "metadata": {
    "colab": {
     "base_uri": "https://localhost:8080/",
     "height": 226
    },
    "id": "bT9a5_bv2_Z7",
    "outputId": "dc68b7aa-43db-4295-a60e-84ba1eca926c"
   },
   "outputs": [
    {
     "data": {
      "text/html": [
       "<div>\n",
       "<style scoped>\n",
       "    .dataframe tbody tr th:only-of-type {\n",
       "        vertical-align: middle;\n",
       "    }\n",
       "\n",
       "    .dataframe tbody tr th {\n",
       "        vertical-align: top;\n",
       "    }\n",
       "\n",
       "    .dataframe thead th {\n",
       "        text-align: right;\n",
       "    }\n",
       "</style>\n",
       "<table border=\"1\" class=\"dataframe\">\n",
       "  <thead>\n",
       "    <tr style=\"text-align: right;\">\n",
       "      <th></th>\n",
       "      <th>EventId</th>\n",
       "      <th>DER_mass_MMC</th>\n",
       "      <th>DER_mass_transverse_met_lep</th>\n",
       "      <th>DER_mass_vis</th>\n",
       "      <th>DER_pt_h</th>\n",
       "      <th>DER_deltaeta_jet_jet</th>\n",
       "      <th>DER_mass_jet_jet</th>\n",
       "      <th>DER_prodeta_jet_jet</th>\n",
       "      <th>DER_deltar_tau_lep</th>\n",
       "      <th>DER_pt_tot</th>\n",
       "      <th>DER_sum_pt</th>\n",
       "      <th>DER_pt_ratio_lep_tau</th>\n",
       "      <th>DER_met_phi_centrality</th>\n",
       "      <th>DER_lep_eta_centrality</th>\n",
       "      <th>PRI_tau_pt</th>\n",
       "      <th>PRI_tau_eta</th>\n",
       "      <th>PRI_tau_phi</th>\n",
       "      <th>PRI_lep_pt</th>\n",
       "      <th>PRI_lep_eta</th>\n",
       "      <th>PRI_lep_phi</th>\n",
       "      <th>PRI_met</th>\n",
       "      <th>PRI_met_phi</th>\n",
       "      <th>PRI_met_sumet</th>\n",
       "      <th>PRI_jet_num</th>\n",
       "      <th>PRI_jet_leading_pt</th>\n",
       "      <th>PRI_jet_leading_eta</th>\n",
       "      <th>PRI_jet_leading_phi</th>\n",
       "      <th>PRI_jet_subleading_pt</th>\n",
       "      <th>PRI_jet_subleading_eta</th>\n",
       "      <th>PRI_jet_subleading_phi</th>\n",
       "      <th>PRI_jet_all_pt</th>\n",
       "    </tr>\n",
       "  </thead>\n",
       "  <tbody>\n",
       "    <tr>\n",
       "      <th>0</th>\n",
       "      <td>100000</td>\n",
       "      <td>138.470</td>\n",
       "      <td>51.655</td>\n",
       "      <td>97.827</td>\n",
       "      <td>27.980</td>\n",
       "      <td>0.910</td>\n",
       "      <td>124.711</td>\n",
       "      <td>2.666</td>\n",
       "      <td>3.064</td>\n",
       "      <td>41.928</td>\n",
       "      <td>197.760</td>\n",
       "      <td>1.582</td>\n",
       "      <td>1.396</td>\n",
       "      <td>0.200</td>\n",
       "      <td>32.638</td>\n",
       "      <td>1.017</td>\n",
       "      <td>0.381</td>\n",
       "      <td>51.626</td>\n",
       "      <td>2.273</td>\n",
       "      <td>-2.414</td>\n",
       "      <td>16.824</td>\n",
       "      <td>-0.277</td>\n",
       "      <td>258.733</td>\n",
       "      <td>2</td>\n",
       "      <td>67.435</td>\n",
       "      <td>2.150</td>\n",
       "      <td>0.444</td>\n",
       "      <td>46.062</td>\n",
       "      <td>1.240</td>\n",
       "      <td>-2.475</td>\n",
       "      <td>113.497</td>\n",
       "    </tr>\n",
       "    <tr>\n",
       "      <th>5</th>\n",
       "      <td>100005</td>\n",
       "      <td>89.744</td>\n",
       "      <td>13.550</td>\n",
       "      <td>59.149</td>\n",
       "      <td>116.344</td>\n",
       "      <td>2.636</td>\n",
       "      <td>284.584</td>\n",
       "      <td>-0.540</td>\n",
       "      <td>1.362</td>\n",
       "      <td>61.619</td>\n",
       "      <td>278.876</td>\n",
       "      <td>0.588</td>\n",
       "      <td>0.479</td>\n",
       "      <td>0.975</td>\n",
       "      <td>53.651</td>\n",
       "      <td>0.371</td>\n",
       "      <td>1.329</td>\n",
       "      <td>31.565</td>\n",
       "      <td>-0.884</td>\n",
       "      <td>1.857</td>\n",
       "      <td>40.735</td>\n",
       "      <td>2.237</td>\n",
       "      <td>282.849</td>\n",
       "      <td>3</td>\n",
       "      <td>90.547</td>\n",
       "      <td>-2.412</td>\n",
       "      <td>-0.653</td>\n",
       "      <td>56.165</td>\n",
       "      <td>0.224</td>\n",
       "      <td>3.106</td>\n",
       "      <td>193.660</td>\n",
       "    </tr>\n",
       "    <tr>\n",
       "      <th>6</th>\n",
       "      <td>100006</td>\n",
       "      <td>148.754</td>\n",
       "      <td>28.862</td>\n",
       "      <td>107.782</td>\n",
       "      <td>106.130</td>\n",
       "      <td>0.733</td>\n",
       "      <td>158.359</td>\n",
       "      <td>0.113</td>\n",
       "      <td>2.941</td>\n",
       "      <td>2.545</td>\n",
       "      <td>305.967</td>\n",
       "      <td>3.371</td>\n",
       "      <td>1.393</td>\n",
       "      <td>0.791</td>\n",
       "      <td>28.850</td>\n",
       "      <td>1.113</td>\n",
       "      <td>2.409</td>\n",
       "      <td>97.240</td>\n",
       "      <td>0.675</td>\n",
       "      <td>-0.966</td>\n",
       "      <td>38.421</td>\n",
       "      <td>-1.443</td>\n",
       "      <td>294.074</td>\n",
       "      <td>2</td>\n",
       "      <td>123.010</td>\n",
       "      <td>0.864</td>\n",
       "      <td>1.450</td>\n",
       "      <td>56.867</td>\n",
       "      <td>0.131</td>\n",
       "      <td>-2.767</td>\n",
       "      <td>179.877</td>\n",
       "    </tr>\n",
       "    <tr>\n",
       "      <th>11</th>\n",
       "      <td>100011</td>\n",
       "      <td>114.744</td>\n",
       "      <td>10.286</td>\n",
       "      <td>75.712</td>\n",
       "      <td>30.816</td>\n",
       "      <td>2.563</td>\n",
       "      <td>252.599</td>\n",
       "      <td>-1.401</td>\n",
       "      <td>2.888</td>\n",
       "      <td>36.745</td>\n",
       "      <td>239.804</td>\n",
       "      <td>1.061</td>\n",
       "      <td>1.364</td>\n",
       "      <td>0.769</td>\n",
       "      <td>35.976</td>\n",
       "      <td>-0.669</td>\n",
       "      <td>-0.342</td>\n",
       "      <td>38.188</td>\n",
       "      <td>-0.165</td>\n",
       "      <td>2.502</td>\n",
       "      <td>22.385</td>\n",
       "      <td>2.148</td>\n",
       "      <td>290.547</td>\n",
       "      <td>3</td>\n",
       "      <td>76.773</td>\n",
       "      <td>-0.790</td>\n",
       "      <td>0.303</td>\n",
       "      <td>56.876</td>\n",
       "      <td>1.773</td>\n",
       "      <td>-2.079</td>\n",
       "      <td>165.640</td>\n",
       "    </tr>\n",
       "    <tr>\n",
       "      <th>23</th>\n",
       "      <td>100023</td>\n",
       "      <td>141.481</td>\n",
       "      <td>0.736</td>\n",
       "      <td>111.581</td>\n",
       "      <td>174.075</td>\n",
       "      <td>1.955</td>\n",
       "      <td>364.344</td>\n",
       "      <td>-0.923</td>\n",
       "      <td>1.335</td>\n",
       "      <td>6.663</td>\n",
       "      <td>440.859</td>\n",
       "      <td>0.652</td>\n",
       "      <td>1.042</td>\n",
       "      <td>0.207</td>\n",
       "      <td>98.565</td>\n",
       "      <td>0.190</td>\n",
       "      <td>-1.506</td>\n",
       "      <td>64.285</td>\n",
       "      <td>1.405</td>\n",
       "      <td>-0.952</td>\n",
       "      <td>17.960</td>\n",
       "      <td>-0.973</td>\n",
       "      <td>454.785</td>\n",
       "      <td>2</td>\n",
       "      <td>195.533</td>\n",
       "      <td>1.156</td>\n",
       "      <td>1.416</td>\n",
       "      <td>82.477</td>\n",
       "      <td>-0.798</td>\n",
       "      <td>-2.785</td>\n",
       "      <td>278.009</td>\n",
       "    </tr>\n",
       "  </tbody>\n",
       "</table>\n",
       "</div>"
      ],
      "text/plain": [
       "    EventId  DER_mass_MMC  ...  PRI_jet_subleading_phi  PRI_jet_all_pt\n",
       "0    100000       138.470  ...                  -2.475         113.497\n",
       "5    100005        89.744  ...                   3.106         193.660\n",
       "6    100006       148.754  ...                  -2.767         179.877\n",
       "11   100011       114.744  ...                  -2.079         165.640\n",
       "23   100023       141.481  ...                  -2.785         278.009\n",
       "\n",
       "[5 rows x 31 columns]"
      ]
     },
     "execution_count": 20,
     "metadata": {},
     "output_type": "execute_result"
    }
   ],
   "source": [
    "cleanHiggsData.head()"
   ]
  },
  {
   "cell_type": "code",
   "execution_count": 21,
   "metadata": {
    "id": "iznRKXa3tPkV"
   },
   "outputs": [],
   "source": [
    "X_train, X_test, y_train, y_test = train_test_split(cleanHiggsData, targets, test_size=0.2)"
   ]
  },
  {
   "cell_type": "code",
   "execution_count": 22,
   "metadata": {
    "colab": {
     "base_uri": "https://localhost:8080/"
    },
    "id": "35LH_11RtPoH",
    "outputId": "4c4deff5-fad0-4e8a-cc54-8d95c3e6dd0c"
   },
   "outputs": [
    {
     "data": {
      "text/plain": [
       "[['s', 1, 0.018636116672000002],\n",
       " ['b', 0, 2.43717654537],\n",
       " ['b', 0, 2.17914634632],\n",
       " ['b', 0, 1.14096561588],\n",
       " ['b', 0, 0.358539992008],\n",
       " ['s', 1, 0.0026533113373299996],\n",
       " ['b', 0, 1.4548484726800002],\n",
       " ['s', 1, 0.0015027048310099999],\n",
       " ['s', 1, 0.0015027048310099999],\n",
       " ['b', 0, 0.07389912981499999]]"
      ]
     },
     "execution_count": 22,
     "metadata": {},
     "output_type": "execute_result"
    }
   ],
   "source": [
    "y_train[0:10]"
   ]
  },
  {
   "cell_type": "code",
   "execution_count": 23,
   "metadata": {
    "id": "30euue53xdN6"
   },
   "outputs": [],
   "source": [
    "y_train_labels = [y_train[i][0] for i in range(len(y_train))]\n",
    "y_test_labels = [y_test[i][0] for i in range(len(y_test))]\n",
    "y_train_labelsNum = [y_train[i][1] for i in range(len(y_train))]\n",
    "y_test_labelsNum = [y_test[i][1] for i in range(len(y_test))]\n",
    "y_train_weights = [y_train[i][2] for i in range(len(y_train))]\n",
    "y_test_weights = [y_test[i][2] for i in range(len(y_test))]\n"
   ]
  },
  {
   "cell_type": "code",
   "execution_count": 24,
   "metadata": {
    "colab": {
     "base_uri": "https://localhost:8080/",
     "height": 443
    },
    "id": "cpjPbAfOtPqe",
    "outputId": "a4f92b09-de04-40d2-a17b-e78e1dc181a6"
   },
   "outputs": [
    {
     "data": {
      "text/html": [
       "<div>\n",
       "<style scoped>\n",
       "    .dataframe tbody tr th:only-of-type {\n",
       "        vertical-align: middle;\n",
       "    }\n",
       "\n",
       "    .dataframe tbody tr th {\n",
       "        vertical-align: top;\n",
       "    }\n",
       "\n",
       "    .dataframe thead th {\n",
       "        text-align: right;\n",
       "    }\n",
       "</style>\n",
       "<table border=\"1\" class=\"dataframe\">\n",
       "  <thead>\n",
       "    <tr style=\"text-align: right;\">\n",
       "      <th></th>\n",
       "      <th>EventId</th>\n",
       "      <th>DER_mass_MMC</th>\n",
       "      <th>DER_mass_transverse_met_lep</th>\n",
       "      <th>DER_mass_vis</th>\n",
       "      <th>DER_pt_h</th>\n",
       "      <th>DER_deltaeta_jet_jet</th>\n",
       "      <th>DER_mass_jet_jet</th>\n",
       "      <th>DER_prodeta_jet_jet</th>\n",
       "      <th>DER_deltar_tau_lep</th>\n",
       "      <th>DER_pt_tot</th>\n",
       "      <th>DER_sum_pt</th>\n",
       "      <th>DER_pt_ratio_lep_tau</th>\n",
       "      <th>DER_met_phi_centrality</th>\n",
       "      <th>DER_lep_eta_centrality</th>\n",
       "      <th>PRI_tau_pt</th>\n",
       "      <th>PRI_tau_eta</th>\n",
       "      <th>PRI_tau_phi</th>\n",
       "      <th>PRI_lep_pt</th>\n",
       "      <th>PRI_lep_eta</th>\n",
       "      <th>PRI_lep_phi</th>\n",
       "      <th>PRI_met</th>\n",
       "      <th>PRI_met_phi</th>\n",
       "      <th>PRI_met_sumet</th>\n",
       "      <th>PRI_jet_num</th>\n",
       "      <th>PRI_jet_leading_pt</th>\n",
       "      <th>PRI_jet_leading_eta</th>\n",
       "      <th>PRI_jet_leading_phi</th>\n",
       "      <th>PRI_jet_subleading_pt</th>\n",
       "      <th>PRI_jet_subleading_eta</th>\n",
       "      <th>PRI_jet_subleading_phi</th>\n",
       "      <th>PRI_jet_all_pt</th>\n",
       "    </tr>\n",
       "  </thead>\n",
       "  <tbody>\n",
       "    <tr>\n",
       "      <th>6128</th>\n",
       "      <td>106128</td>\n",
       "      <td>141.110</td>\n",
       "      <td>16.748</td>\n",
       "      <td>103.598</td>\n",
       "      <td>114.998</td>\n",
       "      <td>2.207</td>\n",
       "      <td>328.072</td>\n",
       "      <td>-0.216</td>\n",
       "      <td>1.973</td>\n",
       "      <td>3.725</td>\n",
       "      <td>313.343</td>\n",
       "      <td>0.641</td>\n",
       "      <td>0.070</td>\n",
       "      <td>0.175</td>\n",
       "      <td>56.071</td>\n",
       "      <td>0.486</td>\n",
       "      <td>-1.121</td>\n",
       "      <td>35.915</td>\n",
       "      <td>2.458</td>\n",
       "      <td>-1.063</td>\n",
       "      <td>25.766</td>\n",
       "      <td>-1.621</td>\n",
       "      <td>356.732</td>\n",
       "      <td>2</td>\n",
       "      <td>159.724</td>\n",
       "      <td>-0.103</td>\n",
       "      <td>2.281</td>\n",
       "      <td>61.633</td>\n",
       "      <td>2.104</td>\n",
       "      <td>-0.238</td>\n",
       "      <td>221.357</td>\n",
       "    </tr>\n",
       "    <tr>\n",
       "      <th>149150</th>\n",
       "      <td>249150</td>\n",
       "      <td>142.787</td>\n",
       "      <td>68.811</td>\n",
       "      <td>91.342</td>\n",
       "      <td>41.463</td>\n",
       "      <td>0.061</td>\n",
       "      <td>126.601</td>\n",
       "      <td>5.578</td>\n",
       "      <td>3.027</td>\n",
       "      <td>49.293</td>\n",
       "      <td>194.812</td>\n",
       "      <td>1.365</td>\n",
       "      <td>0.824</td>\n",
       "      <td>0.000</td>\n",
       "      <td>27.579</td>\n",
       "      <td>-2.201</td>\n",
       "      <td>-0.672</td>\n",
       "      <td>37.648</td>\n",
       "      <td>-0.342</td>\n",
       "      <td>1.716</td>\n",
       "      <td>35.049</td>\n",
       "      <td>-0.772</td>\n",
       "      <td>305.034</td>\n",
       "      <td>2</td>\n",
       "      <td>75.627</td>\n",
       "      <td>2.393</td>\n",
       "      <td>2.300</td>\n",
       "      <td>53.957</td>\n",
       "      <td>2.332</td>\n",
       "      <td>-0.437</td>\n",
       "      <td>129.584</td>\n",
       "    </tr>\n",
       "    <tr>\n",
       "      <th>179156</th>\n",
       "      <td>279156</td>\n",
       "      <td>91.637</td>\n",
       "      <td>42.433</td>\n",
       "      <td>66.859</td>\n",
       "      <td>48.598</td>\n",
       "      <td>2.656</td>\n",
       "      <td>232.681</td>\n",
       "      <td>-0.667</td>\n",
       "      <td>2.445</td>\n",
       "      <td>43.584</td>\n",
       "      <td>230.554</td>\n",
       "      <td>2.165</td>\n",
       "      <td>1.405</td>\n",
       "      <td>0.409</td>\n",
       "      <td>23.994</td>\n",
       "      <td>0.052</td>\n",
       "      <td>1.438</td>\n",
       "      <td>51.941</td>\n",
       "      <td>-0.209</td>\n",
       "      <td>-0.993</td>\n",
       "      <td>18.345</td>\n",
       "      <td>0.522</td>\n",
       "      <td>265.124</td>\n",
       "      <td>3</td>\n",
       "      <td>83.305</td>\n",
       "      <td>2.376</td>\n",
       "      <td>2.320</td>\n",
       "      <td>39.988</td>\n",
       "      <td>-0.281</td>\n",
       "      <td>-0.420</td>\n",
       "      <td>154.619</td>\n",
       "    </tr>\n",
       "    <tr>\n",
       "      <th>62428</th>\n",
       "      <td>162428</td>\n",
       "      <td>127.279</td>\n",
       "      <td>99.900</td>\n",
       "      <td>97.491</td>\n",
       "      <td>57.838</td>\n",
       "      <td>3.992</td>\n",
       "      <td>349.723</td>\n",
       "      <td>-3.943</td>\n",
       "      <td>2.657</td>\n",
       "      <td>6.776</td>\n",
       "      <td>212.123</td>\n",
       "      <td>3.607</td>\n",
       "      <td>1.217</td>\n",
       "      <td>0.956</td>\n",
       "      <td>25.401</td>\n",
       "      <td>0.828</td>\n",
       "      <td>1.354</td>\n",
       "      <td>91.627</td>\n",
       "      <td>0.219</td>\n",
       "      <td>-2.342</td>\n",
       "      <td>31.161</td>\n",
       "      <td>1.525</td>\n",
       "      <td>311.950</td>\n",
       "      <td>2</td>\n",
       "      <td>54.184</td>\n",
       "      <td>1.791</td>\n",
       "      <td>-0.613</td>\n",
       "      <td>40.912</td>\n",
       "      <td>-2.201</td>\n",
       "      <td>1.425</td>\n",
       "      <td>95.096</td>\n",
       "    </tr>\n",
       "    <tr>\n",
       "      <th>222130</th>\n",
       "      <td>322130</td>\n",
       "      <td>90.006</td>\n",
       "      <td>74.164</td>\n",
       "      <td>66.024</td>\n",
       "      <td>121.262</td>\n",
       "      <td>2.327</td>\n",
       "      <td>224.693</td>\n",
       "      <td>3.247</td>\n",
       "      <td>1.284</td>\n",
       "      <td>22.316</td>\n",
       "      <td>252.843</td>\n",
       "      <td>2.062</td>\n",
       "      <td>0.584</td>\n",
       "      <td>0.804</td>\n",
       "      <td>36.873</td>\n",
       "      <td>-2.283</td>\n",
       "      <td>-0.850</td>\n",
       "      <td>76.040</td>\n",
       "      <td>-1.602</td>\n",
       "      <td>-1.938</td>\n",
       "      <td>40.136</td>\n",
       "      <td>-0.467</td>\n",
       "      <td>215.534</td>\n",
       "      <td>2</td>\n",
       "      <td>79.861</td>\n",
       "      <td>-0.981</td>\n",
       "      <td>1.118</td>\n",
       "      <td>60.068</td>\n",
       "      <td>-3.308</td>\n",
       "      <td>2.654</td>\n",
       "      <td>139.929</td>\n",
       "    </tr>\n",
       "    <tr>\n",
       "      <th>...</th>\n",
       "      <td>...</td>\n",
       "      <td>...</td>\n",
       "      <td>...</td>\n",
       "      <td>...</td>\n",
       "      <td>...</td>\n",
       "      <td>...</td>\n",
       "      <td>...</td>\n",
       "      <td>...</td>\n",
       "      <td>...</td>\n",
       "      <td>...</td>\n",
       "      <td>...</td>\n",
       "      <td>...</td>\n",
       "      <td>...</td>\n",
       "      <td>...</td>\n",
       "      <td>...</td>\n",
       "      <td>...</td>\n",
       "      <td>...</td>\n",
       "      <td>...</td>\n",
       "      <td>...</td>\n",
       "      <td>...</td>\n",
       "      <td>...</td>\n",
       "      <td>...</td>\n",
       "      <td>...</td>\n",
       "      <td>...</td>\n",
       "      <td>...</td>\n",
       "      <td>...</td>\n",
       "      <td>...</td>\n",
       "      <td>...</td>\n",
       "      <td>...</td>\n",
       "      <td>...</td>\n",
       "      <td>...</td>\n",
       "    </tr>\n",
       "    <tr>\n",
       "      <th>234795</th>\n",
       "      <td>334795</td>\n",
       "      <td>98.172</td>\n",
       "      <td>18.140</td>\n",
       "      <td>38.160</td>\n",
       "      <td>417.861</td>\n",
       "      <td>2.753</td>\n",
       "      <td>647.068</td>\n",
       "      <td>-0.026</td>\n",
       "      <td>0.484</td>\n",
       "      <td>79.227</td>\n",
       "      <td>670.504</td>\n",
       "      <td>0.373</td>\n",
       "      <td>1.389</td>\n",
       "      <td>0.160</td>\n",
       "      <td>129.709</td>\n",
       "      <td>0.747</td>\n",
       "      <td>-1.733</td>\n",
       "      <td>48.346</td>\n",
       "      <td>0.497</td>\n",
       "      <td>-1.319</td>\n",
       "      <td>243.747</td>\n",
       "      <td>-1.486</td>\n",
       "      <td>740.566</td>\n",
       "      <td>3</td>\n",
       "      <td>335.717</td>\n",
       "      <td>0.009</td>\n",
       "      <td>1.747</td>\n",
       "      <td>78.535</td>\n",
       "      <td>-2.744</td>\n",
       "      <td>0.179</td>\n",
       "      <td>492.450</td>\n",
       "    </tr>\n",
       "    <tr>\n",
       "      <th>141046</th>\n",
       "      <td>241046</td>\n",
       "      <td>61.394</td>\n",
       "      <td>9.453</td>\n",
       "      <td>36.251</td>\n",
       "      <td>187.996</td>\n",
       "      <td>0.636</td>\n",
       "      <td>76.581</td>\n",
       "      <td>3.255</td>\n",
       "      <td>0.833</td>\n",
       "      <td>69.292</td>\n",
       "      <td>354.415</td>\n",
       "      <td>2.901</td>\n",
       "      <td>1.194</td>\n",
       "      <td>0.000</td>\n",
       "      <td>25.680</td>\n",
       "      <td>1.181</td>\n",
       "      <td>0.261</td>\n",
       "      <td>74.491</td>\n",
       "      <td>0.661</td>\n",
       "      <td>0.912</td>\n",
       "      <td>91.868</td>\n",
       "      <td>0.798</td>\n",
       "      <td>455.353</td>\n",
       "      <td>2</td>\n",
       "      <td>204.992</td>\n",
       "      <td>1.514</td>\n",
       "      <td>-2.310</td>\n",
       "      <td>49.251</td>\n",
       "      <td>2.150</td>\n",
       "      <td>-1.988</td>\n",
       "      <td>254.244</td>\n",
       "    </tr>\n",
       "    <tr>\n",
       "      <th>247768</th>\n",
       "      <td>347768</td>\n",
       "      <td>119.964</td>\n",
       "      <td>8.116</td>\n",
       "      <td>65.624</td>\n",
       "      <td>174.140</td>\n",
       "      <td>1.777</td>\n",
       "      <td>194.328</td>\n",
       "      <td>0.595</td>\n",
       "      <td>1.425</td>\n",
       "      <td>1.179</td>\n",
       "      <td>279.511</td>\n",
       "      <td>1.285</td>\n",
       "      <td>1.185</td>\n",
       "      <td>0.927</td>\n",
       "      <td>38.942</td>\n",
       "      <td>-2.159</td>\n",
       "      <td>0.579</td>\n",
       "      <td>50.054</td>\n",
       "      <td>-0.931</td>\n",
       "      <td>-0.145</td>\n",
       "      <td>91.651</td>\n",
       "      <td>-0.025</td>\n",
       "      <td>260.529</td>\n",
       "      <td>2</td>\n",
       "      <td>132.504</td>\n",
       "      <td>-0.288</td>\n",
       "      <td>2.936</td>\n",
       "      <td>58.012</td>\n",
       "      <td>-2.065</td>\n",
       "      <td>-2.434</td>\n",
       "      <td>190.516</td>\n",
       "    </tr>\n",
       "    <tr>\n",
       "      <th>123379</th>\n",
       "      <td>223379</td>\n",
       "      <td>101.467</td>\n",
       "      <td>26.225</td>\n",
       "      <td>42.025</td>\n",
       "      <td>185.003</td>\n",
       "      <td>5.233</td>\n",
       "      <td>1206.303</td>\n",
       "      <td>-6.740</td>\n",
       "      <td>1.157</td>\n",
       "      <td>0.609</td>\n",
       "      <td>264.210</td>\n",
       "      <td>0.751</td>\n",
       "      <td>1.376</td>\n",
       "      <td>0.898</td>\n",
       "      <td>44.126</td>\n",
       "      <td>0.766</td>\n",
       "      <td>1.118</td>\n",
       "      <td>33.125</td>\n",
       "      <td>0.534</td>\n",
       "      <td>2.251</td>\n",
       "      <td>120.768</td>\n",
       "      <td>1.833</td>\n",
       "      <td>262.615</td>\n",
       "      <td>2</td>\n",
       "      <td>123.369</td>\n",
       "      <td>-2.941</td>\n",
       "      <td>-1.490</td>\n",
       "      <td>63.589</td>\n",
       "      <td>2.291</td>\n",
       "      <td>-1.210</td>\n",
       "      <td>186.958</td>\n",
       "    </tr>\n",
       "    <tr>\n",
       "      <th>17965</th>\n",
       "      <td>117965</td>\n",
       "      <td>134.899</td>\n",
       "      <td>4.305</td>\n",
       "      <td>93.243</td>\n",
       "      <td>65.199</td>\n",
       "      <td>3.696</td>\n",
       "      <td>250.904</td>\n",
       "      <td>-3.081</td>\n",
       "      <td>2.403</td>\n",
       "      <td>2.949</td>\n",
       "      <td>177.627</td>\n",
       "      <td>1.326</td>\n",
       "      <td>0.837</td>\n",
       "      <td>0.824</td>\n",
       "      <td>41.676</td>\n",
       "      <td>-0.399</td>\n",
       "      <td>0.900</td>\n",
       "      <td>55.259</td>\n",
       "      <td>0.235</td>\n",
       "      <td>-1.418</td>\n",
       "      <td>32.449</td>\n",
       "      <td>-1.520</td>\n",
       "      <td>202.989</td>\n",
       "      <td>2</td>\n",
       "      <td>47.809</td>\n",
       "      <td>-2.427</td>\n",
       "      <td>1.655</td>\n",
       "      <td>32.882</td>\n",
       "      <td>1.270</td>\n",
       "      <td>3.024</td>\n",
       "      <td>80.692</td>\n",
       "    </tr>\n",
       "  </tbody>\n",
       "</table>\n",
       "<p>54491 rows × 31 columns</p>\n",
       "</div>"
      ],
      "text/plain": [
       "        EventId  DER_mass_MMC  ...  PRI_jet_subleading_phi  PRI_jet_all_pt\n",
       "6128     106128       141.110  ...                  -0.238         221.357\n",
       "149150   249150       142.787  ...                  -0.437         129.584\n",
       "179156   279156        91.637  ...                  -0.420         154.619\n",
       "62428    162428       127.279  ...                   1.425          95.096\n",
       "222130   322130        90.006  ...                   2.654         139.929\n",
       "...         ...           ...  ...                     ...             ...\n",
       "234795   334795        98.172  ...                   0.179         492.450\n",
       "141046   241046        61.394  ...                  -1.988         254.244\n",
       "247768   347768       119.964  ...                  -2.434         190.516\n",
       "123379   223379       101.467  ...                  -1.210         186.958\n",
       "17965    117965       134.899  ...                   3.024          80.692\n",
       "\n",
       "[54491 rows x 31 columns]"
      ]
     },
     "execution_count": 24,
     "metadata": {},
     "output_type": "execute_result"
    }
   ],
   "source": [
    "X_train"
   ]
  },
  {
   "cell_type": "code",
   "execution_count": 25,
   "metadata": {
    "colab": {
     "base_uri": "https://localhost:8080/"
    },
    "id": "O8eUWMdVx983",
    "outputId": "651a5493-f771-4a16-927d-cb7e6e55b645"
   },
   "outputs": [
    {
     "data": {
      "text/plain": [
       "['s', 'b', 'b', 'b', 'b', 's', 'b', 's', 's', 'b']"
      ]
     },
     "execution_count": 25,
     "metadata": {},
     "output_type": "execute_result"
    }
   ],
   "source": [
    "y_train_labels[0:10]"
   ]
  },
  {
   "cell_type": "code",
   "execution_count": 26,
   "metadata": {
    "colab": {
     "base_uri": "https://localhost:8080/"
    },
    "id": "Tv1otxd5yB-X",
    "outputId": "0c59774c-fa33-44e8-9dc3-02f9f526d2c1"
   },
   "outputs": [
    {
     "data": {
      "text/plain": [
       "numpy.int64"
      ]
     },
     "execution_count": 26,
     "metadata": {},
     "output_type": "execute_result"
    }
   ],
   "source": [
    "type(y_train_labelsNum[0])"
   ]
  },
  {
   "cell_type": "markdown",
   "metadata": {
    "id": "sLK2qoS_oW_j"
   },
   "source": [
    "- Use a Random Forest and a Gradiend Boosted Tree Classifier model to predict the label of the particles. get the score of the model on the training and test set and comment on the result for each model.\n"
   ]
  },
  {
   "cell_type": "code",
   "execution_count": 27,
   "metadata": {
    "colab": {
     "base_uri": "https://localhost:8080/"
    },
    "id": "Htf_qENzNNcV",
    "outputId": "ee64d736-19f5-4a6d-cd8b-1d6a224c81ba"
   },
   "outputs": [
    {
     "name": "stdout",
     "output_type": "stream",
     "text": [
      "Parameters currently in use:\n",
      "\n",
      "{'bootstrap': True, 'ccp_alpha': 0.0, 'class_weight': None, 'criterion': 'gini', 'max_depth': 4, 'max_features': 'auto', 'max_leaf_nodes': None, 'max_samples': None, 'min_impurity_decrease': 0.0, 'min_samples_leaf': 1, 'min_samples_split': 2, 'min_weight_fraction_leaf': 0.0, 'n_estimators': 100, 'n_jobs': None, 'oob_score': False, 'random_state': 555, 'verbose': 0, 'warm_start': False}\n"
     ]
    }
   ],
   "source": [
    "# Look at parameters used by our current forest\n",
    "rf = RandomForestClassifier(random_state = 555, max_depth=4)\n",
    "print('Parameters currently in use:\\n')\n",
    "print(rf.get_params())"
   ]
  },
  {
   "cell_type": "code",
   "execution_count": 28,
   "metadata": {
    "id": "2eNZHaTYy89c"
   },
   "outputs": [],
   "source": [
    "gbt = GradientBoostingClassifier(random_state=555, max_depth=4)"
   ]
  },
  {
   "cell_type": "code",
   "execution_count": 29,
   "metadata": {
    "colab": {
     "base_uri": "https://localhost:8080/"
    },
    "id": "f4Mub5WOzDYU",
    "outputId": "39cdfa46-0488-4147-b57f-c2ed0340b664"
   },
   "outputs": [
    {
     "data": {
      "text/plain": [
       "GradientBoostingClassifier(max_depth=4, random_state=555)"
      ]
     },
     "execution_count": 29,
     "metadata": {},
     "output_type": "execute_result"
    }
   ],
   "source": [
    "rf.fit(X_train, y_train_labelsNum)\n",
    "gbt.fit(X_train, y_train_labelsNum)"
   ]
  },
  {
   "cell_type": "markdown",
   "metadata": {
    "id": "3C_3_nhoPhQY"
   },
   "source": [
    "calculate the  scores for the training and test sets and evaluate  overtraining etc"
   ]
  },
  {
   "cell_type": "code",
   "execution_count": 30,
   "metadata": {
    "colab": {
     "base_uri": "https://localhost:8080/"
    },
    "id": "yz3A54YTqXw1",
    "outputId": "d7a84664-082d-439d-c289-f9582224e3c2"
   },
   "outputs": [
    {
     "name": "stdout",
     "output_type": "stream",
     "text": [
      "Training Scores\n",
      "Random Forest:  0.81 \n",
      "Gradient boost:  0.855\n"
     ]
    }
   ],
   "source": [
    "print(\"Training Scores\\nRandom Forest: \",round(rf.score(X_train, y_train_labelsNum),3),\"\\nGradient boost: \", round(gbt.score(X_train, y_train_labelsNum),3))"
   ]
  },
  {
   "cell_type": "code",
   "execution_count": 31,
   "metadata": {
    "colab": {
     "base_uri": "https://localhost:8080/"
    },
    "id": "BKHKuKkd2f1H",
    "outputId": "c000ec3c-2333-48d3-ddd9-bdefd822ab5f"
   },
   "outputs": [
    {
     "name": "stdout",
     "output_type": "stream",
     "text": [
      "Testing Scores\n",
      "Random Forest:  0.81 \n",
      "Gradient boost:  0.85\n"
     ]
    }
   ],
   "source": [
    "print(\"Testing Scores\\nRandom Forest: \", round(rf.score(X_test, y_test_labelsNum),3),\"\\nGradient boost: \", round(gbt.score(X_test, y_test_labelsNum),3))"
   ]
  },
  {
   "cell_type": "markdown",
   "metadata": {
    "id": "6aiULt4TP8kn"
   },
   "source": [
    "- Produce a confusion matrix for each model and compare them\n",
    "\n",
    "\n",
    " \n",
    "\n"
   ]
  },
  {
   "cell_type": "code",
   "execution_count": 32,
   "metadata": {
    "id": "r1TNq44V7afY"
   },
   "outputs": [],
   "source": [
    "rfPredictions = rf.predict(X_test);\n",
    "gbtPredictions = gbt.predict(X_test);"
   ]
  },
  {
   "cell_type": "code",
   "execution_count": 33,
   "metadata": {
    "id": "ak3gnF6duviH"
   },
   "outputs": [],
   "source": [
    "# I creaded this function (mostly copied from sklearn examples). \n",
    "# You can use it to create the confusion matrix\n",
    "from mpl_toolkits.axes_grid1.axes_divider import make_axes_locatable\n",
    "from sklearn.metrics import confusion_matrix\n",
    "def plot_confusion_matrix(y_true, y_pred,\n",
    "                          normalize=False,\n",
    "                          title='',\n",
    "                          cmap=pl.cm.bone):\n",
    "    \"\"\"\n",
    "    This function prints and plots the confusion matrix.\n",
    "    Normalization can be applied by setting `normalize=True`.\n",
    "    \"\"\"         \n",
    "    if normalize:\n",
    "          title = title + ' Normalized confusion matrix'\n",
    "    else:\n",
    "          title = title + ' Confusion matrix, without normalization'\n",
    "\n",
    "    # Compute confusion matrix\n",
    "    cm = confusion_matrix(y_true, y_pred)\n",
    "    # plot it\n",
    "    fig, ax = plt.subplots(1, 1)\n",
    "    fig.subplots_adjust()\n",
    "    im = ax.imshow(cm, cmap=cmap)\n",
    "    ax_divider = make_axes_locatable(ax)\n",
    "    # add an axes to the right of the main axes.\n",
    "    pl.xticks([0, 1], labels=[\"N\", \"P\"])\n",
    "    pl.ylim(-0.5,1.5)\n",
    "    pl.yticks([0,1], labels=[\"N\", \"P\"])    \n",
    "    pl.title(title)\n",
    "    cax = ax_divider.append_axes(\"right\", size=\"10%\", pad=\"2%\")\n",
    "    cb = colorbar(im, cax=cax)\n",
    "    "
   ]
  },
  {
   "cell_type": "code",
   "execution_count": 34,
   "metadata": {
    "colab": {
     "base_uri": "https://localhost:8080/",
     "height": 281
    },
    "id": "rg8IWVUN7oHw",
    "outputId": "35e9e988-a0fa-429f-c3a3-f1debcebda56"
   },
   "outputs": [
    {
     "data": {
      "image/png": "[encoded data removed]",
      "text/plain": [
       "<Figure size 432x288 with 2 Axes>"
      ]
     },
     "metadata": {
      "needs_background": "light"
     },
     "output_type": "display_data"
    }
   ],
   "source": [
    "plot_confusion_matrix(y_test_labelsNum, rfPredictions, title=\"Random Forest\")"
   ]
  },
  {
   "cell_type": "markdown",
   "metadata": {
    "id": "3ROXB772n7In"
   },
   "source": [
    "# Figure 1. \n",
    "Confusion Matrix for Random Forest. This method is very effective at limiting the amount of false negative and false positives. There are more True Negatives than True Positives."
   ]
  },
  {
   "cell_type": "code",
   "execution_count": 35,
   "metadata": {
    "colab": {
     "base_uri": "https://localhost:8080/",
     "height": 281
    },
    "id": "uFIFsII69Bg-",
    "outputId": "8884ab4f-2bad-4a5b-ec74-5dd73f8c4f67"
   },
   "outputs": [
    {
     "data": {
      "image/png": "[encoded data removed]",
      "text/plain": [
       "<Figure size 432x288 with 2 Axes>"
      ]
     },
     "metadata": {
      "needs_background": "light"
     },
     "output_type": "display_data"
    }
   ],
   "source": [
    "plot_confusion_matrix(y_test_labelsNum, gbtPredictions, title=\"Gradient Boosted\")"
   ]
  },
  {
   "cell_type": "markdown",
   "metadata": {
    "id": "nrB01OW6oV1_"
   },
   "source": [
    "# Figure 2.\n",
    "Confusion Matrix for Gradient Boosted Trees. Again our False Negatives and False Positives are minimized. The True Negatives are our largest portion, followed by the True Positives."
   ]
  },
  {
   "cell_type": "markdown",
   "metadata": {
    "id": "TbZQ3kMSQFK6"
   },
   "source": [
    "\n",
    "- Use a Random Forest and a Gradiend Boosted Tree Regressor model to predict the weight of the particles. Compare the model performance on training and test setsm\n"
   ]
  },
  {
   "cell_type": "markdown",
   "metadata": {
    "id": "WyCCMSmx8WxX"
   },
   "source": [
    "This next cell takes about 10 minutes to run. I apologize in advance.\n",
    "\n",
    "For the full search of what I intended to do, uncomment the list treeDepths = [1,2,3,4,5,6,7,8,9,10]"
   ]
  },
  {
   "cell_type": "code",
   "execution_count": 36,
   "metadata": {
    "colab": {
     "base_uri": "https://localhost:8080/"
    },
    "id": "UkanVFfO3HBe",
    "outputId": "586ceb2d-1a58-411d-fab5-20ca796fd48a"
   },
   "outputs": [
    {
     "name": "stdout",
     "output_type": "stream",
     "text": [
      "Max Depth trees:  2\n",
      "CPU times: user 26.4 s, sys: 40.9 ms, total: 26.4 s\n",
      "Wall time: 26.3 s\n",
      "CPU times: user 41.6 s, sys: 56.9 ms, total: 41.7 s\n",
      "Wall time: 41.4 s\n",
      "Max Depth trees:  3\n",
      "CPU times: user 39.1 s, sys: 63 ms, total: 39.2 s\n",
      "Wall time: 38.9 s\n",
      "CPU times: user 1min 2s, sys: 63.9 ms, total: 1min 2s\n",
      "Wall time: 1min 1s\n",
      "Max Depth trees:  4\n",
      "CPU times: user 52 s, sys: 67.1 ms, total: 52.1 s\n",
      "Wall time: 51.9 s\n",
      "CPU times: user 1min 22s, sys: 85 ms, total: 1min 22s\n",
      "Wall time: 1min 22s\n"
     ]
    }
   ],
   "source": [
    "#Go through a max depth from 1 to 10 and generate a random forest tree\n",
    "#and a gradient boost tree.\n",
    "#Change treeDepths to a smaller list if you want to run quicker\n",
    "\n",
    "treeDepths = [2,3,4]\n",
    "#treeDepths = [1,2,3,4,5,6,7,8,9,10]\n",
    "\n",
    "rfRList = []\n",
    "gbtRList = []\n",
    "\n",
    "for i in range(len(treeDepths)):\n",
    "  rfRList.append(RandomForestRegressor(n_estimators=100, max_depth=treeDepths[i], random_state=555))\n",
    "  gbtRList.append(GradientBoostingRegressor(max_depth=treeDepths[i], random_state=555))\n",
    "\n",
    "for i in range(len(treeDepths)):\n",
    "  print(\"Max Depth trees: \", treeDepths[i])\n",
    "  %time rfRList[i].fit(X_train, y_train_weights)\n",
    "  %time gbtRList[i].fit(X_train, y_train_weights);"
   ]
  },
  {
   "cell_type": "code",
   "execution_count": 37,
   "metadata": {
    "colab": {
     "base_uri": "https://localhost:8080/"
    },
    "id": "MqpNdBRbQ-zN",
    "outputId": "dcb286b5-39e8-4c87-add8-2dc6f18d19fc"
   },
   "outputs": [
    {
     "name": "stdout",
     "output_type": "stream",
     "text": [
      "Training Scores\n",
      "max_depth= 2 \n",
      "Random Forest Regressor:  0.237 \n",
      "Gradient Boost Regressor:  0.421\n",
      "----------------------\n",
      "max_depth= 3 \n",
      "Random Forest Regressor:  0.291 \n",
      "Gradient Boost Regressor:  0.463\n",
      "----------------------\n",
      "max_depth= 4 \n",
      "Random Forest Regressor:  0.345 \n",
      "Gradient Boost Regressor:  0.5\n",
      "----------------------\n"
     ]
    }
   ],
   "source": [
    "print(\"Training Scores\")\n",
    "for i in range(len(treeDepths)):\n",
    "  print(\"max_depth=\", treeDepths[i], \"\\nRandom Forest Regressor: \",round(rfRList[i].score(X_train, y_train_weights),3),\"\\nGradient Boost Regressor: \", round(gbtRList[i].score(X_train, y_train_weights),3))\n",
    "  print(\"----------------------\")"
   ]
  },
  {
   "cell_type": "code",
   "execution_count": 38,
   "metadata": {
    "colab": {
     "base_uri": "https://localhost:8080/"
    },
    "id": "N5gsvK3FRs1D",
    "outputId": "6224626c-e060-4911-ea95-83cb0f7e983b"
   },
   "outputs": [
    {
     "name": "stdout",
     "output_type": "stream",
     "text": [
      "Testing Scores\n",
      "max_depth= 2 \n",
      "Random Forest Regressor:  0.244 \n",
      "Gradient Boost Regressor:  0.434\n",
      "----------------------\n",
      "max_depth= 3 \n",
      "Random Forest Regressor:  0.3 \n",
      "Gradient Boost Regressor:  0.46\n",
      "----------------------\n",
      "max_depth= 4 \n",
      "Random Forest Regressor:  0.35 \n",
      "Gradient Boost Regressor:  0.469\n",
      "----------------------\n"
     ]
    }
   ],
   "source": [
    "print(\"Testing Scores\")\n",
    "for i in range(len(treeDepths)):\n",
    "  print(\"max_depth=\", treeDepths[i], \"\\nRandom Forest Regressor: \",round(rfRList[i].score(X_test, y_test_weights),3),\"\\nGradient Boost Regressor: \", round(gbtRList[i].score(X_test, y_test_weights),3))\n",
    "  print(\"----------------------\")"
   ]
  },
  {
   "cell_type": "markdown",
   "metadata": {
    "id": "CKvyqcFr3Z3d"
   },
   "source": [
    " Calculate the L2 and L1 loss functions for the fitted regression models (see slides for the definition) and discuss the results"
   ]
  },
  {
   "cell_type": "code",
   "execution_count": 39,
   "metadata": {
    "id": "YpQloPQYYHyU"
   },
   "outputs": [],
   "source": [
    "def L1( x, y, func):\n",
    "    return np.sum(abs(func.predict(x) - y))\n",
    "\n",
    "def L2(x, y, func):\n",
    "  return np.sum((func.predict(x) - y)**2)"
   ]
  },
  {
   "cell_type": "code",
   "execution_count": 40,
   "metadata": {
    "colab": {
     "base_uri": "https://localhost:8080/"
    },
    "id": "CAMTAgRTIeHq",
    "outputId": "5d98a119-3b19-4e49-f8c7-8014bbd365ae"
   },
   "outputs": [
    {
     "name": "stdout",
     "output_type": "stream",
     "text": [
      "L2 Loss function\n",
      "Random Forest\tGradient Boost\n",
      "max_depth= 2\n",
      "5910.238 \t 4422.107\n",
      "-----------------------------------\n",
      "max_depth= 3\n",
      "5475.431 \t 4221.03\n",
      "-----------------------------------\n",
      "max_depth= 4\n",
      "5083.841 \t 4154.365\n",
      "-----------------------------------\n"
     ]
    }
   ],
   "source": [
    "print(\"L2 Loss function\\nRandom Forest\\tGradient Boost\")\n",
    "for i in range(len(treeDepths)):\n",
    "  print(\"max_depth=\",treeDepths[i])\n",
    "  print(round(L2(X_test, y_test_weights, rfRList[i]),3),\"\\t\",round(L2(X_test, y_test_weights, gbtRList[i]),3))\n",
    "  print(\"-----------------------------------\")"
   ]
  },
  {
   "cell_type": "code",
   "execution_count": 41,
   "metadata": {
    "colab": {
     "base_uri": "https://localhost:8080/"
    },
    "id": "O9-lF0eJdHMy",
    "outputId": "90695d55-7a45-4953-f6c9-559fbc4d3733"
   },
   "outputs": [
    {
     "name": "stdout",
     "output_type": "stream",
     "text": [
      "L1 Loss function\n",
      "Random Forest\tGradient Boost\n",
      "max_depth= 2\n",
      "6105.346 \t 5040.35\n",
      "-----------------------------------\n",
      "max_depth= 3\n",
      "5749.034 \t 4805.188\n",
      "-----------------------------------\n",
      "max_depth= 4\n",
      "5423.977 \t 4663.518\n",
      "-----------------------------------\n"
     ]
    }
   ],
   "source": [
    "print(\"L1 Loss function\\nRandom Forest\\tGradient Boost\")\n",
    "for i in range(len(treeDepths)):\n",
    "  print(\"max_depth=\",treeDepths[i])\n",
    "  print(round(L1(X_test, y_test_weights, rfRList[i]),3),\"\\t\",round(L1(X_test, y_test_weights, gbtRList[i]),3))\n",
    "  print(\"-----------------------------------\")"
   ]
  },
  {
   "cell_type": "markdown",
   "metadata": {
    "id": "tBlhWwH3f7Os"
   },
   "source": [
    "# Discussion of L2 and L1 loss function\n",
    "The magnitude of the L2 and L1 functions are similar to each other meaning that their are not many outliers that are skewing the L2 function further away. Also the Gradient Boost Tree performs better than the random forest in all trials, L2 vs L1, and even when changing the max_depth. After a max_depth of about 3, the trees do not perfrom much better, as was seen in the performance scores above."
   ]
  },
  {
   "cell_type": "markdown",
   "metadata": {
    "id": "c38At7ayYd_5"
   },
   "source": [
    "- For the Random Forest classifier, find the 4 most important features based on the simple unoptimized model you created earlier on. Use the documentation to find out what they are. We have not talked abotu the physics of this problem at all but the Kaggle challenge description should provide enogh information for you to comment on this result is somewhat superficially.\n",
    "\n",
    "    You can use ```rf.feature_importance_``` on the trained model to extract the relative importance of each feature (a number from 0 to 1) and then choose the features that have the 4 highest numbers (the numpy function ```argsort()``` is helpful here!)\n",
    "\n",
    "- Explore the parameter space with the sklearn module ```sklearn.model_selection.RandomizedSearchCV``` *fitting only those 4 features*\n",
    "\n",
    "    Follow this example to set up the parameter search. Set the estimators to 10 and 100, (the number of trees) and the max depth to 3, and 10, and None (let it be unconstrained). Set bootstrap to both True and False. Set the number of features to consider at every split to both \"autp\" and \"sqrt\". Use ```pprint``` like I did earlier in this notebook to print the parameters set\n",
    "\n",
    "**this takes some computational time! so do not start this at the last minute!!**\n",
    "\n",
    " \n",
    "\n"
   ]
  },
  {
   "cell_type": "code",
   "execution_count": 42,
   "metadata": {
    "colab": {
     "base_uri": "https://localhost:8080/"
    },
    "id": "Za3h1f_rHHNo",
    "outputId": "2f414056-2829-4eae-d60d-8db3d9a21a54"
   },
   "outputs": [
    {
     "data": {
      "text/plain": [
       "(array([4.44838827e-05, 2.91947065e-01, 4.27658664e-02, 8.91507910e-02,\n",
       "        8.51186297e-03, 1.08493189e-01, 9.06373738e-02, 8.53162292e-02,\n",
       "        1.92409237e-02, 3.24629628e-02, 1.17295336e-03, 9.74638151e-03,\n",
       "        4.42391793e-02, 1.06139773e-01, 3.08328688e-02, 1.01751042e-03,\n",
       "        0.00000000e+00, 1.07236959e-03, 1.53505793e-03, 1.23056375e-05,\n",
       "        4.85531374e-03, 2.15014448e-06, 8.02576192e-04, 2.35197924e-02,\n",
       "        3.23239536e-04, 6.52482448e-04, 2.42072654e-05, 1.01532862e-03,\n",
       "        2.61011398e-03, 0.00000000e+00, 1.85564810e-03]),\n",
       " array([16, 29, 21, 19, 26,  0, 24, 25, 22, 27, 15, 17, 10, 18, 30, 28, 20,\n",
       "         4, 11,  8, 23, 14,  9,  2, 12,  7,  3,  6, 13,  5,  1]))"
      ]
     },
     "execution_count": 42,
     "metadata": {},
     "output_type": "execute_result"
    }
   ],
   "source": [
    "featuresNum = rf.feature_importances_\n",
    "featuresIdx = argsort(featuresNum)\n",
    "featuresNum, featuresIdx"
   ]
  },
  {
   "cell_type": "code",
   "execution_count": 43,
   "metadata": {
    "colab": {
     "base_uri": "https://localhost:8080/"
    },
    "id": "4tNGGULgIZ_M",
    "outputId": "ea12a549-51b6-4b70-e831-9db00cca6ee1"
   },
   "outputs": [
    {
     "name": "stdout",
     "output_type": "stream",
     "text": [
      "1 DER_mass_MMC  value:  0.29194706\n",
      "2 DER_deltaeta_jet_jet  value:  0.10849319\n",
      "3 DER_lep_eta_centrality  value:  0.10613977\n",
      "4 DER_mass_jet_jet  value:  0.09063737\n",
      "5 DER_mass_vis  value:  0.08915079\n",
      "6 DER_prodeta_jet_jet  value:  0.08531623\n",
      "7 DER_met_phi_centrality  value:  0.04423918\n",
      "8 DER_mass_transverse_met_lep  value:  0.04276587\n",
      "9 DER_pt_tot  value:  0.03246296\n",
      "10 PRI_tau_pt  value:  0.03083287\n",
      "11 PRI_jet_num  value:  0.02351979\n",
      "12 DER_deltar_tau_lep  value:  0.01924092\n",
      "13 DER_pt_ratio_lep_tau  value:  0.00974638\n",
      "14 DER_pt_h  value:  0.00851186\n",
      "15 PRI_met  value:  0.00485531\n",
      "16 PRI_jet_subleading_eta  value:  0.00261011\n",
      "17 PRI_jet_all_pt  value:  0.00185565\n",
      "18 PRI_lep_eta  value:  0.00153506\n",
      "19 DER_sum_pt  value:  0.00117295\n",
      "20 PRI_lep_pt  value:  0.00107237\n",
      "21 PRI_tau_eta  value:  0.00101751\n",
      "22 PRI_jet_subleading_pt  value:  0.00101533\n",
      "23 PRI_met_sumet  value:  0.00080258\n",
      "24 PRI_jet_leading_eta  value:  0.00065248\n",
      "25 PRI_jet_leading_pt  value:  0.00032324\n",
      "26 EventId  value:  4.448e-05\n",
      "27 PRI_jet_leading_phi  value:  2.421e-05\n",
      "28 PRI_lep_phi  value:  1.231e-05\n",
      "29 PRI_met_phi  value:  2.15e-06\n",
      "30 PRI_jet_subleading_phi  value:  0.0\n",
      "31 PRI_tau_phi  value:  0.0\n"
     ]
    }
   ],
   "source": [
    "for i in range(len(featuresNum)):\n",
    "  print(i+1, cleanHiggsData.columns[featuresIdx[::-1][i]], \" value: \", round(featuresNum[featuresIdx[::-1][i]],8))"
   ]
  },
  {
   "cell_type": "code",
   "execution_count": 44,
   "metadata": {
    "colab": {
     "base_uri": "https://localhost:8080/",
     "height": 423
    },
    "id": "L5YLP0YCj2ol",
    "outputId": "2c73591b-95ad-4d2e-f136-92fb93e8b227"
   },
   "outputs": [
    {
     "data": {
      "text/html": [
       "<div>\n",
       "<style scoped>\n",
       "    .dataframe tbody tr th:only-of-type {\n",
       "        vertical-align: middle;\n",
       "    }\n",
       "\n",
       "    .dataframe tbody tr th {\n",
       "        vertical-align: top;\n",
       "    }\n",
       "\n",
       "    .dataframe thead th {\n",
       "        text-align: right;\n",
       "    }\n",
       "</style>\n",
       "<table border=\"1\" class=\"dataframe\">\n",
       "  <thead>\n",
       "    <tr style=\"text-align: right;\">\n",
       "      <th></th>\n",
       "      <th>DER_mass_MMC</th>\n",
       "      <th>DER_deltaeta_jet_jet</th>\n",
       "      <th>DER_lep_eta_centrality</th>\n",
       "      <th>DER_mass_jet_jet</th>\n",
       "    </tr>\n",
       "  </thead>\n",
       "  <tbody>\n",
       "    <tr>\n",
       "      <th>0</th>\n",
       "      <td>138.470</td>\n",
       "      <td>0.910</td>\n",
       "      <td>0.200</td>\n",
       "      <td>124.711</td>\n",
       "    </tr>\n",
       "    <tr>\n",
       "      <th>5</th>\n",
       "      <td>89.744</td>\n",
       "      <td>2.636</td>\n",
       "      <td>0.975</td>\n",
       "      <td>284.584</td>\n",
       "    </tr>\n",
       "    <tr>\n",
       "      <th>6</th>\n",
       "      <td>148.754</td>\n",
       "      <td>0.733</td>\n",
       "      <td>0.791</td>\n",
       "      <td>158.359</td>\n",
       "    </tr>\n",
       "    <tr>\n",
       "      <th>11</th>\n",
       "      <td>114.744</td>\n",
       "      <td>2.563</td>\n",
       "      <td>0.769</td>\n",
       "      <td>252.599</td>\n",
       "    </tr>\n",
       "    <tr>\n",
       "      <th>23</th>\n",
       "      <td>141.481</td>\n",
       "      <td>1.955</td>\n",
       "      <td>0.207</td>\n",
       "      <td>364.344</td>\n",
       "    </tr>\n",
       "    <tr>\n",
       "      <th>...</th>\n",
       "      <td>...</td>\n",
       "      <td>...</td>\n",
       "      <td>...</td>\n",
       "      <td>...</td>\n",
       "    </tr>\n",
       "    <tr>\n",
       "      <th>249976</th>\n",
       "      <td>137.371</td>\n",
       "      <td>3.189</td>\n",
       "      <td>0.503</td>\n",
       "      <td>322.430</td>\n",
       "    </tr>\n",
       "    <tr>\n",
       "      <th>249980</th>\n",
       "      <td>119.934</td>\n",
       "      <td>0.660</td>\n",
       "      <td>0.000</td>\n",
       "      <td>111.491</td>\n",
       "    </tr>\n",
       "    <tr>\n",
       "      <th>249985</th>\n",
       "      <td>126.151</td>\n",
       "      <td>1.000</td>\n",
       "      <td>0.027</td>\n",
       "      <td>163.066</td>\n",
       "    </tr>\n",
       "    <tr>\n",
       "      <th>249993</th>\n",
       "      <td>130.075</td>\n",
       "      <td>0.936</td>\n",
       "      <td>0.000</td>\n",
       "      <td>322.296</td>\n",
       "    </tr>\n",
       "    <tr>\n",
       "      <th>249994</th>\n",
       "      <td>217.020</td>\n",
       "      <td>0.295</td>\n",
       "      <td>0.000</td>\n",
       "      <td>119.437</td>\n",
       "    </tr>\n",
       "  </tbody>\n",
       "</table>\n",
       "<p>68114 rows × 4 columns</p>\n",
       "</div>"
      ],
      "text/plain": [
       "        DER_mass_MMC  ...  DER_mass_jet_jet\n",
       "0            138.470  ...           124.711\n",
       "5             89.744  ...           284.584\n",
       "6            148.754  ...           158.359\n",
       "11           114.744  ...           252.599\n",
       "23           141.481  ...           364.344\n",
       "...              ...  ...               ...\n",
       "249976       137.371  ...           322.430\n",
       "249980       119.934  ...           111.491\n",
       "249985       126.151  ...           163.066\n",
       "249993       130.075  ...           322.296\n",
       "249994       217.020  ...           119.437\n",
       "\n",
       "[68114 rows x 4 columns]"
      ]
     },
     "execution_count": 44,
     "metadata": {},
     "output_type": "execute_result"
    }
   ],
   "source": [
    "importantHiggsData = cleanHiggsData.iloc[:,featuresIdx[::-1][0:4]]\n",
    "importantHiggsData"
   ]
  },
  {
   "cell_type": "markdown",
   "metadata": {
    "id": "OelYvhh6Es85"
   },
   "source": [
    "# Best Features\n",
    "1. DER_mass_MMC \n",
    "2. DER_deltaeta_jet_jet\n",
    "3. DER_lep_eta_centrality\n",
    "4. DER_mass_jet_jet\n",
    "\n",
    "These quantities are all of the \"derived\" quantities from the data set. The 4th, 5th, and 6th most important features were all very similar at 0.091 and 0.092."
   ]
  },
  {
   "cell_type": "markdown",
   "metadata": {
    "id": "SfdKk4Pk7tTz"
   },
   "source": [
    " mine and your best features do not necessarily have to be the same because our models may be different (different parameters, different random seed etc)"
   ]
  },
  {
   "cell_type": "markdown",
   "metadata": {
    "id": "aCXTl7EMRUee"
   },
   "source": [
    "# EC attempted Random Search, unsuccessfully completed"
   ]
  },
  {
   "cell_type": "code",
   "execution_count": 45,
   "metadata": {
    "colab": {
     "base_uri": "https://localhost:8080/"
    },
    "id": "t-QQqGlp5ty3",
    "outputId": "3160fb98-6916-4056-8b40-85fa32bd3754"
   },
   "outputs": [
    {
     "name": "stdout",
     "output_type": "stream",
     "text": [
      "{'max_depth': [3, 10, None], 'max_features': ['auto', 'sqrt'], 'n_estimators': [10, 100, 1000]}\n"
     ]
    }
   ],
   "source": [
    "random_grid = {'max_depth': [3,10,None], \n",
    "               'max_features' : ['auto', 'sqrt'], \n",
    "               'n_estimators' : [10, 100, 1000]}\n",
    "print(random_grid)"
   ]
  },
  {
   "cell_type": "code",
   "execution_count": 46,
   "metadata": {
    "id": "1AJ70oqZPvL_"
   },
   "outputs": [],
   "source": [
    "# Use the random grid to search for best hyperparameters\n",
    "# First create the base model to tune\n",
    "# Random search of parameters, using 3 fold cross validation, \n",
    "# search across 18 different combinations\n",
    "random_search = RandomizedSearchCV(estimator = rf, param_distributions=random_grid,\n",
    "                                   n_iter=1, cv=3, random_state=555)\n"
   ]
  },
  {
   "cell_type": "markdown",
   "metadata": {
    "id": "T3W60KM1Jb5r"
   },
   "source": [
    "Note that this may take a long time! It took 1 hour for me to run this. Dont start at the last minute!!"
   ]
  },
  {
   "cell_type": "code",
   "execution_count": 47,
   "metadata": {
    "colab": {
     "base_uri": "https://localhost:8080/"
    },
    "id": "nCzypqyrtsEg",
    "outputId": "27421f08-7761-4252-bfcb-1162deefecdb"
   },
   "outputs": [
    {
     "data": {
      "text/plain": [
       "RandomizedSearchCV(cv=3,\n",
       "                   estimator=RandomForestClassifier(max_depth=4,\n",
       "                                                    random_state=555),\n",
       "                   n_iter=1,\n",
       "                   param_distributions={'max_depth': [3, 10, None],\n",
       "                                        'max_features': ['auto', 'sqrt'],\n",
       "                                        'n_estimators': [10, 100, 1000]},\n",
       "                   random_state=555)"
      ]
     },
     "execution_count": 47,
     "metadata": {},
     "output_type": "execute_result"
    }
   ],
   "source": [
    "random_search.fit(cleanHiggsData,[row[0] for row in targets])"
   ]
  },
  {
   "cell_type": "code",
   "execution_count": 48,
   "metadata": {
    "colab": {
     "base_uri": "https://localhost:8080/"
    },
    "id": "4GfLrtvPBVT7",
    "outputId": "6bb39b13-ba34-4e4d-91dc-ecf1d538dc23"
   },
   "outputs": [
    {
     "name": "stdout",
     "output_type": "stream",
     "text": [
      "Tuned RF  Parameters: Ellipsis\n",
      "Best score is Ellipsis\n"
     ]
    }
   ],
   "source": [
    "print(\"Tuned RF  Parameters: {}\".format(...))\n",
    "print(\"Best score is {}\".format(...))"
   ]
  },
  {
   "cell_type": "code",
   "execution_count": 49,
   "metadata": {
    "colab": {
     "base_uri": "https://localhost:8080/"
    },
    "id": "Z6NBcCJdzjvV",
    "outputId": "a29b7700-eec9-48e7-9ae2-45a15b9c2558"
   },
   "outputs": [
    {
     "data": {
      "text/plain": [
       "RandomForestClassifier(max_depth=3, max_features='sqrt', n_estimators=10,\n",
       "                       random_state=555)"
      ]
     },
     "execution_count": 49,
     "metadata": {},
     "output_type": "execute_result"
    }
   ],
   "source": [
    "random_search.best_estimator_"
   ]
  },
  {
   "cell_type": "code",
   "execution_count": 50,
   "metadata": {
    "id": "WaHvlFa27EV4"
   },
   "outputs": [],
   "source": [
    "df = pd.DataFrame(random_search.cv_results_)\n"
   ]
  },
  {
   "cell_type": "code",
   "execution_count": 51,
   "metadata": {
    "colab": {
     "base_uri": "https://localhost:8080/",
     "height": 153
    },
    "id": "6pcXfIzb7eEw",
    "outputId": "1805305c-0c04-4ccf-c344-df5b84058b02"
   },
   "outputs": [
    {
     "data": {
      "text/html": [
       "<div>\n",
       "<style scoped>\n",
       "    .dataframe tbody tr th:only-of-type {\n",
       "        vertical-align: middle;\n",
       "    }\n",
       "\n",
       "    .dataframe tbody tr th {\n",
       "        vertical-align: top;\n",
       "    }\n",
       "\n",
       "    .dataframe thead th {\n",
       "        text-align: right;\n",
       "    }\n",
       "</style>\n",
       "<table border=\"1\" class=\"dataframe\">\n",
       "  <thead>\n",
       "    <tr style=\"text-align: right;\">\n",
       "      <th></th>\n",
       "      <th>mean_fit_time</th>\n",
       "      <th>std_fit_time</th>\n",
       "      <th>mean_score_time</th>\n",
       "      <th>std_score_time</th>\n",
       "      <th>param_n_estimators</th>\n",
       "      <th>param_max_features</th>\n",
       "      <th>param_max_depth</th>\n",
       "      <th>params</th>\n",
       "      <th>split0_test_score</th>\n",
       "      <th>split1_test_score</th>\n",
       "      <th>split2_test_score</th>\n",
       "      <th>mean_test_score</th>\n",
       "      <th>std_test_score</th>\n",
       "      <th>rank_test_score</th>\n",
       "    </tr>\n",
       "  </thead>\n",
       "  <tbody>\n",
       "    <tr>\n",
       "      <th>0</th>\n",
       "      <td>0.736324</td>\n",
       "      <td>0.026644</td>\n",
       "      <td>0.034775</td>\n",
       "      <td>0.000113</td>\n",
       "      <td>10</td>\n",
       "      <td>sqrt</td>\n",
       "      <td>3</td>\n",
       "      <td>{'n_estimators': 10, 'max_features': 'sqrt', '...</td>\n",
       "      <td>0.74292</td>\n",
       "      <td>0.755825</td>\n",
       "      <td>0.744142</td>\n",
       "      <td>0.747629</td>\n",
       "      <td>0.005817</td>\n",
       "      <td>1</td>\n",
       "    </tr>\n",
       "  </tbody>\n",
       "</table>\n",
       "</div>"
      ],
      "text/plain": [
       "   mean_fit_time  std_fit_time  ...  std_test_score  rank_test_score\n",
       "0       0.736324      0.026644  ...        0.005817                1\n",
       "\n",
       "[1 rows x 14 columns]"
      ]
     },
     "execution_count": 51,
     "metadata": {},
     "output_type": "execute_result"
    }
   ],
   "source": [
    "df"
   ]
  },
  {
   "cell_type": "markdown",
   "metadata": {
    "id": "e1r9zN9yI-at"
   },
   "source": [
    "# Extra Credit: Plot a simple 3-point ROC curve for the model with the best parameters found in the previous step. Describe it. "
   ]
  },
  {
   "cell_type": "markdown",
   "metadata": {
    "id": "0jiROnM7-E0n"
   },
   "source": [
    "---"
   ]
  },
  {
   "cell_type": "markdown",
   "metadata": {},
   "source": [
    "<h1 style=\"color:red\"> Great !</h1>"
   ]
  }
 ],
 "metadata": {
  "colab": {
   "collapsed_sections": [],
   "include_colab_link": true,
   "name": "HW8-Dagney-HiggsbosonSearch.ipynb",
   "provenance": []
  },
  "kernelspec": {
   "display_name": "Python 3",
   "language": "python",
   "name": "python3"
  },
  "language_info": {
   "codemirror_mode": {
    "name": "ipython",
    "version": 3
   },
   "file_extension": ".py",
   "mimetype": "text/x-python",
   "name": "python",
   "nbconvert_exporter": "python",
   "pygments_lexer": "ipython3",
   "version": "3.6.8"
  }
 },
 "nbformat": 4,
 "nbformat_minor": 1
}
